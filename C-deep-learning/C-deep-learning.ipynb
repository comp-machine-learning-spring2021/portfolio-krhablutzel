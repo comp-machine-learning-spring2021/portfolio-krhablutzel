{
 "cells": [
  {
   "cell_type": "markdown",
   "id": "continental-poland",
   "metadata": {},
   "source": [
    "## Recurrent Neural Network\n",
    "Predict daily high and low temperatures?"
   ]
  },
  {
   "cell_type": "code",
   "execution_count": 83,
   "id": "amateur-round",
   "metadata": {},
   "outputs": [],
   "source": [
    "import pandas as pd\n",
    "import numpy as np\n",
    "import tensorflow as tf\n",
    "\n",
    "# workaround for MacOS/jupyter notebook bug w/ tensorflow\n",
    "# https://www.programmersought.com/article/69923598438/\n",
    "import os\n",
    "os.environ['KMP_DUPLICATE_LIB_OK']='True'"
   ]
  },
  {
   "cell_type": "code",
   "execution_count": 130,
   "id": "chemical-beatles",
   "metadata": {},
   "outputs": [],
   "source": [
    "np.random.seed(4471)\n",
    "# https://www.tensorflow.org/tutorials/load_data/numpy\n",
    "# https://www.tensorflow.org/tutorials/load_data/pandas_dataframe\n",
    "weather_pd = pd.read_csv('../data/weather.csv', index_col = 0)\n",
    "weather_pd = weather_pd.drop(['DAY', 'STP', 'GUST'], axis=1)\n",
    "weather_np = weather_pd.to_numpy()"
   ]
  },
  {
   "cell_type": "code",
   "execution_count": 85,
   "id": "planned-accuracy",
   "metadata": {},
   "outputs": [
    {
     "data": {
      "text/html": [
       "<div>\n",
       "<style scoped>\n",
       "    .dataframe tbody tr th:only-of-type {\n",
       "        vertical-align: middle;\n",
       "    }\n",
       "\n",
       "    .dataframe tbody tr th {\n",
       "        vertical-align: top;\n",
       "    }\n",
       "\n",
       "    .dataframe thead th {\n",
       "        text-align: right;\n",
       "    }\n",
       "</style>\n",
       "<table border=\"1\" class=\"dataframe\">\n",
       "  <thead>\n",
       "    <tr style=\"text-align: right;\">\n",
       "      <th></th>\n",
       "      <th>YEAR</th>\n",
       "      <th>MONTH</th>\n",
       "      <th>SEASON</th>\n",
       "      <th>TEMP</th>\n",
       "      <th>DEWP</th>\n",
       "      <th>SLP</th>\n",
       "      <th>VISIB</th>\n",
       "      <th>WDSP</th>\n",
       "      <th>MXSPD</th>\n",
       "      <th>MAX</th>\n",
       "      <th>MIN</th>\n",
       "      <th>PRCP</th>\n",
       "      <th>SNDP</th>\n",
       "    </tr>\n",
       "  </thead>\n",
       "  <tbody>\n",
       "    <tr>\n",
       "      <th>0</th>\n",
       "      <td>2000</td>\n",
       "      <td>1</td>\n",
       "      <td>0</td>\n",
       "      <td>47.6</td>\n",
       "      <td>38.1</td>\n",
       "      <td>1023.7</td>\n",
       "      <td>8.3</td>\n",
       "      <td>3.0</td>\n",
       "      <td>10.1</td>\n",
       "      <td>66.9</td>\n",
       "      <td>33.1</td>\n",
       "      <td>0.00</td>\n",
       "      <td>0.0</td>\n",
       "    </tr>\n",
       "    <tr>\n",
       "      <th>1</th>\n",
       "      <td>2000</td>\n",
       "      <td>1</td>\n",
       "      <td>0</td>\n",
       "      <td>55.3</td>\n",
       "      <td>46.3</td>\n",
       "      <td>1024.2</td>\n",
       "      <td>9.5</td>\n",
       "      <td>4.8</td>\n",
       "      <td>14.0</td>\n",
       "      <td>70.0</td>\n",
       "      <td>33.1</td>\n",
       "      <td>0.00</td>\n",
       "      <td>0.0</td>\n",
       "    </tr>\n",
       "    <tr>\n",
       "      <th>2</th>\n",
       "      <td>2000</td>\n",
       "      <td>1</td>\n",
       "      <td>0</td>\n",
       "      <td>62.6</td>\n",
       "      <td>55.4</td>\n",
       "      <td>1021.3</td>\n",
       "      <td>8.4</td>\n",
       "      <td>8.5</td>\n",
       "      <td>14.0</td>\n",
       "      <td>73.9</td>\n",
       "      <td>43.0</td>\n",
       "      <td>0.00</td>\n",
       "      <td>0.0</td>\n",
       "    </tr>\n",
       "    <tr>\n",
       "      <th>3</th>\n",
       "      <td>2000</td>\n",
       "      <td>1</td>\n",
       "      <td>0</td>\n",
       "      <td>65.2</td>\n",
       "      <td>58.6</td>\n",
       "      <td>1014.4</td>\n",
       "      <td>9.5</td>\n",
       "      <td>15.3</td>\n",
       "      <td>28.0</td>\n",
       "      <td>73.9</td>\n",
       "      <td>55.0</td>\n",
       "      <td>0.00</td>\n",
       "      <td>0.0</td>\n",
       "    </tr>\n",
       "    <tr>\n",
       "      <th>4</th>\n",
       "      <td>2000</td>\n",
       "      <td>1</td>\n",
       "      <td>0</td>\n",
       "      <td>45.7</td>\n",
       "      <td>30.9</td>\n",
       "      <td>1019.8</td>\n",
       "      <td>9.8</td>\n",
       "      <td>6.4</td>\n",
       "      <td>11.1</td>\n",
       "      <td>57.9</td>\n",
       "      <td>37.0</td>\n",
       "      <td>0.34</td>\n",
       "      <td>0.0</td>\n",
       "    </tr>\n",
       "  </tbody>\n",
       "</table>\n",
       "</div>"
      ],
      "text/plain": [
       "   YEAR  MONTH  SEASON  TEMP  DEWP     SLP  VISIB  WDSP  MXSPD   MAX   MIN  \\\n",
       "0  2000      1       0  47.6  38.1  1023.7    8.3   3.0   10.1  66.9  33.1   \n",
       "1  2000      1       0  55.3  46.3  1024.2    9.5   4.8   14.0  70.0  33.1   \n",
       "2  2000      1       0  62.6  55.4  1021.3    8.4   8.5   14.0  73.9  43.0   \n",
       "3  2000      1       0  65.2  58.6  1014.4    9.5  15.3   28.0  73.9  55.0   \n",
       "4  2000      1       0  45.7  30.9  1019.8    9.8   6.4   11.1  57.9  37.0   \n",
       "\n",
       "   PRCP  SNDP  \n",
       "0  0.00   0.0  \n",
       "1  0.00   0.0  \n",
       "2  0.00   0.0  \n",
       "3  0.00   0.0  \n",
       "4  0.34   0.0  "
      ]
     },
     "execution_count": 85,
     "metadata": {},
     "output_type": "execute_result"
    }
   ],
   "source": [
    "weather_pd.head()"
   ]
  },
  {
   "cell_type": "code",
   "execution_count": 86,
   "id": "a972f479",
   "metadata": {},
   "outputs": [
    {
     "data": {
      "text/plain": [
       "YEAR        int64\n",
       "MONTH       int64\n",
       "SEASON      int64\n",
       "TEMP      float64\n",
       "DEWP      float64\n",
       "SLP       float64\n",
       "VISIB     float64\n",
       "WDSP      float64\n",
       "MXSPD     float64\n",
       "MAX       float64\n",
       "MIN       float64\n",
       "PRCP      float64\n",
       "SNDP      float64\n",
       "dtype: object"
      ]
     },
     "execution_count": 86,
     "metadata": {},
     "output_type": "execute_result"
    }
   ],
   "source": [
    "weather_pd.dtypes"
   ]
  },
  {
   "cell_type": "code",
   "execution_count": 87,
   "id": "19ecab76",
   "metadata": {},
   "outputs": [
    {
     "name": "stdout",
     "output_type": "stream",
     "text": [
      "(7771,)\n"
     ]
    },
    {
     "data": {
      "text/plain": [
       "array([70., 74., 74., ..., 87., 85., 58.])"
      ]
     },
     "execution_count": 87,
     "metadata": {},
     "output_type": "execute_result"
    }
   ],
   "source": [
    "# next day's weather\n",
    "target = weather_pd[['MAX']].iloc[1:, :] # 'MIN'\n",
    "target = np.round(target.values.reshape(-1))\n",
    "print(target.shape)\n",
    "target"
   ]
  },
  {
   "cell_type": "code",
   "execution_count": 88,
   "id": "05a5e97f",
   "metadata": {},
   "outputs": [
    {
     "data": {
      "text/html": [
       "<div>\n",
       "<style scoped>\n",
       "    .dataframe tbody tr th:only-of-type {\n",
       "        vertical-align: middle;\n",
       "    }\n",
       "\n",
       "    .dataframe tbody tr th {\n",
       "        vertical-align: top;\n",
       "    }\n",
       "\n",
       "    .dataframe thead th {\n",
       "        text-align: right;\n",
       "    }\n",
       "</style>\n",
       "<table border=\"1\" class=\"dataframe\">\n",
       "  <thead>\n",
       "    <tr style=\"text-align: right;\">\n",
       "      <th></th>\n",
       "      <th>YEAR</th>\n",
       "      <th>MONTH</th>\n",
       "      <th>SEASON</th>\n",
       "      <th>TEMP</th>\n",
       "      <th>DEWP</th>\n",
       "      <th>SLP</th>\n",
       "      <th>VISIB</th>\n",
       "      <th>WDSP</th>\n",
       "      <th>MXSPD</th>\n",
       "      <th>MAX</th>\n",
       "      <th>MIN</th>\n",
       "      <th>PRCP</th>\n",
       "      <th>SNDP</th>\n",
       "    </tr>\n",
       "  </thead>\n",
       "  <tbody>\n",
       "    <tr>\n",
       "      <th>0</th>\n",
       "      <td>2000</td>\n",
       "      <td>1</td>\n",
       "      <td>0</td>\n",
       "      <td>47.6</td>\n",
       "      <td>38.1</td>\n",
       "      <td>1023.7</td>\n",
       "      <td>8.3</td>\n",
       "      <td>3.0</td>\n",
       "      <td>10.1</td>\n",
       "      <td>66.9</td>\n",
       "      <td>33.1</td>\n",
       "      <td>0.00</td>\n",
       "      <td>0.0</td>\n",
       "    </tr>\n",
       "    <tr>\n",
       "      <th>1</th>\n",
       "      <td>2000</td>\n",
       "      <td>1</td>\n",
       "      <td>0</td>\n",
       "      <td>55.3</td>\n",
       "      <td>46.3</td>\n",
       "      <td>1024.2</td>\n",
       "      <td>9.5</td>\n",
       "      <td>4.8</td>\n",
       "      <td>14.0</td>\n",
       "      <td>70.0</td>\n",
       "      <td>33.1</td>\n",
       "      <td>0.00</td>\n",
       "      <td>0.0</td>\n",
       "    </tr>\n",
       "    <tr>\n",
       "      <th>2</th>\n",
       "      <td>2000</td>\n",
       "      <td>1</td>\n",
       "      <td>0</td>\n",
       "      <td>62.6</td>\n",
       "      <td>55.4</td>\n",
       "      <td>1021.3</td>\n",
       "      <td>8.4</td>\n",
       "      <td>8.5</td>\n",
       "      <td>14.0</td>\n",
       "      <td>73.9</td>\n",
       "      <td>43.0</td>\n",
       "      <td>0.00</td>\n",
       "      <td>0.0</td>\n",
       "    </tr>\n",
       "    <tr>\n",
       "      <th>3</th>\n",
       "      <td>2000</td>\n",
       "      <td>1</td>\n",
       "      <td>0</td>\n",
       "      <td>65.2</td>\n",
       "      <td>58.6</td>\n",
       "      <td>1014.4</td>\n",
       "      <td>9.5</td>\n",
       "      <td>15.3</td>\n",
       "      <td>28.0</td>\n",
       "      <td>73.9</td>\n",
       "      <td>55.0</td>\n",
       "      <td>0.00</td>\n",
       "      <td>0.0</td>\n",
       "    </tr>\n",
       "    <tr>\n",
       "      <th>4</th>\n",
       "      <td>2000</td>\n",
       "      <td>1</td>\n",
       "      <td>0</td>\n",
       "      <td>45.7</td>\n",
       "      <td>30.9</td>\n",
       "      <td>1019.8</td>\n",
       "      <td>9.8</td>\n",
       "      <td>6.4</td>\n",
       "      <td>11.1</td>\n",
       "      <td>57.9</td>\n",
       "      <td>37.0</td>\n",
       "      <td>0.34</td>\n",
       "      <td>0.0</td>\n",
       "    </tr>\n",
       "  </tbody>\n",
       "</table>\n",
       "</div>"
      ],
      "text/plain": [
       "   YEAR  MONTH  SEASON  TEMP  DEWP     SLP  VISIB  WDSP  MXSPD   MAX   MIN  \\\n",
       "0  2000      1       0  47.6  38.1  1023.7    8.3   3.0   10.1  66.9  33.1   \n",
       "1  2000      1       0  55.3  46.3  1024.2    9.5   4.8   14.0  70.0  33.1   \n",
       "2  2000      1       0  62.6  55.4  1021.3    8.4   8.5   14.0  73.9  43.0   \n",
       "3  2000      1       0  65.2  58.6  1014.4    9.5  15.3   28.0  73.9  55.0   \n",
       "4  2000      1       0  45.7  30.9  1019.8    9.8   6.4   11.1  57.9  37.0   \n",
       "\n",
       "   PRCP  SNDP  \n",
       "0  0.00   0.0  \n",
       "1  0.00   0.0  \n",
       "2  0.00   0.0  \n",
       "3  0.00   0.0  \n",
       "4  0.34   0.0  "
      ]
     },
     "execution_count": 88,
     "metadata": {},
     "output_type": "execute_result"
    }
   ],
   "source": [
    "# today's weather\n",
    "feature = weather_pd.iloc[:-1, :] # don't have next day on last day\n",
    "feature.head()"
   ]
  },
  {
   "cell_type": "code",
   "execution_count": 89,
   "id": "818fd710",
   "metadata": {},
   "outputs": [],
   "source": [
    "weather = tf.data.Dataset.from_tensor_slices((feature.values, target))"
   ]
  },
  {
   "cell_type": "code",
   "execution_count": 90,
   "id": "a586b556",
   "metadata": {},
   "outputs": [
    {
     "name": "stdout",
     "output_type": "stream",
     "text": [
      "Features: [2.0000e+03 1.0000e+00 0.0000e+00 4.7600e+01 3.8100e+01 1.0237e+03\n",
      " 8.3000e+00 3.0000e+00 1.0100e+01 6.6900e+01 3.3100e+01 0.0000e+00\n",
      " 0.0000e+00], Target: 70.0\n",
      "Features: [2.0000e+03 1.0000e+00 0.0000e+00 5.5300e+01 4.6300e+01 1.0242e+03\n",
      " 9.5000e+00 4.8000e+00 1.4000e+01 7.0000e+01 3.3100e+01 0.0000e+00\n",
      " 0.0000e+00], Target: 74.0\n",
      "Features: [2.0000e+03 1.0000e+00 0.0000e+00 6.2600e+01 5.5400e+01 1.0213e+03\n",
      " 8.4000e+00 8.5000e+00 1.4000e+01 7.3900e+01 4.3000e+01 0.0000e+00\n",
      " 0.0000e+00], Target: 74.0\n",
      "Features: [2.0000e+03 1.0000e+00 0.0000e+00 6.5200e+01 5.8600e+01 1.0144e+03\n",
      " 9.5000e+00 1.5300e+01 2.8000e+01 7.3900e+01 5.5000e+01 0.0000e+00\n",
      " 0.0000e+00], Target: 58.0\n",
      "Features: [2.0000e+03 1.0000e+00 0.0000e+00 4.5700e+01 3.0900e+01 1.0198e+03\n",
      " 9.8000e+00 6.4000e+00 1.1100e+01 5.7900e+01 3.7000e+01 3.4000e-01\n",
      " 0.0000e+00], Target: 51.0\n"
     ]
    }
   ],
   "source": [
    "for feat, targ in weather.take(5):\n",
    "    print ('Features: {}, Target: {}'.format(feat, targ))"
   ]
  },
  {
   "cell_type": "code",
   "execution_count": 91,
   "id": "097eae91",
   "metadata": {},
   "outputs": [
    {
     "data": {
      "text/plain": [
       "<BatchDataset shapes: ((4, 13), (4,)), types: (tf.float64, tf.float64)>"
      ]
     },
     "execution_count": 91,
     "metadata": {},
     "output_type": "execute_result"
    }
   ],
   "source": [
    "# batches of days - ues previous 3 days to predict 4th day?\n",
    "days_in_batches = 4 # change to 3 later\n",
    "batches = weather.batch(days_in_batches, drop_remainder=True)\n",
    "batches"
   ]
  },
  {
   "cell_type": "code",
   "execution_count": 92,
   "id": "1c5f86a5",
   "metadata": {},
   "outputs": [
    {
     "name": "stdout",
     "output_type": "stream",
     "text": [
      "Input data:  tf.Tensor(\n",
      "[[2.0000e+03 1.0000e+00 0.0000e+00 4.7600e+01 3.8100e+01 1.0237e+03\n",
      "  8.3000e+00 3.0000e+00 1.0100e+01 6.6900e+01 3.3100e+01 0.0000e+00\n",
      "  0.0000e+00]\n",
      " [2.0000e+03 1.0000e+00 0.0000e+00 5.5300e+01 4.6300e+01 1.0242e+03\n",
      "  9.5000e+00 4.8000e+00 1.4000e+01 7.0000e+01 3.3100e+01 0.0000e+00\n",
      "  0.0000e+00]\n",
      " [2.0000e+03 1.0000e+00 0.0000e+00 6.2600e+01 5.5400e+01 1.0213e+03\n",
      "  8.4000e+00 8.5000e+00 1.4000e+01 7.3900e+01 4.3000e+01 0.0000e+00\n",
      "  0.0000e+00]\n",
      " [2.0000e+03 1.0000e+00 0.0000e+00 6.5200e+01 5.8600e+01 1.0144e+03\n",
      "  9.5000e+00 1.5300e+01 2.8000e+01 7.3900e+01 5.5000e+01 0.0000e+00\n",
      "  0.0000e+00]], shape=(4, 13), dtype=float64)\n",
      "Target data:  tf.Tensor([70. 74. 74. 58.], shape=(4,), dtype=float64)\n",
      "Input data:  tf.Tensor(\n",
      "[[2.0000e+03 1.0000e+00 0.0000e+00 4.5700e+01 3.0900e+01 1.0198e+03\n",
      "  9.8000e+00 6.4000e+00 1.1100e+01 5.7900e+01 3.7000e+01 3.4000e-01\n",
      "  0.0000e+00]\n",
      " [2.0000e+03 1.0000e+00 0.0000e+00 3.6100e+01 2.7200e+01 1.0324e+03\n",
      "  9.9000e+00 1.8000e+00 7.0000e+00 5.1100e+01 2.5000e+01 0.0000e+00\n",
      "  0.0000e+00]\n",
      " [2.0000e+03 1.0000e+00 0.0000e+00 4.7400e+01 3.5000e+01 1.0275e+03\n",
      "  9.2000e+00 3.2000e+00 1.0100e+01 5.7900e+01 2.5000e+01 4.0000e-02\n",
      "  0.0000e+00]\n",
      " [2.0000e+03 1.0000e+00 0.0000e+00 3.8600e+01 2.5200e+01 1.0283e+03\n",
      "  9.9000e+00 1.7000e+00 5.1000e+00 5.7900e+01 2.6100e+01 8.0000e-02\n",
      "  0.0000e+00]], shape=(4, 13), dtype=float64)\n",
      "Target data:  tf.Tensor([51. 58. 58. 54.], shape=(4,), dtype=float64)\n",
      "Input data:  tf.Tensor(\n",
      "[[2.0000e+03 1.0000e+00 0.0000e+00 4.4300e+01 3.9000e+01 1.0214e+03\n",
      "  6.9000e+00 3.2000e+00 6.0000e+00 5.4000e+01 2.6100e+01 4.0000e-02\n",
      "  0.0000e+00]\n",
      " [2.0000e+03 1.0000e+00 0.0000e+00 5.6900e+01 5.4200e+01 1.0098e+03\n",
      "  4.7000e+00 9.4000e+00 2.2000e+01 6.6000e+01 4.1000e+01 5.9000e-01\n",
      "  0.0000e+00]\n",
      " [2.0000e+03 1.0000e+00 0.0000e+00 5.4900e+01 3.3600e+01 1.0113e+03\n",
      "  9.9000e+00 1.1400e+01 2.4100e+01 7.0000e+01 4.3000e+01 9.0000e-01\n",
      "  0.0000e+00]\n",
      " [2.0000e+03 1.0000e+00 0.0000e+00 4.8200e+01 1.9800e+01 1.0219e+03\n",
      "  9.9000e+00 3.4000e+00 1.1100e+01 6.2100e+01 3.0200e+01 0.0000e+00\n",
      "  0.0000e+00]], shape=(4, 13), dtype=float64)\n",
      "Target data:  tf.Tensor([66. 70. 62. 70.], shape=(4,), dtype=float64)\n",
      "Input data:  tf.Tensor(\n",
      "[[2.0000e+03 1.0000e+00 0.0000e+00 5.4700e+01 3.6800e+01 1.0162e+03\n",
      "  1.0000e+01 9.8000e+00 1.9000e+01 7.0000e+01 4.6900e+01 0.0000e+00\n",
      "  0.0000e+00]\n",
      " [2.0000e+03 1.0000e+00 0.0000e+00 3.5900e+01 1.0200e+01 1.0320e+03\n",
      "  9.9000e+00 8.4000e+00 1.9000e+01 5.2000e+01 2.8000e+01 0.0000e+00\n",
      "  0.0000e+00]\n",
      " [2.0000e+03 1.0000e+00 0.0000e+00 3.0200e+01 8.8000e+00 1.0390e+03\n",
      "  9.9000e+00 3.0000e+00 8.9000e+00 4.4100e+01 1.9000e+01 0.0000e+00\n",
      "  0.0000e+00]\n",
      " [2.0000e+03 1.0000e+00 0.0000e+00 4.5600e+01 2.1200e+01 1.0274e+03\n",
      "  9.8000e+00 1.1000e+01 1.8100e+01 6.3000e+01 3.6000e+01 0.0000e+00\n",
      "  0.0000e+00]], shape=(4, 13), dtype=float64)\n",
      "Target data:  tf.Tensor([52. 44. 63. 63.], shape=(4,), dtype=float64)\n",
      "Input data:  tf.Tensor(\n",
      "[[2.0000e+03 1.0000e+00 0.0000e+00 4.3000e+01 1.5500e+01 1.0270e+03\n",
      "  9.9000e+00 6.8000e+00 1.5000e+01 6.3000e+01 3.2000e+01 0.0000e+00\n",
      "  0.0000e+00]\n",
      " [2.0000e+03 1.0000e+00 0.0000e+00 2.6600e+01 1.4000e+01 1.0235e+03\n",
      "  5.1000e+00 3.6000e+00 8.0000e+00 3.3100e+01 2.1200e+01 9.0000e-02\n",
      "  3.1000e+00]\n",
      " [2.0000e+03 1.0000e+00 0.0000e+00 3.0500e+01 2.7200e+01 1.0168e+03\n",
      "  5.4000e+00 2.7000e+00 8.0000e+00 3.9900e+01 2.1900e+01 1.0000e-01\n",
      "  2.0000e+00]\n",
      " [2.0000e+03 1.0000e+00 0.0000e+00 3.5700e+01 2.8400e+01 1.0061e+03\n",
      "  6.3000e+00 7.1000e+00 1.5000e+01 4.5000e+01 2.4100e+01 2.6000e-01\n",
      "  2.0000e+00]], shape=(4, 13), dtype=float64)\n",
      "Target data:  tf.Tensor([33. 40. 45. 45.], shape=(4,), dtype=float64)\n"
     ]
    }
   ],
   "source": [
    "# see batches of days\n",
    "for input_ex, target_ex in batches.take(5):\n",
    "    print('Input data: ', input_ex)\n",
    "    print('Target data: ', target_ex)"
   ]
  },
  {
   "cell_type": "code",
   "execution_count": 93,
   "id": "8b8c8f74",
   "metadata": {},
   "outputs": [
    {
     "name": "stdout",
     "output_type": "stream",
     "text": [
      "Step    0\n",
      "  input: [2.000e+03 1.000e+00 0.000e+00 4.300e+01 1.550e+01 1.027e+03 9.900e+00\n",
      " 6.800e+00 1.500e+01 6.300e+01 3.200e+01 0.000e+00 0.000e+00]\n",
      "  expected output: 33.0\n",
      "Step    1\n",
      "  input: [2.0000e+03 1.0000e+00 0.0000e+00 2.6600e+01 1.4000e+01 1.0235e+03\n",
      " 5.1000e+00 3.6000e+00 8.0000e+00 3.3100e+01 2.1200e+01 9.0000e-02\n",
      " 3.1000e+00]\n",
      "  expected output: 40.0\n",
      "Step    2\n",
      "  input: [2.0000e+03 1.0000e+00 0.0000e+00 3.0500e+01 2.7200e+01 1.0168e+03\n",
      " 5.4000e+00 2.7000e+00 8.0000e+00 3.9900e+01 2.1900e+01 1.0000e-01\n",
      " 2.0000e+00]\n",
      "  expected output: 45.0\n",
      "Step    3\n",
      "  input: [2.0000e+03 1.0000e+00 0.0000e+00 3.5700e+01 2.8400e+01 1.0061e+03\n",
      " 6.3000e+00 7.1000e+00 1.5000e+01 4.5000e+01 2.4100e+01 2.6000e-01\n",
      " 2.0000e+00]\n",
      "  expected output: 45.0\n"
     ]
    }
   ],
   "source": [
    "# see expected output for each input\n",
    "for i, (input_idx, target_idx) in enumerate(zip(input_ex[:5], target_ex[:5])):\n",
    "    print(\"Step {:4d}\".format(i))\n",
    "    print(\"  input: {}\".format(input_idx))\n",
    "    print(\"  expected output: {}\".format(target_idx))"
   ]
  },
  {
   "cell_type": "code",
   "execution_count": 94,
   "id": "261564a9",
   "metadata": {},
   "outputs": [
    {
     "data": {
      "text/plain": [
       "<BatchDataset shapes: ((64, 4, 13), (64, 4)), types: (tf.float64, tf.float64)>"
      ]
     },
     "execution_count": 94,
     "metadata": {},
     "output_type": "execute_result"
    }
   ],
   "source": [
    "# make batches of the 4-day batches\n",
    "# Batch size\n",
    "BATCH_SIZE = 64\n",
    "BUFFER_SIZE = 10000\n",
    "\n",
    "batch_weather = batches.shuffle(BUFFER_SIZE).batch(BATCH_SIZE, drop_remainder=True)\n",
    "\n",
    "batch_weather"
   ]
  },
  {
   "cell_type": "markdown",
   "id": "5674d0f1",
   "metadata": {},
   "source": [
    "## Build the Model"
   ]
  },
  {
   "cell_type": "code",
   "execution_count": 111,
   "id": "fcb30691",
   "metadata": {},
   "outputs": [],
   "source": [
    "# how many possible outputs\n",
    "num_output_vals = int(max(target)) + 5 # maximum temperature observed (105) plus some margin\n",
    "\n",
    "# Number of RNN units\n",
    "rnn_units = 16"
   ]
  },
  {
   "cell_type": "code",
   "execution_count": 112,
   "id": "fbe8a4e0",
   "metadata": {},
   "outputs": [],
   "source": [
    "def build_model(rnn_units, num_output_vals, batch_size):\n",
    "    model = tf.keras.Sequential([\n",
    "        tf.keras.layers.GRU(rnn_units,\n",
    "                            return_sequences=True,\n",
    "                            stateful=True,\n",
    "                            recurrent_initializer='glorot_uniform',\n",
    "                            batch_input_shape = (64, 4, 13)),\n",
    "        tf.keras.layers.Dense(num_output_vals)\n",
    "    ])\n",
    "    return model"
   ]
  },
  {
   "cell_type": "code",
   "execution_count": 113,
   "id": "c0a4670a",
   "metadata": {},
   "outputs": [],
   "source": [
    "model = build_model(rnn_units, num_output_vals, BATCH_SIZE)"
   ]
  },
  {
   "cell_type": "code",
   "execution_count": 133,
   "id": "c2e715ce",
   "metadata": {},
   "outputs": [],
   "source": [
    "# set floats to float64 to avoid warning message\n",
    "tf.keras.backend.set_floatx('float64')"
   ]
  },
  {
   "cell_type": "markdown",
   "id": "9a3ebe10",
   "metadata": {},
   "source": [
    "## Try the Model"
   ]
  },
  {
   "cell_type": "code",
   "execution_count": 114,
   "id": "1519be55",
   "metadata": {},
   "outputs": [
    {
     "name": "stdout",
     "output_type": "stream",
     "text": [
      "WARNING:tensorflow:Layer gru_5 is casting an input tensor from dtype float64 to the layer's dtype of float32, which is new behavior in TensorFlow 2.  The layer has dtype float32 because it's dtype defaults to floatx.\n",
      "\n",
      "If you intended to run this layer in float32, you can safely ignore this warning. If in doubt, this warning is likely only an issue if you are porting a TensorFlow 1.X model to TensorFlow 2.\n",
      "\n",
      "To change all layers to have dtype float64 by default, call `tf.keras.backend.set_floatx('float64')`. To change just this layer, pass dtype='float64' to the layer constructor. If you are the author of this layer, you can disable autocasting by passing autocast=False to the base Layer constructor.\n",
      "\n",
      "(64, 4, 110) # (batch_size, days_in_batches, num_output_vals)\n"
     ]
    }
   ],
   "source": [
    "for input_example_batch, target_example_batch in batch_weather.take(1):\n",
    "    example_batch_predictions = model(input_example_batch)\n",
    "    print(example_batch_predictions.shape, \"# (batch_size, days_in_batches, num_output_vals)\")"
   ]
  },
  {
   "cell_type": "code",
   "execution_count": 115,
   "id": "d71a663b",
   "metadata": {},
   "outputs": [
    {
     "data": {
      "text/plain": [
       "TensorShape([64, 4])"
      ]
     },
     "execution_count": 115,
     "metadata": {},
     "output_type": "execute_result"
    }
   ],
   "source": [
    "target_example_batch.shape # 512 total # need another dim??"
   ]
  },
  {
   "cell_type": "code",
   "execution_count": 116,
   "id": "281aeb92",
   "metadata": {},
   "outputs": [
    {
     "data": {
      "text/plain": [
       "TensorShape([64, 4, 13])"
      ]
     },
     "execution_count": 116,
     "metadata": {},
     "output_type": "execute_result"
    }
   ],
   "source": [
    "input_example_batch.shape # 64*52=3328"
   ]
  },
  {
   "cell_type": "code",
   "execution_count": 117,
   "id": "badc52bd",
   "metadata": {},
   "outputs": [
    {
     "data": {
      "text/plain": [
       "TensorShape([64, 4, 110])"
      ]
     },
     "execution_count": 117,
     "metadata": {},
     "output_type": "execute_result"
    }
   ],
   "source": [
    "example_batch_predictions.shape"
   ]
  },
  {
   "cell_type": "code",
   "execution_count": 118,
   "id": "26c3bb4d",
   "metadata": {},
   "outputs": [
    {
     "name": "stdout",
     "output_type": "stream",
     "text": [
      "Model: \"sequential_5\"\n",
      "_________________________________________________________________\n",
      "Layer (type)                 Output Shape              Param #   \n",
      "=================================================================\n",
      "gru_5 (GRU)                  (64, 4, 16)               1488      \n",
      "_________________________________________________________________\n",
      "dense_5 (Dense)              (64, 4, 110)              1870      \n",
      "=================================================================\n",
      "Total params: 3,358\n",
      "Trainable params: 3,358\n",
      "Non-trainable params: 0\n",
      "_________________________________________________________________\n"
     ]
    }
   ],
   "source": [
    "model.summary()"
   ]
  },
  {
   "cell_type": "code",
   "execution_count": 119,
   "id": "c47eaf25",
   "metadata": {},
   "outputs": [
    {
     "data": {
      "text/plain": [
       "array([ 5, 84,  1, 71])"
      ]
     },
     "execution_count": 119,
     "metadata": {},
     "output_type": "execute_result"
    }
   ],
   "source": [
    "# example predictions, all terrible bc model not trained\n",
    "sampled_indices = tf.random.categorical(example_batch_predictions[0], num_samples=1)\n",
    "sampled_indices = tf.squeeze(sampled_indices,axis=-1).numpy()\n",
    "sampled_indices"
   ]
  },
  {
   "cell_type": "code",
   "execution_count": 120,
   "id": "447913c0",
   "metadata": {},
   "outputs": [
    {
     "name": "stdout",
     "output_type": "stream",
     "text": [
      "Input: \n",
      " tf.Tensor(\n",
      "[[2.0050e+03 2.0000e+00 0.0000e+00 3.6900e+01 2.8300e+01 1.0260e+03\n",
      "  6.6000e+00 5.6000e+00 8.9000e+00 4.8000e+01 2.5000e+01 3.0000e-02\n",
      "  0.0000e+00]\n",
      " [2.0050e+03 2.0000e+00 0.0000e+00 3.7800e+01 3.1800e+01 1.0230e+03\n",
      "  5.2000e+00 6.4000e+00 1.3000e+01 4.8900e+01 3.2000e+01 5.0000e-01\n",
      "  0.0000e+00]\n",
      " [2.0050e+03 2.0000e+00 0.0000e+00 4.4200e+01 2.8400e+01 1.0264e+03\n",
      "  1.0000e+01 5.3000e+00 1.2000e+01 5.9000e+01 3.2000e+01 0.0000e+00\n",
      "  0.0000e+00]\n",
      " [2.0050e+03 2.0000e+00 0.0000e+00 4.3800e+01 2.7300e+01 1.0311e+03\n",
      "  1.0000e+01 4.1000e+00 1.1100e+01 6.2100e+01 2.8000e+01 0.0000e+00\n",
      "  0.0000e+00]], shape=(4, 13), dtype=float64)\n",
      "\n",
      "Next Day Predictions: \n",
      " [ 5 84  1 71]\n"
     ]
    }
   ],
   "source": [
    "# show input and output\n",
    "print(\"Input: \\n\", input_example_batch[0])\n",
    "print()\n",
    "print(\"Next Day Predictions: \\n\", sampled_indices)"
   ]
  },
  {
   "cell_type": "code",
   "execution_count": 121,
   "id": "7234afcd",
   "metadata": {},
   "outputs": [
    {
     "name": "stdout",
     "output_type": "stream",
     "text": [
      "Prediction shape:  (64, 4, 110)  # (batch_size, days_in_batches, num_output_vals)\n",
      "Mean loss:         4.6801605\n"
     ]
    }
   ],
   "source": [
    "# do we need logits for loss function? from_logits=True\n",
    "loss = tf.losses.SparseCategoricalCrossentropy(from_logits=True)\n",
    "example_batch_loss = loss(target_example_batch, example_batch_predictions)\n",
    "mean_loss = example_batch_loss.numpy().mean()\n",
    "print(\"Prediction shape: \", example_batch_predictions.shape, \" # (batch_size, days_in_batches, num_output_vals)\")\n",
    "print(\"Mean loss:        \", mean_loss)\n",
    "#model.compile(optimizer='adam', loss='sparse_categorical_crossentropy')"
   ]
  },
  {
   "cell_type": "code",
   "execution_count": 122,
   "id": "e5df3b60",
   "metadata": {},
   "outputs": [
    {
     "data": {
      "text/plain": [
       "107.78738"
      ]
     },
     "execution_count": 122,
     "metadata": {},
     "output_type": "execute_result"
    }
   ],
   "source": [
    "# exponential of the mean loss ~= num outputs\n",
    "tf.exp(mean_loss).numpy()"
   ]
  },
  {
   "cell_type": "code",
   "execution_count": 123,
   "id": "28e10a0f",
   "metadata": {},
   "outputs": [],
   "source": [
    "model.compile(optimizer='adam', loss=loss)"
   ]
  },
  {
   "cell_type": "markdown",
   "id": "f0287fe1",
   "metadata": {},
   "source": [
    "## Configure Checkpoints\n",
    "save checkpoints during training"
   ]
  },
  {
   "cell_type": "code",
   "execution_count": 124,
   "id": "8d55be47",
   "metadata": {},
   "outputs": [],
   "source": [
    "# Directory where the checkpoints will be saved\n",
    "checkpoint_dir = './training-checkpoints'\n",
    "# Name of the checkpoint files\n",
    "checkpoint_prefix = os.path.join(checkpoint_dir, \"ckpt_{epoch}\")\n",
    "\n",
    "checkpoint_callback = tf.keras.callbacks.ModelCheckpoint(\n",
    "    filepath=checkpoint_prefix,\n",
    "    save_weights_only=True)"
   ]
  },
  {
   "cell_type": "markdown",
   "id": "f1785166",
   "metadata": {},
   "source": [
    "## Train Model"
   ]
  },
  {
   "cell_type": "code",
   "execution_count": 125,
   "id": "72e11a23",
   "metadata": {},
   "outputs": [],
   "source": [
    "EPOCHS = 30"
   ]
  },
  {
   "cell_type": "code",
   "execution_count": 126,
   "id": "e721195d",
   "metadata": {},
   "outputs": [
    {
     "name": "stdout",
     "output_type": "stream",
     "text": [
      "Epoch 1/30\n",
      "30/30 [==============================] - 3s 84ms/step - loss: 4.5788\n",
      "Epoch 2/30\n",
      "30/30 [==============================] - 0s 13ms/step - loss: 4.4154\n",
      "Epoch 3/30\n",
      "30/30 [==============================] - 0s 13ms/step - loss: 4.3084\n",
      "Epoch 4/30\n",
      "30/30 [==============================] - 0s 13ms/step - loss: 4.2402\n",
      "Epoch 5/30\n",
      "30/30 [==============================] - 0s 13ms/step - loss: 4.1995\n",
      "Epoch 6/30\n",
      "30/30 [==============================] - 0s 13ms/step - loss: 4.1690\n",
      "Epoch 7/30\n",
      "30/30 [==============================] - 0s 14ms/step - loss: 4.1505\n",
      "Epoch 8/30\n",
      "30/30 [==============================] - 0s 14ms/step - loss: 4.1349\n",
      "Epoch 9/30\n",
      "30/30 [==============================] - 0s 13ms/step - loss: 4.1223\n",
      "Epoch 10/30\n",
      "30/30 [==============================] - 0s 14ms/step - loss: 4.1113\n",
      "Epoch 11/30\n",
      "30/30 [==============================] - 0s 13ms/step - loss: 4.1103\n",
      "Epoch 12/30\n",
      "30/30 [==============================] - 0s 14ms/step - loss: 4.1056\n",
      "Epoch 13/30\n",
      "30/30 [==============================] - 0s 14ms/step - loss: 4.1032\n",
      "Epoch 14/30\n",
      "30/30 [==============================] - 0s 15ms/step - loss: 4.0994\n",
      "Epoch 15/30\n",
      "30/30 [==============================] - 0s 16ms/step - loss: 4.0982\n",
      "Epoch 16/30\n",
      "30/30 [==============================] - 1s 17ms/step - loss: 4.0928\n",
      "Epoch 17/30\n",
      "30/30 [==============================] - 0s 17ms/step - loss: 4.0887\n",
      "Epoch 18/30\n",
      "30/30 [==============================] - 0s 16ms/step - loss: 4.0888\n",
      "Epoch 19/30\n",
      "30/30 [==============================] - 0s 16ms/step - loss: 4.0905\n",
      "Epoch 20/30\n",
      "30/30 [==============================] - 0s 16ms/step - loss: 4.0829\n",
      "Epoch 21/30\n",
      "30/30 [==============================] - 0s 16ms/step - loss: 4.0869\n",
      "Epoch 22/30\n",
      "30/30 [==============================] - 0s 15ms/step - loss: 4.0848\n",
      "Epoch 23/30\n",
      "30/30 [==============================] - 0s 15ms/step - loss: 4.0824\n",
      "Epoch 24/30\n",
      "30/30 [==============================] - 0s 15ms/step - loss: 4.0818\n",
      "Epoch 25/30\n",
      "30/30 [==============================] - 0s 15ms/step - loss: 4.0848\n",
      "Epoch 26/30\n",
      "30/30 [==============================] - 0s 15ms/step - loss: 4.0807\n",
      "Epoch 27/30\n",
      "30/30 [==============================] - 0s 15ms/step - loss: 4.0785\n",
      "Epoch 28/30\n",
      "30/30 [==============================] - 0s 15ms/step - loss: 4.0814\n",
      "Epoch 29/30\n",
      "30/30 [==============================] - 0s 15ms/step - loss: 4.0802\n",
      "Epoch 30/30\n",
      "30/30 [==============================] - 0s 15ms/step - loss: 4.0790\n"
     ]
    }
   ],
   "source": [
    "history = model.fit(batch_weather, epochs=EPOCHS, callbacks=[checkpoint_callback])"
   ]
  },
  {
   "cell_type": "markdown",
   "id": "3e34eac2",
   "metadata": {},
   "source": [
    "## Restore Latest Checkpoint"
   ]
  },
  {
   "cell_type": "code",
   "execution_count": 127,
   "id": "b34e7984",
   "metadata": {},
   "outputs": [
    {
     "name": "stdout",
     "output_type": "stream",
     "text": [
      "Model: \"sequential_6\"\n",
      "_________________________________________________________________\n",
      "Layer (type)                 Output Shape              Param #   \n",
      "=================================================================\n",
      "gru_6 (GRU)                  (64, 4, 16)               1488      \n",
      "_________________________________________________________________\n",
      "dense_6 (Dense)              (64, 4, 110)              1870      \n",
      "=================================================================\n",
      "Total params: 3,358\n",
      "Trainable params: 3,358\n",
      "Non-trainable params: 0\n",
      "_________________________________________________________________\n"
     ]
    }
   ],
   "source": [
    "tf.train.latest_checkpoint(checkpoint_dir)\n",
    "\n",
    "model = build_model(rnn_units, num_output_vals, batch_size=1)\n",
    "model.load_weights(tf.train.latest_checkpoint(checkpoint_dir))\n",
    "model.build(tf.TensorShape([1, None]))\n",
    "\n",
    "model.summary()"
   ]
  },
  {
   "cell_type": "code",
   "execution_count": 140,
   "id": "681d7456",
   "metadata": {},
   "outputs": [
    {
     "data": {
      "text/plain": [
       "<tf.Tensor: id=17464, shape=(4, 13), dtype=float64, numpy=\n",
       "array([[2.0050e+03, 2.0000e+00, 0.0000e+00, 3.6900e+01, 2.8300e+01,\n",
       "        1.0260e+03, 6.6000e+00, 5.6000e+00, 8.9000e+00, 4.8000e+01,\n",
       "        2.5000e+01, 3.0000e-02, 0.0000e+00],\n",
       "       [2.0050e+03, 2.0000e+00, 0.0000e+00, 3.7800e+01, 3.1800e+01,\n",
       "        1.0230e+03, 5.2000e+00, 6.4000e+00, 1.3000e+01, 4.8900e+01,\n",
       "        3.2000e+01, 5.0000e-01, 0.0000e+00],\n",
       "       [2.0050e+03, 2.0000e+00, 0.0000e+00, 4.4200e+01, 2.8400e+01,\n",
       "        1.0264e+03, 1.0000e+01, 5.3000e+00, 1.2000e+01, 5.9000e+01,\n",
       "        3.2000e+01, 0.0000e+00, 0.0000e+00],\n",
       "       [2.0050e+03, 2.0000e+00, 0.0000e+00, 4.3800e+01, 2.7300e+01,\n",
       "        1.0311e+03, 1.0000e+01, 4.1000e+00, 1.1100e+01, 6.2100e+01,\n",
       "        2.8000e+01, 0.0000e+00, 0.0000e+00]])>"
      ]
     },
     "execution_count": 140,
     "metadata": {},
     "output_type": "execute_result"
    }
   ],
   "source": [
    "# weather_np[0, :]\n",
    "input_example_batch[0]"
   ]
  },
  {
   "cell_type": "code",
   "execution_count": 142,
   "id": "cd6056e0",
   "metadata": {},
   "outputs": [
    {
     "ename": "ValueError",
     "evalue": "Shape (13, 4) must have rank at least 3",
     "output_type": "error",
     "traceback": [
      "\u001b[0;31m---------------------------------------------------------------------------\u001b[0m",
      "\u001b[0;31mValueError\u001b[0m                                Traceback (most recent call last)",
      "\u001b[0;32m<ipython-input-142-c5ca619cb6a7>\u001b[0m in \u001b[0;36m<module>\u001b[0;34m\u001b[0m\n\u001b[1;32m      1\u001b[0m \u001b[0mmodel\u001b[0m\u001b[0;34m.\u001b[0m\u001b[0mreset_states\u001b[0m\u001b[0;34m(\u001b[0m\u001b[0;34m)\u001b[0m\u001b[0;34m\u001b[0m\u001b[0;34m\u001b[0m\u001b[0m\n\u001b[0;32m----> 2\u001b[0;31m \u001b[0mmodel\u001b[0m\u001b[0;34m(\u001b[0m\u001b[0minput_example_batch\u001b[0m\u001b[0;34m[\u001b[0m\u001b[0;36m0\u001b[0m\u001b[0;34m]\u001b[0m\u001b[0;34m)\u001b[0m\u001b[0;34m\u001b[0m\u001b[0;34m\u001b[0m\u001b[0m\n\u001b[0m",
      "\u001b[0;32m/opt/anaconda3/envs/ml-tensor/lib/python3.7/site-packages/tensorflow_core/python/keras/engine/base_layer.py\u001b[0m in \u001b[0;36m__call__\u001b[0;34m(self, inputs, *args, **kwargs)\u001b[0m\n\u001b[1;32m    889\u001b[0m           with base_layer_utils.autocast_context_manager(\n\u001b[1;32m    890\u001b[0m               self._compute_dtype):\n\u001b[0;32m--> 891\u001b[0;31m             \u001b[0moutputs\u001b[0m \u001b[0;34m=\u001b[0m \u001b[0mself\u001b[0m\u001b[0;34m.\u001b[0m\u001b[0mcall\u001b[0m\u001b[0;34m(\u001b[0m\u001b[0mcast_inputs\u001b[0m\u001b[0;34m,\u001b[0m \u001b[0;34m*\u001b[0m\u001b[0margs\u001b[0m\u001b[0;34m,\u001b[0m \u001b[0;34m**\u001b[0m\u001b[0mkwargs\u001b[0m\u001b[0;34m)\u001b[0m\u001b[0;34m\u001b[0m\u001b[0;34m\u001b[0m\u001b[0m\n\u001b[0m\u001b[1;32m    892\u001b[0m           \u001b[0mself\u001b[0m\u001b[0;34m.\u001b[0m\u001b[0m_handle_activity_regularization\u001b[0m\u001b[0;34m(\u001b[0m\u001b[0minputs\u001b[0m\u001b[0;34m,\u001b[0m \u001b[0moutputs\u001b[0m\u001b[0;34m)\u001b[0m\u001b[0;34m\u001b[0m\u001b[0;34m\u001b[0m\u001b[0m\n\u001b[1;32m    893\u001b[0m           \u001b[0mself\u001b[0m\u001b[0;34m.\u001b[0m\u001b[0m_set_mask_metadata\u001b[0m\u001b[0;34m(\u001b[0m\u001b[0minputs\u001b[0m\u001b[0;34m,\u001b[0m \u001b[0moutputs\u001b[0m\u001b[0;34m,\u001b[0m \u001b[0minput_masks\u001b[0m\u001b[0;34m)\u001b[0m\u001b[0;34m\u001b[0m\u001b[0;34m\u001b[0m\u001b[0m\n",
      "\u001b[0;32m/opt/anaconda3/envs/ml-tensor/lib/python3.7/site-packages/tensorflow_core/python/keras/engine/sequential.py\u001b[0m in \u001b[0;36mcall\u001b[0;34m(self, inputs, training, mask)\u001b[0m\n\u001b[1;32m    254\u001b[0m       \u001b[0;32mif\u001b[0m \u001b[0;32mnot\u001b[0m \u001b[0mself\u001b[0m\u001b[0;34m.\u001b[0m\u001b[0mbuilt\u001b[0m\u001b[0;34m:\u001b[0m\u001b[0;34m\u001b[0m\u001b[0;34m\u001b[0m\u001b[0m\n\u001b[1;32m    255\u001b[0m         \u001b[0mself\u001b[0m\u001b[0;34m.\u001b[0m\u001b[0m_init_graph_network\u001b[0m\u001b[0;34m(\u001b[0m\u001b[0mself\u001b[0m\u001b[0;34m.\u001b[0m\u001b[0minputs\u001b[0m\u001b[0;34m,\u001b[0m \u001b[0mself\u001b[0m\u001b[0;34m.\u001b[0m\u001b[0moutputs\u001b[0m\u001b[0;34m,\u001b[0m \u001b[0mname\u001b[0m\u001b[0;34m=\u001b[0m\u001b[0mself\u001b[0m\u001b[0;34m.\u001b[0m\u001b[0mname\u001b[0m\u001b[0;34m)\u001b[0m\u001b[0;34m\u001b[0m\u001b[0;34m\u001b[0m\u001b[0m\n\u001b[0;32m--> 256\u001b[0;31m       \u001b[0;32mreturn\u001b[0m \u001b[0msuper\u001b[0m\u001b[0;34m(\u001b[0m\u001b[0mSequential\u001b[0m\u001b[0;34m,\u001b[0m \u001b[0mself\u001b[0m\u001b[0;34m)\u001b[0m\u001b[0;34m.\u001b[0m\u001b[0mcall\u001b[0m\u001b[0;34m(\u001b[0m\u001b[0minputs\u001b[0m\u001b[0;34m,\u001b[0m \u001b[0mtraining\u001b[0m\u001b[0;34m=\u001b[0m\u001b[0mtraining\u001b[0m\u001b[0;34m,\u001b[0m \u001b[0mmask\u001b[0m\u001b[0;34m=\u001b[0m\u001b[0mmask\u001b[0m\u001b[0;34m)\u001b[0m\u001b[0;34m\u001b[0m\u001b[0;34m\u001b[0m\u001b[0m\n\u001b[0m\u001b[1;32m    257\u001b[0m \u001b[0;34m\u001b[0m\u001b[0m\n\u001b[1;32m    258\u001b[0m     \u001b[0moutputs\u001b[0m \u001b[0;34m=\u001b[0m \u001b[0minputs\u001b[0m  \u001b[0;31m# handle the corner case where self.layers is empty\u001b[0m\u001b[0;34m\u001b[0m\u001b[0;34m\u001b[0m\u001b[0m\n",
      "\u001b[0;32m/opt/anaconda3/envs/ml-tensor/lib/python3.7/site-packages/tensorflow_core/python/keras/engine/network.py\u001b[0m in \u001b[0;36mcall\u001b[0;34m(self, inputs, training, mask)\u001b[0m\n\u001b[1;32m    706\u001b[0m     return self._run_internal_graph(\n\u001b[1;32m    707\u001b[0m         \u001b[0minputs\u001b[0m\u001b[0;34m,\u001b[0m \u001b[0mtraining\u001b[0m\u001b[0;34m=\u001b[0m\u001b[0mtraining\u001b[0m\u001b[0;34m,\u001b[0m \u001b[0mmask\u001b[0m\u001b[0;34m=\u001b[0m\u001b[0mmask\u001b[0m\u001b[0;34m,\u001b[0m\u001b[0;34m\u001b[0m\u001b[0;34m\u001b[0m\u001b[0m\n\u001b[0;32m--> 708\u001b[0;31m         convert_kwargs_to_constants=base_layer_utils.call_context().saving)\n\u001b[0m\u001b[1;32m    709\u001b[0m \u001b[0;34m\u001b[0m\u001b[0m\n\u001b[1;32m    710\u001b[0m   \u001b[0;32mdef\u001b[0m \u001b[0mcompute_output_shape\u001b[0m\u001b[0;34m(\u001b[0m\u001b[0mself\u001b[0m\u001b[0;34m,\u001b[0m \u001b[0minput_shape\u001b[0m\u001b[0;34m)\u001b[0m\u001b[0;34m:\u001b[0m\u001b[0;34m\u001b[0m\u001b[0;34m\u001b[0m\u001b[0m\n",
      "\u001b[0;32m/opt/anaconda3/envs/ml-tensor/lib/python3.7/site-packages/tensorflow_core/python/keras/engine/network.py\u001b[0m in \u001b[0;36m_run_internal_graph\u001b[0;34m(self, inputs, training, mask, convert_kwargs_to_constants)\u001b[0m\n\u001b[1;32m    858\u001b[0m \u001b[0;34m\u001b[0m\u001b[0m\n\u001b[1;32m    859\u001b[0m           \u001b[0;31m# Compute outputs.\u001b[0m\u001b[0;34m\u001b[0m\u001b[0;34m\u001b[0m\u001b[0;34m\u001b[0m\u001b[0m\n\u001b[0;32m--> 860\u001b[0;31m           \u001b[0moutput_tensors\u001b[0m \u001b[0;34m=\u001b[0m \u001b[0mlayer\u001b[0m\u001b[0;34m(\u001b[0m\u001b[0mcomputed_tensors\u001b[0m\u001b[0;34m,\u001b[0m \u001b[0;34m**\u001b[0m\u001b[0mkwargs\u001b[0m\u001b[0;34m)\u001b[0m\u001b[0;34m\u001b[0m\u001b[0;34m\u001b[0m\u001b[0m\n\u001b[0m\u001b[1;32m    861\u001b[0m \u001b[0;34m\u001b[0m\u001b[0m\n\u001b[1;32m    862\u001b[0m           \u001b[0;31m# Update tensor_dict.\u001b[0m\u001b[0;34m\u001b[0m\u001b[0;34m\u001b[0m\u001b[0;34m\u001b[0m\u001b[0m\n",
      "\u001b[0;32m/opt/anaconda3/envs/ml-tensor/lib/python3.7/site-packages/tensorflow_core/python/keras/layers/recurrent.py\u001b[0m in \u001b[0;36m__call__\u001b[0;34m(self, inputs, initial_state, constants, **kwargs)\u001b[0m\n\u001b[1;32m    621\u001b[0m \u001b[0;34m\u001b[0m\u001b[0m\n\u001b[1;32m    622\u001b[0m     \u001b[0;32mif\u001b[0m \u001b[0minitial_state\u001b[0m \u001b[0;32mis\u001b[0m \u001b[0;32mNone\u001b[0m \u001b[0;32mand\u001b[0m \u001b[0mconstants\u001b[0m \u001b[0;32mis\u001b[0m \u001b[0;32mNone\u001b[0m\u001b[0;34m:\u001b[0m\u001b[0;34m\u001b[0m\u001b[0;34m\u001b[0m\u001b[0m\n\u001b[0;32m--> 623\u001b[0;31m       \u001b[0;32mreturn\u001b[0m \u001b[0msuper\u001b[0m\u001b[0;34m(\u001b[0m\u001b[0mRNN\u001b[0m\u001b[0;34m,\u001b[0m \u001b[0mself\u001b[0m\u001b[0;34m)\u001b[0m\u001b[0;34m.\u001b[0m\u001b[0m__call__\u001b[0m\u001b[0;34m(\u001b[0m\u001b[0minputs\u001b[0m\u001b[0;34m,\u001b[0m \u001b[0;34m**\u001b[0m\u001b[0mkwargs\u001b[0m\u001b[0;34m)\u001b[0m\u001b[0;34m\u001b[0m\u001b[0;34m\u001b[0m\u001b[0m\n\u001b[0m\u001b[1;32m    624\u001b[0m \u001b[0;34m\u001b[0m\u001b[0m\n\u001b[1;32m    625\u001b[0m     \u001b[0;31m# If any of `initial_state` or `constants` are specified and are Keras\u001b[0m\u001b[0;34m\u001b[0m\u001b[0;34m\u001b[0m\u001b[0;34m\u001b[0m\u001b[0m\n",
      "\u001b[0;32m/opt/anaconda3/envs/ml-tensor/lib/python3.7/site-packages/tensorflow_core/python/keras/engine/base_layer.py\u001b[0m in \u001b[0;36m__call__\u001b[0;34m(self, inputs, *args, **kwargs)\u001b[0m\n\u001b[1;32m    889\u001b[0m           with base_layer_utils.autocast_context_manager(\n\u001b[1;32m    890\u001b[0m               self._compute_dtype):\n\u001b[0;32m--> 891\u001b[0;31m             \u001b[0moutputs\u001b[0m \u001b[0;34m=\u001b[0m \u001b[0mself\u001b[0m\u001b[0;34m.\u001b[0m\u001b[0mcall\u001b[0m\u001b[0;34m(\u001b[0m\u001b[0mcast_inputs\u001b[0m\u001b[0;34m,\u001b[0m \u001b[0;34m*\u001b[0m\u001b[0margs\u001b[0m\u001b[0;34m,\u001b[0m \u001b[0;34m**\u001b[0m\u001b[0mkwargs\u001b[0m\u001b[0;34m)\u001b[0m\u001b[0;34m\u001b[0m\u001b[0;34m\u001b[0m\u001b[0m\n\u001b[0m\u001b[1;32m    892\u001b[0m           \u001b[0mself\u001b[0m\u001b[0;34m.\u001b[0m\u001b[0m_handle_activity_regularization\u001b[0m\u001b[0;34m(\u001b[0m\u001b[0minputs\u001b[0m\u001b[0;34m,\u001b[0m \u001b[0moutputs\u001b[0m\u001b[0;34m)\u001b[0m\u001b[0;34m\u001b[0m\u001b[0;34m\u001b[0m\u001b[0m\n\u001b[1;32m    893\u001b[0m           \u001b[0mself\u001b[0m\u001b[0;34m.\u001b[0m\u001b[0m_set_mask_metadata\u001b[0m\u001b[0;34m(\u001b[0m\u001b[0minputs\u001b[0m\u001b[0;34m,\u001b[0m \u001b[0moutputs\u001b[0m\u001b[0;34m,\u001b[0m \u001b[0minput_masks\u001b[0m\u001b[0;34m)\u001b[0m\u001b[0;34m\u001b[0m\u001b[0;34m\u001b[0m\u001b[0m\n",
      "\u001b[0;32m/opt/anaconda3/envs/ml-tensor/lib/python3.7/site-packages/tensorflow_core/python/keras/layers/recurrent_v2.py\u001b[0m in \u001b[0;36mcall\u001b[0;34m(self, inputs, mask, training, initial_state)\u001b[0m\n\u001b[1;32m    342\u001b[0m     \u001b[0;32melse\u001b[0m\u001b[0;34m:\u001b[0m\u001b[0;34m\u001b[0m\u001b[0;34m\u001b[0m\u001b[0m\n\u001b[1;32m    343\u001b[0m       last_output, outputs, runtime, states = self._defun_gru_call(\n\u001b[0;32m--> 344\u001b[0;31m           inputs, initial_state, training, mask)\n\u001b[0m\u001b[1;32m    345\u001b[0m \u001b[0;34m\u001b[0m\u001b[0m\n\u001b[1;32m    346\u001b[0m     \u001b[0;32mif\u001b[0m \u001b[0mself\u001b[0m\u001b[0;34m.\u001b[0m\u001b[0mstateful\u001b[0m\u001b[0;34m:\u001b[0m\u001b[0;34m\u001b[0m\u001b[0;34m\u001b[0m\u001b[0m\n",
      "\u001b[0;32m/opt/anaconda3/envs/ml-tensor/lib/python3.7/site-packages/tensorflow_core/python/keras/layers/recurrent_v2.py\u001b[0m in \u001b[0;36m_defun_gru_call\u001b[0;34m(self, inputs, initial_state, training, mask)\u001b[0m\n\u001b[1;32m    398\u001b[0m         \u001b[0mlast_output\u001b[0m\u001b[0;34m,\u001b[0m \u001b[0moutputs\u001b[0m\u001b[0;34m,\u001b[0m \u001b[0mnew_h\u001b[0m\u001b[0;34m,\u001b[0m \u001b[0mruntime\u001b[0m \u001b[0;34m=\u001b[0m \u001b[0mcudnn_gru\u001b[0m\u001b[0;34m(\u001b[0m\u001b[0;34m**\u001b[0m\u001b[0mcudnn_gru_kwargs\u001b[0m\u001b[0;34m)\u001b[0m\u001b[0;34m\u001b[0m\u001b[0;34m\u001b[0m\u001b[0m\n\u001b[1;32m    399\u001b[0m       \u001b[0;32melse\u001b[0m\u001b[0;34m:\u001b[0m\u001b[0;34m\u001b[0m\u001b[0;34m\u001b[0m\u001b[0m\n\u001b[0;32m--> 400\u001b[0;31m         \u001b[0mlast_output\u001b[0m\u001b[0;34m,\u001b[0m \u001b[0moutputs\u001b[0m\u001b[0;34m,\u001b[0m \u001b[0mnew_h\u001b[0m\u001b[0;34m,\u001b[0m \u001b[0mruntime\u001b[0m \u001b[0;34m=\u001b[0m \u001b[0mstandard_gru\u001b[0m\u001b[0;34m(\u001b[0m\u001b[0;34m**\u001b[0m\u001b[0mnormal_gru_kwargs\u001b[0m\u001b[0;34m)\u001b[0m\u001b[0;34m\u001b[0m\u001b[0;34m\u001b[0m\u001b[0m\n\u001b[0m\u001b[1;32m    401\u001b[0m     \u001b[0;32melse\u001b[0m\u001b[0;34m:\u001b[0m\u001b[0;34m\u001b[0m\u001b[0;34m\u001b[0m\u001b[0m\n\u001b[1;32m    402\u001b[0m       last_output, outputs, new_h, runtime = gru_with_backend_selection(\n",
      "\u001b[0;32m/opt/anaconda3/envs/ml-tensor/lib/python3.7/site-packages/tensorflow_core/python/keras/layers/recurrent_v2.py\u001b[0m in \u001b[0;36mstandard_gru\u001b[0;34m(inputs, init_h, kernel, recurrent_kernel, bias, activation, recurrent_activation, mask, time_major, go_backwards)\u001b[0m\n\u001b[1;32m    480\u001b[0m       \u001b[0mmask\u001b[0m\u001b[0;34m=\u001b[0m\u001b[0mmask\u001b[0m\u001b[0;34m,\u001b[0m\u001b[0;34m\u001b[0m\u001b[0;34m\u001b[0m\u001b[0m\n\u001b[1;32m    481\u001b[0m       \u001b[0mgo_backwards\u001b[0m\u001b[0;34m=\u001b[0m\u001b[0mgo_backwards\u001b[0m\u001b[0;34m,\u001b[0m\u001b[0;34m\u001b[0m\u001b[0;34m\u001b[0m\u001b[0m\n\u001b[0;32m--> 482\u001b[0;31m       input_length=timesteps)\n\u001b[0m\u001b[1;32m    483\u001b[0m   \u001b[0;32mreturn\u001b[0m \u001b[0mlast_output\u001b[0m\u001b[0;34m,\u001b[0m \u001b[0moutputs\u001b[0m\u001b[0;34m,\u001b[0m \u001b[0mnew_states\u001b[0m\u001b[0;34m[\u001b[0m\u001b[0;36m0\u001b[0m\u001b[0;34m]\u001b[0m\u001b[0;34m,\u001b[0m \u001b[0m_runtime\u001b[0m\u001b[0;34m(\u001b[0m\u001b[0m_RUNTIME_CPU\u001b[0m\u001b[0;34m)\u001b[0m\u001b[0;34m\u001b[0m\u001b[0;34m\u001b[0m\u001b[0m\n\u001b[1;32m    484\u001b[0m \u001b[0;34m\u001b[0m\u001b[0m\n",
      "\u001b[0;32m/opt/anaconda3/envs/ml-tensor/lib/python3.7/site-packages/tensorflow_core/python/keras/backend.py\u001b[0m in \u001b[0;36mrnn\u001b[0;34m(step_function, inputs, initial_states, go_backwards, mask, constants, unroll, input_length, time_major, zero_output_for_mask)\u001b[0m\n\u001b[1;32m   3902\u001b[0m \u001b[0;34m\u001b[0m\u001b[0m\n\u001b[1;32m   3903\u001b[0m   \u001b[0;32mfor\u001b[0m \u001b[0minput_\u001b[0m \u001b[0;32min\u001b[0m \u001b[0mflatted_inputs\u001b[0m\u001b[0;34m:\u001b[0m\u001b[0;34m\u001b[0m\u001b[0;34m\u001b[0m\u001b[0m\n\u001b[0;32m-> 3904\u001b[0;31m     \u001b[0minput_\u001b[0m\u001b[0;34m.\u001b[0m\u001b[0mshape\u001b[0m\u001b[0;34m.\u001b[0m\u001b[0mwith_rank_at_least\u001b[0m\u001b[0;34m(\u001b[0m\u001b[0;36m3\u001b[0m\u001b[0;34m)\u001b[0m\u001b[0;34m\u001b[0m\u001b[0;34m\u001b[0m\u001b[0m\n\u001b[0m\u001b[1;32m   3905\u001b[0m \u001b[0;34m\u001b[0m\u001b[0m\n\u001b[1;32m   3906\u001b[0m   \u001b[0;32mif\u001b[0m \u001b[0mmask\u001b[0m \u001b[0;32mis\u001b[0m \u001b[0;32mnot\u001b[0m \u001b[0;32mNone\u001b[0m\u001b[0;34m:\u001b[0m\u001b[0;34m\u001b[0m\u001b[0;34m\u001b[0m\u001b[0m\n",
      "\u001b[0;32m/opt/anaconda3/envs/ml-tensor/lib/python3.7/site-packages/tensorflow_core/python/framework/tensor_shape.py\u001b[0m in \u001b[0;36mwith_rank_at_least\u001b[0;34m(self, rank)\u001b[0m\n\u001b[1;32m   1030\u001b[0m     \"\"\"\n\u001b[1;32m   1031\u001b[0m     \u001b[0;32mif\u001b[0m \u001b[0mself\u001b[0m\u001b[0;34m.\u001b[0m\u001b[0mrank\u001b[0m \u001b[0;32mis\u001b[0m \u001b[0;32mnot\u001b[0m \u001b[0;32mNone\u001b[0m \u001b[0;32mand\u001b[0m \u001b[0mself\u001b[0m\u001b[0;34m.\u001b[0m\u001b[0mrank\u001b[0m \u001b[0;34m<\u001b[0m \u001b[0mrank\u001b[0m\u001b[0;34m:\u001b[0m\u001b[0;34m\u001b[0m\u001b[0;34m\u001b[0m\u001b[0m\n\u001b[0;32m-> 1032\u001b[0;31m       \u001b[0;32mraise\u001b[0m \u001b[0mValueError\u001b[0m\u001b[0;34m(\u001b[0m\u001b[0;34m\"Shape %s must have rank at least %d\"\u001b[0m \u001b[0;34m%\u001b[0m \u001b[0;34m(\u001b[0m\u001b[0mself\u001b[0m\u001b[0;34m,\u001b[0m \u001b[0mrank\u001b[0m\u001b[0;34m)\u001b[0m\u001b[0;34m)\u001b[0m\u001b[0;34m\u001b[0m\u001b[0;34m\u001b[0m\u001b[0m\n\u001b[0m\u001b[1;32m   1033\u001b[0m     \u001b[0;32melse\u001b[0m\u001b[0;34m:\u001b[0m\u001b[0;34m\u001b[0m\u001b[0;34m\u001b[0m\u001b[0m\n\u001b[1;32m   1034\u001b[0m       \u001b[0;32mreturn\u001b[0m \u001b[0mself\u001b[0m\u001b[0;34m\u001b[0m\u001b[0;34m\u001b[0m\u001b[0m\n",
      "\u001b[0;31mValueError\u001b[0m: Shape (13, 4) must have rank at least 3"
     ]
    }
   ],
   "source": [
    "model.reset_states()\n",
    "model(input_example_batch[0])"
   ]
  },
  {
   "cell_type": "code",
   "execution_count": 128,
   "id": "8994be04",
   "metadata": {},
   "outputs": [],
   "source": [
    "def generate_weather(model, start_weather):\n",
    "    # Evaluation step (generating weather using the learned model)\n",
    "\n",
    "    # Number of days to generate\n",
    "    num_generate = 20\n",
    "\n",
    "    # Converting our start string to numbers (vectorizing)\n",
    "    input_eval = tf.expand_dims(input_eval, 0)\n",
    "\n",
    "    # Empty string to store our results\n",
    "    days_generated = []\n",
    "\n",
    "    # Low temperatures results in more predictable results.\n",
    "    # Higher temperatures results in more surprising results.\n",
    "    # Experiment to find the best setting.\n",
    "    temperature = 1.0\n",
    "\n",
    "    # Here batch size == 1\n",
    "    model.reset_states()\n",
    "    for i in range(num_generate):\n",
    "        predictions = model(start_weather)\n",
    "        # remove the batch dimension\n",
    "        predictions = tf.squeeze(predictions, 0)\n",
    "\n",
    "        # using a categorical distribution to predict the temperature returned by the model\n",
    "        predictions = predictions / temperature\n",
    "        predicted_id = tf.random.categorical(predictions, num_samples=1)[-1,0].numpy()\n",
    "\n",
    "        # We pass the predicted temp as the next input to the model\n",
    "        # along with the previous hidden state\n",
    "        input_eval = tf.expand_dims([predicted_id], 0)\n",
    "\n",
    "        days_generated.append(idx2char[predicted_id])\n",
    "\n",
    "    return (start_weather, text_generated)"
   ]
  },
  {
   "cell_type": "code",
   "execution_count": null,
   "id": "9256e5c2",
   "metadata": {},
   "outputs": [],
   "source": [
    "print(generate_weather(model, start_weather=))"
   ]
  },
  {
   "cell_type": "markdown",
   "id": "848a7521",
   "metadata": {},
   "source": [
    "#### Resources Consulted\n",
    "https://www.tensorflow.org/api_docs/python/tf/keras/Sequential\n",
    "https://docs.conda.io/projects/conda/en/4.6.0/_downloads/52a95608c49671267e40c689e0bc00ca/conda-cheatsheet.pdf"
   ]
  }
 ],
 "metadata": {
  "kernelspec": {
   "display_name": "Python 3",
   "language": "python",
   "name": "python3"
  },
  "language_info": {
   "codemirror_mode": {
    "name": "ipython",
    "version": 3
   },
   "file_extension": ".py",
   "mimetype": "text/x-python",
   "name": "python",
   "nbconvert_exporter": "python",
   "pygments_lexer": "ipython3",
   "version": "3.7.10"
  }
 },
 "nbformat": 4,
 "nbformat_minor": 5
}
