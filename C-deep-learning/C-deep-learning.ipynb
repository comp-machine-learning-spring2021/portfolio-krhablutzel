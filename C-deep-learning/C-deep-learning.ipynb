{
 "cells": [
  {
   "cell_type": "markdown",
   "id": "continental-poland",
   "metadata": {},
   "source": [
    "## Recurrent Neural Network\n",
    "Predict daily high and low temperatures?"
   ]
  },
  {
   "cell_type": "code",
   "execution_count": 18,
   "id": "amateur-round",
   "metadata": {},
   "outputs": [],
   "source": [
    "import pandas as pd\n",
    "import numpy as np\n",
    "import tensorflow as tf\n",
    "\n",
    "# workaround for MacOS/jupyter notebook bug w/ tensorflow\n",
    "# https://www.programmersought.com/article/69923598438/\n",
    "import os\n",
    "os.environ['KMP_DUPLICATE_LIB_OK']='True'"
   ]
  },
  {
   "cell_type": "code",
   "execution_count": 19,
   "id": "chemical-beatles",
   "metadata": {},
   "outputs": [],
   "source": [
    "# https://www.tensorflow.org/tutorials/load_data/numpy\n",
    "# https://www.tensorflow.org/tutorials/load_data/pandas_dataframe\n",
    "weather_pd = pd.read_csv('../data/weather.csv', index_col = 0)\n",
    "weather_pd = weather_pd.drop(['DAY', 'STP', 'GUST'], axis=1)"
   ]
  },
  {
   "cell_type": "code",
   "execution_count": 20,
   "id": "planned-accuracy",
   "metadata": {},
   "outputs": [
    {
     "data": {
      "text/html": [
       "<div>\n",
       "<style scoped>\n",
       "    .dataframe tbody tr th:only-of-type {\n",
       "        vertical-align: middle;\n",
       "    }\n",
       "\n",
       "    .dataframe tbody tr th {\n",
       "        vertical-align: top;\n",
       "    }\n",
       "\n",
       "    .dataframe thead th {\n",
       "        text-align: right;\n",
       "    }\n",
       "</style>\n",
       "<table border=\"1\" class=\"dataframe\">\n",
       "  <thead>\n",
       "    <tr style=\"text-align: right;\">\n",
       "      <th></th>\n",
       "      <th>YEAR</th>\n",
       "      <th>MONTH</th>\n",
       "      <th>SEASON</th>\n",
       "      <th>TEMP</th>\n",
       "      <th>DEWP</th>\n",
       "      <th>SLP</th>\n",
       "      <th>VISIB</th>\n",
       "      <th>WDSP</th>\n",
       "      <th>MXSPD</th>\n",
       "      <th>MAX</th>\n",
       "      <th>MIN</th>\n",
       "      <th>PRCP</th>\n",
       "      <th>SNDP</th>\n",
       "    </tr>\n",
       "  </thead>\n",
       "  <tbody>\n",
       "    <tr>\n",
       "      <th>0</th>\n",
       "      <td>2000</td>\n",
       "      <td>1</td>\n",
       "      <td>0</td>\n",
       "      <td>47.6</td>\n",
       "      <td>38.1</td>\n",
       "      <td>1023.7</td>\n",
       "      <td>8.3</td>\n",
       "      <td>3.0</td>\n",
       "      <td>10.1</td>\n",
       "      <td>66.9</td>\n",
       "      <td>33.1</td>\n",
       "      <td>0.00</td>\n",
       "      <td>0.0</td>\n",
       "    </tr>\n",
       "    <tr>\n",
       "      <th>1</th>\n",
       "      <td>2000</td>\n",
       "      <td>1</td>\n",
       "      <td>0</td>\n",
       "      <td>55.3</td>\n",
       "      <td>46.3</td>\n",
       "      <td>1024.2</td>\n",
       "      <td>9.5</td>\n",
       "      <td>4.8</td>\n",
       "      <td>14.0</td>\n",
       "      <td>70.0</td>\n",
       "      <td>33.1</td>\n",
       "      <td>0.00</td>\n",
       "      <td>0.0</td>\n",
       "    </tr>\n",
       "    <tr>\n",
       "      <th>2</th>\n",
       "      <td>2000</td>\n",
       "      <td>1</td>\n",
       "      <td>0</td>\n",
       "      <td>62.6</td>\n",
       "      <td>55.4</td>\n",
       "      <td>1021.3</td>\n",
       "      <td>8.4</td>\n",
       "      <td>8.5</td>\n",
       "      <td>14.0</td>\n",
       "      <td>73.9</td>\n",
       "      <td>43.0</td>\n",
       "      <td>0.00</td>\n",
       "      <td>0.0</td>\n",
       "    </tr>\n",
       "    <tr>\n",
       "      <th>3</th>\n",
       "      <td>2000</td>\n",
       "      <td>1</td>\n",
       "      <td>0</td>\n",
       "      <td>65.2</td>\n",
       "      <td>58.6</td>\n",
       "      <td>1014.4</td>\n",
       "      <td>9.5</td>\n",
       "      <td>15.3</td>\n",
       "      <td>28.0</td>\n",
       "      <td>73.9</td>\n",
       "      <td>55.0</td>\n",
       "      <td>0.00</td>\n",
       "      <td>0.0</td>\n",
       "    </tr>\n",
       "    <tr>\n",
       "      <th>4</th>\n",
       "      <td>2000</td>\n",
       "      <td>1</td>\n",
       "      <td>0</td>\n",
       "      <td>45.7</td>\n",
       "      <td>30.9</td>\n",
       "      <td>1019.8</td>\n",
       "      <td>9.8</td>\n",
       "      <td>6.4</td>\n",
       "      <td>11.1</td>\n",
       "      <td>57.9</td>\n",
       "      <td>37.0</td>\n",
       "      <td>0.34</td>\n",
       "      <td>0.0</td>\n",
       "    </tr>\n",
       "  </tbody>\n",
       "</table>\n",
       "</div>"
      ],
      "text/plain": [
       "   YEAR  MONTH  SEASON  TEMP  DEWP     SLP  VISIB  WDSP  MXSPD   MAX   MIN  \\\n",
       "0  2000      1       0  47.6  38.1  1023.7    8.3   3.0   10.1  66.9  33.1   \n",
       "1  2000      1       0  55.3  46.3  1024.2    9.5   4.8   14.0  70.0  33.1   \n",
       "2  2000      1       0  62.6  55.4  1021.3    8.4   8.5   14.0  73.9  43.0   \n",
       "3  2000      1       0  65.2  58.6  1014.4    9.5  15.3   28.0  73.9  55.0   \n",
       "4  2000      1       0  45.7  30.9  1019.8    9.8   6.4   11.1  57.9  37.0   \n",
       "\n",
       "   PRCP  SNDP  \n",
       "0  0.00   0.0  \n",
       "1  0.00   0.0  \n",
       "2  0.00   0.0  \n",
       "3  0.00   0.0  \n",
       "4  0.34   0.0  "
      ]
     },
     "execution_count": 20,
     "metadata": {},
     "output_type": "execute_result"
    }
   ],
   "source": [
    "weather_pd.head()"
   ]
  },
  {
   "cell_type": "code",
   "execution_count": 21,
   "id": "81d49a39",
   "metadata": {},
   "outputs": [
    {
     "data": {
      "text/plain": [
       "YEAR        int64\n",
       "MONTH       int64\n",
       "SEASON      int64\n",
       "TEMP      float64\n",
       "DEWP      float64\n",
       "SLP       float64\n",
       "VISIB     float64\n",
       "WDSP      float64\n",
       "MXSPD     float64\n",
       "MAX       float64\n",
       "MIN       float64\n",
       "PRCP      float64\n",
       "SNDP      float64\n",
       "dtype: object"
      ]
     },
     "execution_count": 21,
     "metadata": {},
     "output_type": "execute_result"
    }
   ],
   "source": [
    "weather_pd.dtypes"
   ]
  },
  {
   "cell_type": "code",
   "execution_count": 22,
   "id": "cc2c5f67",
   "metadata": {},
   "outputs": [
    {
     "data": {
      "text/html": [
       "<div>\n",
       "<style scoped>\n",
       "    .dataframe tbody tr th:only-of-type {\n",
       "        vertical-align: middle;\n",
       "    }\n",
       "\n",
       "    .dataframe tbody tr th {\n",
       "        vertical-align: top;\n",
       "    }\n",
       "\n",
       "    .dataframe thead th {\n",
       "        text-align: right;\n",
       "    }\n",
       "</style>\n",
       "<table border=\"1\" class=\"dataframe\">\n",
       "  <thead>\n",
       "    <tr style=\"text-align: right;\">\n",
       "      <th></th>\n",
       "      <th>MAX</th>\n",
       "      <th>MIN</th>\n",
       "    </tr>\n",
       "  </thead>\n",
       "  <tbody>\n",
       "    <tr>\n",
       "      <th>1</th>\n",
       "      <td>70.0</td>\n",
       "      <td>33.1</td>\n",
       "    </tr>\n",
       "    <tr>\n",
       "      <th>2</th>\n",
       "      <td>73.9</td>\n",
       "      <td>43.0</td>\n",
       "    </tr>\n",
       "    <tr>\n",
       "      <th>3</th>\n",
       "      <td>73.9</td>\n",
       "      <td>55.0</td>\n",
       "    </tr>\n",
       "    <tr>\n",
       "      <th>4</th>\n",
       "      <td>57.9</td>\n",
       "      <td>37.0</td>\n",
       "    </tr>\n",
       "    <tr>\n",
       "      <th>5</th>\n",
       "      <td>51.1</td>\n",
       "      <td>25.0</td>\n",
       "    </tr>\n",
       "  </tbody>\n",
       "</table>\n",
       "</div>"
      ],
      "text/plain": [
       "    MAX   MIN\n",
       "1  70.0  33.1\n",
       "2  73.9  43.0\n",
       "3  73.9  55.0\n",
       "4  57.9  37.0\n",
       "5  51.1  25.0"
      ]
     },
     "execution_count": 22,
     "metadata": {},
     "output_type": "execute_result"
    }
   ],
   "source": [
    "# next day's weather\n",
    "target = weather_pd[['MAX', 'MIN']].iloc[1:, :]\n",
    "target.head()"
   ]
  },
  {
   "cell_type": "code",
   "execution_count": 23,
   "id": "143b7a7d",
   "metadata": {},
   "outputs": [
    {
     "data": {
      "text/html": [
       "<div>\n",
       "<style scoped>\n",
       "    .dataframe tbody tr th:only-of-type {\n",
       "        vertical-align: middle;\n",
       "    }\n",
       "\n",
       "    .dataframe tbody tr th {\n",
       "        vertical-align: top;\n",
       "    }\n",
       "\n",
       "    .dataframe thead th {\n",
       "        text-align: right;\n",
       "    }\n",
       "</style>\n",
       "<table border=\"1\" class=\"dataframe\">\n",
       "  <thead>\n",
       "    <tr style=\"text-align: right;\">\n",
       "      <th></th>\n",
       "      <th>YEAR</th>\n",
       "      <th>MONTH</th>\n",
       "      <th>SEASON</th>\n",
       "      <th>TEMP</th>\n",
       "      <th>DEWP</th>\n",
       "      <th>SLP</th>\n",
       "      <th>VISIB</th>\n",
       "      <th>WDSP</th>\n",
       "      <th>MXSPD</th>\n",
       "      <th>MAX</th>\n",
       "      <th>MIN</th>\n",
       "      <th>PRCP</th>\n",
       "      <th>SNDP</th>\n",
       "    </tr>\n",
       "  </thead>\n",
       "  <tbody>\n",
       "    <tr>\n",
       "      <th>0</th>\n",
       "      <td>2000</td>\n",
       "      <td>1</td>\n",
       "      <td>0</td>\n",
       "      <td>47.6</td>\n",
       "      <td>38.1</td>\n",
       "      <td>1023.7</td>\n",
       "      <td>8.3</td>\n",
       "      <td>3.0</td>\n",
       "      <td>10.1</td>\n",
       "      <td>66.9</td>\n",
       "      <td>33.1</td>\n",
       "      <td>0.00</td>\n",
       "      <td>0.0</td>\n",
       "    </tr>\n",
       "    <tr>\n",
       "      <th>1</th>\n",
       "      <td>2000</td>\n",
       "      <td>1</td>\n",
       "      <td>0</td>\n",
       "      <td>55.3</td>\n",
       "      <td>46.3</td>\n",
       "      <td>1024.2</td>\n",
       "      <td>9.5</td>\n",
       "      <td>4.8</td>\n",
       "      <td>14.0</td>\n",
       "      <td>70.0</td>\n",
       "      <td>33.1</td>\n",
       "      <td>0.00</td>\n",
       "      <td>0.0</td>\n",
       "    </tr>\n",
       "    <tr>\n",
       "      <th>2</th>\n",
       "      <td>2000</td>\n",
       "      <td>1</td>\n",
       "      <td>0</td>\n",
       "      <td>62.6</td>\n",
       "      <td>55.4</td>\n",
       "      <td>1021.3</td>\n",
       "      <td>8.4</td>\n",
       "      <td>8.5</td>\n",
       "      <td>14.0</td>\n",
       "      <td>73.9</td>\n",
       "      <td>43.0</td>\n",
       "      <td>0.00</td>\n",
       "      <td>0.0</td>\n",
       "    </tr>\n",
       "    <tr>\n",
       "      <th>3</th>\n",
       "      <td>2000</td>\n",
       "      <td>1</td>\n",
       "      <td>0</td>\n",
       "      <td>65.2</td>\n",
       "      <td>58.6</td>\n",
       "      <td>1014.4</td>\n",
       "      <td>9.5</td>\n",
       "      <td>15.3</td>\n",
       "      <td>28.0</td>\n",
       "      <td>73.9</td>\n",
       "      <td>55.0</td>\n",
       "      <td>0.00</td>\n",
       "      <td>0.0</td>\n",
       "    </tr>\n",
       "    <tr>\n",
       "      <th>4</th>\n",
       "      <td>2000</td>\n",
       "      <td>1</td>\n",
       "      <td>0</td>\n",
       "      <td>45.7</td>\n",
       "      <td>30.9</td>\n",
       "      <td>1019.8</td>\n",
       "      <td>9.8</td>\n",
       "      <td>6.4</td>\n",
       "      <td>11.1</td>\n",
       "      <td>57.9</td>\n",
       "      <td>37.0</td>\n",
       "      <td>0.34</td>\n",
       "      <td>0.0</td>\n",
       "    </tr>\n",
       "  </tbody>\n",
       "</table>\n",
       "</div>"
      ],
      "text/plain": [
       "   YEAR  MONTH  SEASON  TEMP  DEWP     SLP  VISIB  WDSP  MXSPD   MAX   MIN  \\\n",
       "0  2000      1       0  47.6  38.1  1023.7    8.3   3.0   10.1  66.9  33.1   \n",
       "1  2000      1       0  55.3  46.3  1024.2    9.5   4.8   14.0  70.0  33.1   \n",
       "2  2000      1       0  62.6  55.4  1021.3    8.4   8.5   14.0  73.9  43.0   \n",
       "3  2000      1       0  65.2  58.6  1014.4    9.5  15.3   28.0  73.9  55.0   \n",
       "4  2000      1       0  45.7  30.9  1019.8    9.8   6.4   11.1  57.9  37.0   \n",
       "\n",
       "   PRCP  SNDP  \n",
       "0  0.00   0.0  \n",
       "1  0.00   0.0  \n",
       "2  0.00   0.0  \n",
       "3  0.00   0.0  \n",
       "4  0.34   0.0  "
      ]
     },
     "execution_count": 23,
     "metadata": {},
     "output_type": "execute_result"
    }
   ],
   "source": [
    "# today's weather\n",
    "feature = weather_pd.iloc[:-1, :] # don't have next day on last day\n",
    "feature.head()"
   ]
  },
  {
   "cell_type": "code",
   "execution_count": 24,
   "id": "dc49278f",
   "metadata": {},
   "outputs": [],
   "source": [
    "weather = tf.data.Dataset.from_tensor_slices((feature.values, target.values))"
   ]
  },
  {
   "cell_type": "code",
   "execution_count": 25,
   "id": "ef2e8c6a",
   "metadata": {},
   "outputs": [
    {
     "name": "stdout",
     "output_type": "stream",
     "text": [
      "Features: [2.0000e+03 1.0000e+00 0.0000e+00 4.7600e+01 3.8100e+01 1.0237e+03\n",
      " 8.3000e+00 3.0000e+00 1.0100e+01 6.6900e+01 3.3100e+01 0.0000e+00\n",
      " 0.0000e+00], Target: [70.  33.1]\n",
      "Features: [2.0000e+03 1.0000e+00 0.0000e+00 5.5300e+01 4.6300e+01 1.0242e+03\n",
      " 9.5000e+00 4.8000e+00 1.4000e+01 7.0000e+01 3.3100e+01 0.0000e+00\n",
      " 0.0000e+00], Target: [73.9 43. ]\n",
      "Features: [2.0000e+03 1.0000e+00 0.0000e+00 6.2600e+01 5.5400e+01 1.0213e+03\n",
      " 8.4000e+00 8.5000e+00 1.4000e+01 7.3900e+01 4.3000e+01 0.0000e+00\n",
      " 0.0000e+00], Target: [73.9 55. ]\n",
      "Features: [2.0000e+03 1.0000e+00 0.0000e+00 6.5200e+01 5.8600e+01 1.0144e+03\n",
      " 9.5000e+00 1.5300e+01 2.8000e+01 7.3900e+01 5.5000e+01 0.0000e+00\n",
      " 0.0000e+00], Target: [57.9 37. ]\n",
      "Features: [2.0000e+03 1.0000e+00 0.0000e+00 4.5700e+01 3.0900e+01 1.0198e+03\n",
      " 9.8000e+00 6.4000e+00 1.1100e+01 5.7900e+01 3.7000e+01 3.4000e-01\n",
      " 0.0000e+00], Target: [51.1 25. ]\n"
     ]
    }
   ],
   "source": [
    "for feat, targ in weather.take(5):\n",
    "    print ('Features: {}, Target: {}'.format(feat, targ))"
   ]
  },
  {
   "cell_type": "code",
   "execution_count": 43,
   "id": "a50f5fbf",
   "metadata": {},
   "outputs": [],
   "source": [
    "# batches of days - ues previous 3 days to predict 4th day?\n",
    "days_in_batches = 4\n",
    "batches = weather.batch(days_in_batches, drop_remainder=True)"
   ]
  },
  {
   "cell_type": "code",
   "execution_count": 44,
   "id": "15c1cf90",
   "metadata": {},
   "outputs": [
    {
     "name": "stdout",
     "output_type": "stream",
     "text": [
      "Input data:  tf.Tensor(\n",
      "[[2.0000e+03 1.0000e+00 0.0000e+00 4.7600e+01 3.8100e+01 1.0237e+03\n",
      "  8.3000e+00 3.0000e+00 1.0100e+01 6.6900e+01 3.3100e+01 0.0000e+00\n",
      "  0.0000e+00]\n",
      " [2.0000e+03 1.0000e+00 0.0000e+00 5.5300e+01 4.6300e+01 1.0242e+03\n",
      "  9.5000e+00 4.8000e+00 1.4000e+01 7.0000e+01 3.3100e+01 0.0000e+00\n",
      "  0.0000e+00]\n",
      " [2.0000e+03 1.0000e+00 0.0000e+00 6.2600e+01 5.5400e+01 1.0213e+03\n",
      "  8.4000e+00 8.5000e+00 1.4000e+01 7.3900e+01 4.3000e+01 0.0000e+00\n",
      "  0.0000e+00]\n",
      " [2.0000e+03 1.0000e+00 0.0000e+00 6.5200e+01 5.8600e+01 1.0144e+03\n",
      "  9.5000e+00 1.5300e+01 2.8000e+01 7.3900e+01 5.5000e+01 0.0000e+00\n",
      "  0.0000e+00]], shape=(4, 13), dtype=float64)\n",
      "Target data:  tf.Tensor(\n",
      "[[70.  33.1]\n",
      " [73.9 43. ]\n",
      " [73.9 55. ]\n",
      " [57.9 37. ]], shape=(4, 2), dtype=float64)\n",
      "Input data:  tf.Tensor(\n",
      "[[2.0000e+03 1.0000e+00 0.0000e+00 4.5700e+01 3.0900e+01 1.0198e+03\n",
      "  9.8000e+00 6.4000e+00 1.1100e+01 5.7900e+01 3.7000e+01 3.4000e-01\n",
      "  0.0000e+00]\n",
      " [2.0000e+03 1.0000e+00 0.0000e+00 3.6100e+01 2.7200e+01 1.0324e+03\n",
      "  9.9000e+00 1.8000e+00 7.0000e+00 5.1100e+01 2.5000e+01 0.0000e+00\n",
      "  0.0000e+00]\n",
      " [2.0000e+03 1.0000e+00 0.0000e+00 4.7400e+01 3.5000e+01 1.0275e+03\n",
      "  9.2000e+00 3.2000e+00 1.0100e+01 5.7900e+01 2.5000e+01 4.0000e-02\n",
      "  0.0000e+00]\n",
      " [2.0000e+03 1.0000e+00 0.0000e+00 3.8600e+01 2.5200e+01 1.0283e+03\n",
      "  9.9000e+00 1.7000e+00 5.1000e+00 5.7900e+01 2.6100e+01 8.0000e-02\n",
      "  0.0000e+00]], shape=(4, 13), dtype=float64)\n",
      "Target data:  tf.Tensor(\n",
      "[[51.1 25. ]\n",
      " [57.9 25. ]\n",
      " [57.9 26.1]\n",
      " [54.  26.1]], shape=(4, 2), dtype=float64)\n",
      "Input data:  tf.Tensor(\n",
      "[[2.0000e+03 1.0000e+00 0.0000e+00 4.4300e+01 3.9000e+01 1.0214e+03\n",
      "  6.9000e+00 3.2000e+00 6.0000e+00 5.4000e+01 2.6100e+01 4.0000e-02\n",
      "  0.0000e+00]\n",
      " [2.0000e+03 1.0000e+00 0.0000e+00 5.6900e+01 5.4200e+01 1.0098e+03\n",
      "  4.7000e+00 9.4000e+00 2.2000e+01 6.6000e+01 4.1000e+01 5.9000e-01\n",
      "  0.0000e+00]\n",
      " [2.0000e+03 1.0000e+00 0.0000e+00 5.4900e+01 3.3600e+01 1.0113e+03\n",
      "  9.9000e+00 1.1400e+01 2.4100e+01 7.0000e+01 4.3000e+01 9.0000e-01\n",
      "  0.0000e+00]\n",
      " [2.0000e+03 1.0000e+00 0.0000e+00 4.8200e+01 1.9800e+01 1.0219e+03\n",
      "  9.9000e+00 3.4000e+00 1.1100e+01 6.2100e+01 3.0200e+01 0.0000e+00\n",
      "  0.0000e+00]], shape=(4, 13), dtype=float64)\n",
      "Target data:  tf.Tensor(\n",
      "[[66.  41. ]\n",
      " [70.  43. ]\n",
      " [62.1 30.2]\n",
      " [70.  46.9]], shape=(4, 2), dtype=float64)\n",
      "Input data:  tf.Tensor(\n",
      "[[2.0000e+03 1.0000e+00 0.0000e+00 5.4700e+01 3.6800e+01 1.0162e+03\n",
      "  1.0000e+01 9.8000e+00 1.9000e+01 7.0000e+01 4.6900e+01 0.0000e+00\n",
      "  0.0000e+00]\n",
      " [2.0000e+03 1.0000e+00 0.0000e+00 3.5900e+01 1.0200e+01 1.0320e+03\n",
      "  9.9000e+00 8.4000e+00 1.9000e+01 5.2000e+01 2.8000e+01 0.0000e+00\n",
      "  0.0000e+00]\n",
      " [2.0000e+03 1.0000e+00 0.0000e+00 3.0200e+01 8.8000e+00 1.0390e+03\n",
      "  9.9000e+00 3.0000e+00 8.9000e+00 4.4100e+01 1.9000e+01 0.0000e+00\n",
      "  0.0000e+00]\n",
      " [2.0000e+03 1.0000e+00 0.0000e+00 4.5600e+01 2.1200e+01 1.0274e+03\n",
      "  9.8000e+00 1.1000e+01 1.8100e+01 6.3000e+01 3.6000e+01 0.0000e+00\n",
      "  0.0000e+00]], shape=(4, 13), dtype=float64)\n",
      "Target data:  tf.Tensor(\n",
      "[[52.  28. ]\n",
      " [44.1 19. ]\n",
      " [63.  36. ]\n",
      " [63.  32. ]], shape=(4, 2), dtype=float64)\n",
      "Input data:  tf.Tensor(\n",
      "[[2.0000e+03 1.0000e+00 0.0000e+00 4.3000e+01 1.5500e+01 1.0270e+03\n",
      "  9.9000e+00 6.8000e+00 1.5000e+01 6.3000e+01 3.2000e+01 0.0000e+00\n",
      "  0.0000e+00]\n",
      " [2.0000e+03 1.0000e+00 0.0000e+00 2.6600e+01 1.4000e+01 1.0235e+03\n",
      "  5.1000e+00 3.6000e+00 8.0000e+00 3.3100e+01 2.1200e+01 9.0000e-02\n",
      "  3.1000e+00]\n",
      " [2.0000e+03 1.0000e+00 0.0000e+00 3.0500e+01 2.7200e+01 1.0168e+03\n",
      "  5.4000e+00 2.7000e+00 8.0000e+00 3.9900e+01 2.1900e+01 1.0000e-01\n",
      "  2.0000e+00]\n",
      " [2.0000e+03 1.0000e+00 0.0000e+00 3.5700e+01 2.8400e+01 1.0061e+03\n",
      "  6.3000e+00 7.1000e+00 1.5000e+01 4.5000e+01 2.4100e+01 2.6000e-01\n",
      "  2.0000e+00]], shape=(4, 13), dtype=float64)\n",
      "Target data:  tf.Tensor(\n",
      "[[33.1 21.2]\n",
      " [39.9 21.9]\n",
      " [45.  24.1]\n",
      " [45.  21. ]], shape=(4, 2), dtype=float64)\n"
     ]
    }
   ],
   "source": [
    "# see batches of days\n",
    "for input_ex, target_ex in batches.take(5):\n",
    "    print('Input data: ', input_ex)\n",
    "    print('Target data: ', target_ex)"
   ]
  },
  {
   "cell_type": "code",
   "execution_count": 45,
   "id": "9666e378",
   "metadata": {},
   "outputs": [
    {
     "name": "stdout",
     "output_type": "stream",
     "text": [
      "Step    0\n",
      "  input: [2.000e+03 1.000e+00 0.000e+00 4.300e+01 1.550e+01 1.027e+03 9.900e+00\n",
      " 6.800e+00 1.500e+01 6.300e+01 3.200e+01 0.000e+00 0.000e+00]\n",
      "  expected output: [33.1 21.2]\n",
      "Step    1\n",
      "  input: [2.0000e+03 1.0000e+00 0.0000e+00 2.6600e+01 1.4000e+01 1.0235e+03\n",
      " 5.1000e+00 3.6000e+00 8.0000e+00 3.3100e+01 2.1200e+01 9.0000e-02\n",
      " 3.1000e+00]\n",
      "  expected output: [39.9 21.9]\n",
      "Step    2\n",
      "  input: [2.0000e+03 1.0000e+00 0.0000e+00 3.0500e+01 2.7200e+01 1.0168e+03\n",
      " 5.4000e+00 2.7000e+00 8.0000e+00 3.9900e+01 2.1900e+01 1.0000e-01\n",
      " 2.0000e+00]\n",
      "  expected output: [45.  24.1]\n",
      "Step    3\n",
      "  input: [2.0000e+03 1.0000e+00 0.0000e+00 3.5700e+01 2.8400e+01 1.0061e+03\n",
      " 6.3000e+00 7.1000e+00 1.5000e+01 4.5000e+01 2.4100e+01 2.6000e-01\n",
      " 2.0000e+00]\n",
      "  expected output: [45. 21.]\n"
     ]
    }
   ],
   "source": [
    "# see expected output for each input\n",
    "for i, (input_idx, target_idx) in enumerate(zip(input_ex[:5], target_ex[:5])):\n",
    "    print(\"Step {:4d}\".format(i))\n",
    "    print(\"  input: {}\".format(input_idx))\n",
    "    print(\"  expected output: {}\".format(target_idx))"
   ]
  },
  {
   "cell_type": "code",
   "execution_count": 46,
   "id": "b03628cb",
   "metadata": {},
   "outputs": [
    {
     "data": {
      "text/plain": [
       "<BatchDataset shapes: ((64, 4, 13), (64, 4, 2)), types: (tf.float64, tf.float64)>"
      ]
     },
     "execution_count": 46,
     "metadata": {},
     "output_type": "execute_result"
    }
   ],
   "source": [
    "# make batches of the 4-day batches\n",
    "# Batch size\n",
    "BATCH_SIZE = 64\n",
    "BUFFER_SIZE = 10000\n",
    "\n",
    "batches = batches.shuffle(BUFFER_SIZE).batch(BATCH_SIZE, drop_remainder=True)\n",
    "\n",
    "batches"
   ]
  },
  {
   "cell_type": "markdown",
   "id": "c9196b7d",
   "metadata": {},
   "source": [
    "## Build the Model"
   ]
  },
  {
   "cell_type": "code",
   "execution_count": 76,
   "id": "9eece259",
   "metadata": {},
   "outputs": [],
   "source": [
    "# how many possible outputs\n",
    "num_output_vals = 2 # find good number for this\n",
    "\n",
    "# Number of RNN units\n",
    "rnn_units = 64"
   ]
  },
  {
   "cell_type": "code",
   "execution_count": 77,
   "id": "1493b0c1",
   "metadata": {},
   "outputs": [],
   "source": [
    "def build_model(rnn_units, num_output_vals, batch_size):\n",
    "    model = tf.keras.Sequential([\n",
    "        tf.keras.layers.Dense(128, batch_input_shape=[batch_size, 4, 13]),\n",
    "        tf.keras.layers.GRU(rnn_units,\n",
    "                            return_sequences=True,\n",
    "                            stateful=True,\n",
    "                            recurrent_initializer='glorot_uniform'),\n",
    "        tf.keras.layers.Dense(num_output_vals)\n",
    "    ])\n",
    "    return model"
   ]
  },
  {
   "cell_type": "code",
   "execution_count": 78,
   "id": "cbe5e2a3",
   "metadata": {},
   "outputs": [],
   "source": [
    "model = build_model(rnn_units, num_output_vals, BATCH_SIZE)"
   ]
  },
  {
   "cell_type": "markdown",
   "id": "f9af3a6c",
   "metadata": {},
   "source": [
    "## Try the Model"
   ]
  },
  {
   "cell_type": "code",
   "execution_count": 79,
   "id": "201c5b21",
   "metadata": {},
   "outputs": [
    {
     "name": "stdout",
     "output_type": "stream",
     "text": [
      "(64, 4, 2) # (batch_size, days_in_batches, num_output_vals)\n"
     ]
    }
   ],
   "source": [
    "for input_example_batch, target_example_batch in batches.take(1):\n",
    "    example_batch_predictions = model(input_example_batch)\n",
    "    print(example_batch_predictions.shape, \"# (batch_size, days_in_batches, num_output_vals)\")"
   ]
  },
  {
   "cell_type": "code",
   "execution_count": 80,
   "id": "8f27ca81",
   "metadata": {},
   "outputs": [
    {
     "data": {
      "text/plain": [
       "TensorShape([64, 4, 2])"
      ]
     },
     "execution_count": 80,
     "metadata": {},
     "output_type": "execute_result"
    }
   ],
   "source": [
    "target_example_batch.shape # 512 total # need another dim??"
   ]
  },
  {
   "cell_type": "code",
   "execution_count": 81,
   "id": "1b7a3011",
   "metadata": {},
   "outputs": [
    {
     "data": {
      "text/plain": [
       "TensorShape([64, 4, 13])"
      ]
     },
     "execution_count": 81,
     "metadata": {},
     "output_type": "execute_result"
    }
   ],
   "source": [
    "input_example_batch.shape # 64*52=3328"
   ]
  },
  {
   "cell_type": "code",
   "execution_count": 83,
   "id": "d74793ec",
   "metadata": {},
   "outputs": [
    {
     "data": {
      "text/plain": [
       "TensorShape([64, 4, 2])"
      ]
     },
     "execution_count": 83,
     "metadata": {},
     "output_type": "execute_result"
    }
   ],
   "source": [
    "example_batch_predictions.shape"
   ]
  },
  {
   "cell_type": "code",
   "execution_count": 84,
   "id": "3908267c",
   "metadata": {},
   "outputs": [
    {
     "name": "stdout",
     "output_type": "stream",
     "text": [
      "Model: \"sequential_8\"\n",
      "_________________________________________________________________\n",
      "Layer (type)                 Output Shape              Param #   \n",
      "=================================================================\n",
      "dense_16 (Dense)             (64, 4, 128)              1792      \n",
      "_________________________________________________________________\n",
      "gru_8 (GRU)                  (64, 4, 64)               37248     \n",
      "_________________________________________________________________\n",
      "dense_17 (Dense)             (64, 4, 2)                130       \n",
      "=================================================================\n",
      "Total params: 39,170\n",
      "Trainable params: 39,170\n",
      "Non-trainable params: 0\n",
      "_________________________________________________________________\n"
     ]
    }
   ],
   "source": [
    "model.summary()"
   ]
  },
  {
   "cell_type": "code",
   "execution_count": 85,
   "id": "9228061a",
   "metadata": {},
   "outputs": [
    {
     "data": {
      "text/plain": [
       "array([0, 0, 0, 0])"
      ]
     },
     "execution_count": 85,
     "metadata": {},
     "output_type": "execute_result"
    }
   ],
   "source": [
    "# example predictions, all terrible bc model not trained\n",
    "sampled_indices = tf.random.categorical(example_batch_predictions[0], num_samples=1)\n",
    "sampled_indices = tf.squeeze(sampled_indices,axis=-1).numpy()\n",
    "sampled_indices"
   ]
  },
  {
   "cell_type": "code",
   "execution_count": 86,
   "id": "bdc1f448",
   "metadata": {},
   "outputs": [
    {
     "name": "stdout",
     "output_type": "stream",
     "text": [
      "Input: \n",
      " tf.Tensor(\n",
      "[[2.0030e+03 4.0000e+00 1.0000e+00 4.5100e+01 4.0900e+01 1.0237e+03\n",
      "  6.7000e+00 9.1000e+00 1.4000e+01 5.9000e+01 3.9200e+01 3.9000e-01\n",
      "  0.0000e+00]\n",
      " [2.0030e+03 4.0000e+00 1.0000e+00 4.2500e+01 4.1700e+01 1.0235e+03\n",
      "  7.9000e+00 6.5000e+00 8.0000e+00 4.6900e+01 3.9900e+01 6.9000e-01\n",
      "  0.0000e+00]\n",
      " [2.0030e+03 4.0000e+00 1.0000e+00 4.2900e+01 4.2200e+01 1.0166e+03\n",
      "  6.9000e+00 8.2000e+00 1.2000e+01 4.5000e+01 3.9900e+01 1.2000e+00\n",
      "  0.0000e+00]\n",
      " [2.0030e+03 4.0000e+00 1.0000e+00 4.4200e+01 4.3300e+01 1.0086e+03\n",
      "  5.7000e+00 1.4100e+01 2.2900e+01 4.8000e+01 4.1000e+01 8.1000e-01\n",
      "  0.0000e+00]], shape=(4, 13), dtype=float64)\n",
      "\n",
      "Next Day Predictions: \n",
      " [0 0 0 0]\n"
     ]
    }
   ],
   "source": [
    "# show input and output\n",
    "print(\"Input: \\n\", input_example_batch[0])\n",
    "print()\n",
    "print(\"Next Day Predictions: \\n\", sampled_indices)"
   ]
  },
  {
   "cell_type": "code",
   "execution_count": 87,
   "id": "4b3b728d",
   "metadata": {},
   "outputs": [
    {
     "ename": "ValueError",
     "evalue": "Shape mismatch: The shape of labels (received (512,)) should equal the shape of logits except for the last dimension (received (256, 2)).",
     "output_type": "error",
     "traceback": [
      "\u001b[0;31m---------------------------------------------------------------------------\u001b[0m",
      "\u001b[0;31mValueError\u001b[0m                                Traceback (most recent call last)",
      "\u001b[0;32m<ipython-input-87-1b71b3ff9136>\u001b[0m in \u001b[0;36m<module>\u001b[0;34m\u001b[0m\n\u001b[1;32m      1\u001b[0m \u001b[0;31m# do we need logits for loss function? from_logits=True\u001b[0m\u001b[0;34m\u001b[0m\u001b[0;34m\u001b[0m\u001b[0;34m\u001b[0m\u001b[0m\n\u001b[1;32m      2\u001b[0m \u001b[0mloss\u001b[0m \u001b[0;34m=\u001b[0m \u001b[0mtf\u001b[0m\u001b[0;34m.\u001b[0m\u001b[0mlosses\u001b[0m\u001b[0;34m.\u001b[0m\u001b[0mSparseCategoricalCrossentropy\u001b[0m\u001b[0;34m(\u001b[0m\u001b[0;34m)\u001b[0m\u001b[0;34m\u001b[0m\u001b[0;34m\u001b[0m\u001b[0m\n\u001b[0;32m----> 3\u001b[0;31m \u001b[0mexample_batch_loss\u001b[0m \u001b[0;34m=\u001b[0m \u001b[0mloss\u001b[0m\u001b[0;34m(\u001b[0m\u001b[0mtarget_example_batch\u001b[0m\u001b[0;34m,\u001b[0m \u001b[0mexample_batch_predictions\u001b[0m\u001b[0;34m)\u001b[0m\u001b[0;34m\u001b[0m\u001b[0;34m\u001b[0m\u001b[0m\n\u001b[0m\u001b[1;32m      4\u001b[0m \u001b[0mmean_loss\u001b[0m \u001b[0;34m=\u001b[0m \u001b[0mexample_batch_loss\u001b[0m\u001b[0;34m.\u001b[0m\u001b[0mnumpy\u001b[0m\u001b[0;34m(\u001b[0m\u001b[0;34m)\u001b[0m\u001b[0;34m.\u001b[0m\u001b[0mmean\u001b[0m\u001b[0;34m(\u001b[0m\u001b[0;34m)\u001b[0m\u001b[0;34m\u001b[0m\u001b[0;34m\u001b[0m\u001b[0m\n\u001b[1;32m      5\u001b[0m \u001b[0mprint\u001b[0m\u001b[0;34m(\u001b[0m\u001b[0;34m\"Prediction shape: \"\u001b[0m\u001b[0;34m,\u001b[0m \u001b[0mexample_batch_predictions\u001b[0m\u001b[0;34m.\u001b[0m\u001b[0mshape\u001b[0m\u001b[0;34m,\u001b[0m \u001b[0;34m\" # (batch_size, days_in_batches, num_output_vals)\"\u001b[0m\u001b[0;34m)\u001b[0m\u001b[0;34m\u001b[0m\u001b[0;34m\u001b[0m\u001b[0m\n",
      "\u001b[0;32m/opt/anaconda3/envs/ml-tensor/lib/python3.7/site-packages/tensorflow_core/python/keras/losses.py\u001b[0m in \u001b[0;36m__call__\u001b[0;34m(self, y_true, y_pred, sample_weight)\u001b[0m\n\u001b[1;32m    124\u001b[0m         y_true, y_pred, sample_weight)\n\u001b[1;32m    125\u001b[0m     \u001b[0;32mwith\u001b[0m \u001b[0mK\u001b[0m\u001b[0;34m.\u001b[0m\u001b[0mname_scope\u001b[0m\u001b[0;34m(\u001b[0m\u001b[0mscope_name\u001b[0m \u001b[0;32mor\u001b[0m \u001b[0mself\u001b[0m\u001b[0;34m.\u001b[0m\u001b[0m__class__\u001b[0m\u001b[0;34m.\u001b[0m\u001b[0m__name__\u001b[0m\u001b[0;34m)\u001b[0m\u001b[0;34m,\u001b[0m \u001b[0mgraph_ctx\u001b[0m\u001b[0;34m:\u001b[0m\u001b[0;34m\u001b[0m\u001b[0;34m\u001b[0m\u001b[0m\n\u001b[0;32m--> 126\u001b[0;31m       \u001b[0mlosses\u001b[0m \u001b[0;34m=\u001b[0m \u001b[0mself\u001b[0m\u001b[0;34m.\u001b[0m\u001b[0mcall\u001b[0m\u001b[0;34m(\u001b[0m\u001b[0my_true\u001b[0m\u001b[0;34m,\u001b[0m \u001b[0my_pred\u001b[0m\u001b[0;34m)\u001b[0m\u001b[0;34m\u001b[0m\u001b[0;34m\u001b[0m\u001b[0m\n\u001b[0m\u001b[1;32m    127\u001b[0m       return losses_utils.compute_weighted_loss(\n\u001b[1;32m    128\u001b[0m           losses, sample_weight, reduction=self._get_reduction())\n",
      "\u001b[0;32m/opt/anaconda3/envs/ml-tensor/lib/python3.7/site-packages/tensorflow_core/python/keras/losses.py\u001b[0m in \u001b[0;36mcall\u001b[0;34m(self, y_true, y_pred)\u001b[0m\n\u001b[1;32m    219\u001b[0m       y_pred, y_true = tf_losses_util.squeeze_or_expand_dimensions(\n\u001b[1;32m    220\u001b[0m           y_pred, y_true)\n\u001b[0;32m--> 221\u001b[0;31m     \u001b[0;32mreturn\u001b[0m \u001b[0mself\u001b[0m\u001b[0;34m.\u001b[0m\u001b[0mfn\u001b[0m\u001b[0;34m(\u001b[0m\u001b[0my_true\u001b[0m\u001b[0;34m,\u001b[0m \u001b[0my_pred\u001b[0m\u001b[0;34m,\u001b[0m \u001b[0;34m**\u001b[0m\u001b[0mself\u001b[0m\u001b[0;34m.\u001b[0m\u001b[0m_fn_kwargs\u001b[0m\u001b[0;34m)\u001b[0m\u001b[0;34m\u001b[0m\u001b[0;34m\u001b[0m\u001b[0m\n\u001b[0m\u001b[1;32m    222\u001b[0m \u001b[0;34m\u001b[0m\u001b[0m\n\u001b[1;32m    223\u001b[0m   \u001b[0;32mdef\u001b[0m \u001b[0mget_config\u001b[0m\u001b[0;34m(\u001b[0m\u001b[0mself\u001b[0m\u001b[0;34m)\u001b[0m\u001b[0;34m:\u001b[0m\u001b[0;34m\u001b[0m\u001b[0;34m\u001b[0m\u001b[0m\n",
      "\u001b[0;32m/opt/anaconda3/envs/ml-tensor/lib/python3.7/site-packages/tensorflow_core/python/keras/losses.py\u001b[0m in \u001b[0;36msparse_categorical_crossentropy\u001b[0;34m(y_true, y_pred, from_logits, axis)\u001b[0m\n\u001b[1;32m    976\u001b[0m \u001b[0;32mdef\u001b[0m \u001b[0msparse_categorical_crossentropy\u001b[0m\u001b[0;34m(\u001b[0m\u001b[0my_true\u001b[0m\u001b[0;34m,\u001b[0m \u001b[0my_pred\u001b[0m\u001b[0;34m,\u001b[0m \u001b[0mfrom_logits\u001b[0m\u001b[0;34m=\u001b[0m\u001b[0;32mFalse\u001b[0m\u001b[0;34m,\u001b[0m \u001b[0maxis\u001b[0m\u001b[0;34m=\u001b[0m\u001b[0;34m-\u001b[0m\u001b[0;36m1\u001b[0m\u001b[0;34m)\u001b[0m\u001b[0;34m:\u001b[0m\u001b[0;34m\u001b[0m\u001b[0;34m\u001b[0m\u001b[0m\n\u001b[1;32m    977\u001b[0m   return K.sparse_categorical_crossentropy(\n\u001b[0;32m--> 978\u001b[0;31m       y_true, y_pred, from_logits=from_logits, axis=axis)\n\u001b[0m\u001b[1;32m    979\u001b[0m \u001b[0;34m\u001b[0m\u001b[0m\n\u001b[1;32m    980\u001b[0m \u001b[0;34m\u001b[0m\u001b[0m\n",
      "\u001b[0;32m/opt/anaconda3/envs/ml-tensor/lib/python3.7/site-packages/tensorflow_core/python/keras/backend.py\u001b[0m in \u001b[0;36msparse_categorical_crossentropy\u001b[0;34m(target, output, from_logits, axis)\u001b[0m\n\u001b[1;32m   4547\u001b[0m   \u001b[0;32melse\u001b[0m\u001b[0;34m:\u001b[0m\u001b[0;34m\u001b[0m\u001b[0;34m\u001b[0m\u001b[0m\n\u001b[1;32m   4548\u001b[0m     res = nn.sparse_softmax_cross_entropy_with_logits_v2(\n\u001b[0;32m-> 4549\u001b[0;31m         labels=target, logits=output)\n\u001b[0m\u001b[1;32m   4550\u001b[0m \u001b[0;34m\u001b[0m\u001b[0m\n\u001b[1;32m   4551\u001b[0m   \u001b[0;32mif\u001b[0m \u001b[0mupdate_shape\u001b[0m \u001b[0;32mand\u001b[0m \u001b[0moutput_rank\u001b[0m \u001b[0;34m>=\u001b[0m \u001b[0;36m3\u001b[0m\u001b[0;34m:\u001b[0m\u001b[0;34m\u001b[0m\u001b[0;34m\u001b[0m\u001b[0m\n",
      "\u001b[0;32m/opt/anaconda3/envs/ml-tensor/lib/python3.7/site-packages/tensorflow_core/python/ops/nn_ops.py\u001b[0m in \u001b[0;36msparse_softmax_cross_entropy_with_logits_v2\u001b[0;34m(labels, logits, name)\u001b[0m\n\u001b[1;32m   3475\u001b[0m   \"\"\"\n\u001b[1;32m   3476\u001b[0m   return sparse_softmax_cross_entropy_with_logits(\n\u001b[0;32m-> 3477\u001b[0;31m       labels=labels, logits=logits, name=name)\n\u001b[0m\u001b[1;32m   3478\u001b[0m \u001b[0;34m\u001b[0m\u001b[0m\n\u001b[1;32m   3479\u001b[0m \u001b[0;34m\u001b[0m\u001b[0m\n",
      "\u001b[0;32m/opt/anaconda3/envs/ml-tensor/lib/python3.7/site-packages/tensorflow_core/python/ops/nn_ops.py\u001b[0m in \u001b[0;36msparse_softmax_cross_entropy_with_logits\u001b[0;34m(_sentinel, labels, logits, name)\u001b[0m\n\u001b[1;32m   3391\u001b[0m                        \u001b[0;34m\"should equal the shape of logits except for the last \"\u001b[0m\u001b[0;34m\u001b[0m\u001b[0;34m\u001b[0m\u001b[0m\n\u001b[1;32m   3392\u001b[0m                        \"dimension (received %s).\" % (labels_static_shape,\n\u001b[0;32m-> 3393\u001b[0;31m                                                      logits.get_shape()))\n\u001b[0m\u001b[1;32m   3394\u001b[0m     \u001b[0;31m# Check if no reshapes are required.\u001b[0m\u001b[0;34m\u001b[0m\u001b[0;34m\u001b[0m\u001b[0;34m\u001b[0m\u001b[0m\n\u001b[1;32m   3395\u001b[0m     \u001b[0;32mif\u001b[0m \u001b[0mlogits\u001b[0m\u001b[0;34m.\u001b[0m\u001b[0mget_shape\u001b[0m\u001b[0;34m(\u001b[0m\u001b[0;34m)\u001b[0m\u001b[0;34m.\u001b[0m\u001b[0mndims\u001b[0m \u001b[0;34m==\u001b[0m \u001b[0;36m2\u001b[0m\u001b[0;34m:\u001b[0m\u001b[0;34m\u001b[0m\u001b[0;34m\u001b[0m\u001b[0m\n",
      "\u001b[0;31mValueError\u001b[0m: Shape mismatch: The shape of labels (received (512,)) should equal the shape of logits except for the last dimension (received (256, 2))."
     ]
    }
   ],
   "source": [
    "# do we need logits for loss function? from_logits=True\n",
    "loss = tf.losses.SparseCategoricalCrossentropy()\n",
    "example_batch_loss = loss(target_example_batch, example_batch_predictions)\n",
    "mean_loss = example_batch_loss.numpy().mean()\n",
    "print(\"Prediction shape: \", example_batch_predictions.shape, \" # (batch_size, days_in_batches, num_output_vals)\")\n",
    "print(\"Mean loss:        \", mean_loss)\n",
    "#model.compile(optimizer='adam', loss='sparse_categorical_crossentropy')"
   ]
  },
  {
   "cell_type": "markdown",
   "id": "714f5677",
   "metadata": {},
   "source": [
    "#### Resources Consulted\n",
    "https://www.tensorflow.org/api_docs/python/tf/keras/Sequential\n"
   ]
  },
  {
   "cell_type": "code",
   "execution_count": null,
   "id": "000fbcf2",
   "metadata": {},
   "outputs": [],
   "source": []
  }
 ],
 "metadata": {
  "kernelspec": {
   "display_name": "Python 3",
   "language": "python",
   "name": "python3"
  },
  "language_info": {
   "codemirror_mode": {
    "name": "ipython",
    "version": 3
   },
   "file_extension": ".py",
   "mimetype": "text/x-python",
   "name": "python",
   "nbconvert_exporter": "python",
   "pygments_lexer": "ipython3",
   "version": "3.7.10"
  }
 },
 "nbformat": 4,
 "nbformat_minor": 5
}
