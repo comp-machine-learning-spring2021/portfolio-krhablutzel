{
 "cells": [
  {
   "cell_type": "markdown",
   "id": "0201af70",
   "metadata": {},
   "source": [
    "# Will it Rain Tomorrow?\n",
    "### Deep Learning with Neural Networks and RNNs\n",
    "\n",
    "Predict whether it rains"
   ]
  },
  {
   "cell_type": "code",
   "execution_count": 66,
   "id": "253e2663",
   "metadata": {},
   "outputs": [],
   "source": [
    "import pandas as pd\n",
    "import numpy as np\n",
    "import tensorflow as tf\n",
    "\n",
    "from sklearn.utils import shuffle\n",
    "\n",
    "# workaround for MacOS/jupyter notebook bug w/ tensorflow\n",
    "# https://www.programmersought.com/article/69923598438/\n",
    "import os\n",
    "os.environ['KMP_DUPLICATE_LIB_OK']='True'"
   ]
  },
  {
   "cell_type": "markdown",
   "id": "a7ffae99",
   "metadata": {},
   "source": [
    "## Import Data"
   ]
  },
  {
   "cell_type": "code",
   "execution_count": 58,
   "id": "d6056b79",
   "metadata": {},
   "outputs": [],
   "source": [
    "np.random.seed(4471)\n",
    "# https://www.tensorflow.org/tutorials/load_data/numpy\n",
    "# https://www.tensorflow.org/tutorials/load_data/pandas_dataframe\n",
    "weather_pd = pd.read_csv('../data/weather.csv', index_col = 0)\n",
    "weather_pd = weather_pd.drop(['DAY', 'STP', 'GUST'], axis=1)\n",
    "weather_np = weather_pd.to_numpy()"
   ]
  },
  {
   "cell_type": "code",
   "execution_count": 59,
   "id": "bfd4e991",
   "metadata": {},
   "outputs": [
    {
     "data": {
      "text/html": [
       "<div>\n",
       "<style scoped>\n",
       "    .dataframe tbody tr th:only-of-type {\n",
       "        vertical-align: middle;\n",
       "    }\n",
       "\n",
       "    .dataframe tbody tr th {\n",
       "        vertical-align: top;\n",
       "    }\n",
       "\n",
       "    .dataframe thead th {\n",
       "        text-align: right;\n",
       "    }\n",
       "</style>\n",
       "<table border=\"1\" class=\"dataframe\">\n",
       "  <thead>\n",
       "    <tr style=\"text-align: right;\">\n",
       "      <th></th>\n",
       "      <th>YEAR</th>\n",
       "      <th>MONTH</th>\n",
       "      <th>SEASON</th>\n",
       "      <th>TEMP</th>\n",
       "      <th>DEWP</th>\n",
       "      <th>SLP</th>\n",
       "      <th>VISIB</th>\n",
       "      <th>WDSP</th>\n",
       "      <th>MXSPD</th>\n",
       "      <th>MAX</th>\n",
       "      <th>MIN</th>\n",
       "      <th>PRCP</th>\n",
       "      <th>SNDP</th>\n",
       "    </tr>\n",
       "  </thead>\n",
       "  <tbody>\n",
       "    <tr>\n",
       "      <th>0</th>\n",
       "      <td>2000</td>\n",
       "      <td>1</td>\n",
       "      <td>0</td>\n",
       "      <td>47.6</td>\n",
       "      <td>38.1</td>\n",
       "      <td>1023.7</td>\n",
       "      <td>8.3</td>\n",
       "      <td>3.0</td>\n",
       "      <td>10.1</td>\n",
       "      <td>66.9</td>\n",
       "      <td>33.1</td>\n",
       "      <td>0.00</td>\n",
       "      <td>0.0</td>\n",
       "    </tr>\n",
       "    <tr>\n",
       "      <th>1</th>\n",
       "      <td>2000</td>\n",
       "      <td>1</td>\n",
       "      <td>0</td>\n",
       "      <td>55.3</td>\n",
       "      <td>46.3</td>\n",
       "      <td>1024.2</td>\n",
       "      <td>9.5</td>\n",
       "      <td>4.8</td>\n",
       "      <td>14.0</td>\n",
       "      <td>70.0</td>\n",
       "      <td>33.1</td>\n",
       "      <td>0.00</td>\n",
       "      <td>0.0</td>\n",
       "    </tr>\n",
       "    <tr>\n",
       "      <th>2</th>\n",
       "      <td>2000</td>\n",
       "      <td>1</td>\n",
       "      <td>0</td>\n",
       "      <td>62.6</td>\n",
       "      <td>55.4</td>\n",
       "      <td>1021.3</td>\n",
       "      <td>8.4</td>\n",
       "      <td>8.5</td>\n",
       "      <td>14.0</td>\n",
       "      <td>73.9</td>\n",
       "      <td>43.0</td>\n",
       "      <td>0.00</td>\n",
       "      <td>0.0</td>\n",
       "    </tr>\n",
       "    <tr>\n",
       "      <th>3</th>\n",
       "      <td>2000</td>\n",
       "      <td>1</td>\n",
       "      <td>0</td>\n",
       "      <td>65.2</td>\n",
       "      <td>58.6</td>\n",
       "      <td>1014.4</td>\n",
       "      <td>9.5</td>\n",
       "      <td>15.3</td>\n",
       "      <td>28.0</td>\n",
       "      <td>73.9</td>\n",
       "      <td>55.0</td>\n",
       "      <td>0.00</td>\n",
       "      <td>0.0</td>\n",
       "    </tr>\n",
       "    <tr>\n",
       "      <th>4</th>\n",
       "      <td>2000</td>\n",
       "      <td>1</td>\n",
       "      <td>0</td>\n",
       "      <td>45.7</td>\n",
       "      <td>30.9</td>\n",
       "      <td>1019.8</td>\n",
       "      <td>9.8</td>\n",
       "      <td>6.4</td>\n",
       "      <td>11.1</td>\n",
       "      <td>57.9</td>\n",
       "      <td>37.0</td>\n",
       "      <td>0.34</td>\n",
       "      <td>0.0</td>\n",
       "    </tr>\n",
       "  </tbody>\n",
       "</table>\n",
       "</div>"
      ],
      "text/plain": [
       "   YEAR  MONTH  SEASON  TEMP  DEWP     SLP  VISIB  WDSP  MXSPD   MAX   MIN  \\\n",
       "0  2000      1       0  47.6  38.1  1023.7    8.3   3.0   10.1  66.9  33.1   \n",
       "1  2000      1       0  55.3  46.3  1024.2    9.5   4.8   14.0  70.0  33.1   \n",
       "2  2000      1       0  62.6  55.4  1021.3    8.4   8.5   14.0  73.9  43.0   \n",
       "3  2000      1       0  65.2  58.6  1014.4    9.5  15.3   28.0  73.9  55.0   \n",
       "4  2000      1       0  45.7  30.9  1019.8    9.8   6.4   11.1  57.9  37.0   \n",
       "\n",
       "   PRCP  SNDP  \n",
       "0  0.00   0.0  \n",
       "1  0.00   0.0  \n",
       "2  0.00   0.0  \n",
       "3  0.00   0.0  \n",
       "4  0.34   0.0  "
      ]
     },
     "execution_count": 59,
     "metadata": {},
     "output_type": "execute_result"
    }
   ],
   "source": [
    "weather_pd.head()"
   ]
  },
  {
   "cell_type": "code",
   "execution_count": 60,
   "id": "95e79c89",
   "metadata": {},
   "outputs": [],
   "source": [
    "# whether it rained that day\n",
    "# bool to int conversion: https://stackoverflow.com/questions/17506163/how-to-convert-a-boolean-array-to-an-int-array\n",
    "weather_pd['RAIN'] = (weather_pd['PRCP'] > 0).astype(int)"
   ]
  },
  {
   "cell_type": "code",
   "execution_count": 61,
   "id": "5d3541de",
   "metadata": {},
   "outputs": [
    {
     "data": {
      "text/html": [
       "<div>\n",
       "<style scoped>\n",
       "    .dataframe tbody tr th:only-of-type {\n",
       "        vertical-align: middle;\n",
       "    }\n",
       "\n",
       "    .dataframe tbody tr th {\n",
       "        vertical-align: top;\n",
       "    }\n",
       "\n",
       "    .dataframe thead th {\n",
       "        text-align: right;\n",
       "    }\n",
       "</style>\n",
       "<table border=\"1\" class=\"dataframe\">\n",
       "  <thead>\n",
       "    <tr style=\"text-align: right;\">\n",
       "      <th></th>\n",
       "      <th>YEAR</th>\n",
       "      <th>MONTH</th>\n",
       "      <th>SEASON</th>\n",
       "      <th>TEMP</th>\n",
       "      <th>DEWP</th>\n",
       "      <th>SLP</th>\n",
       "      <th>VISIB</th>\n",
       "      <th>WDSP</th>\n",
       "      <th>MXSPD</th>\n",
       "      <th>MAX</th>\n",
       "      <th>MIN</th>\n",
       "      <th>PRCP</th>\n",
       "      <th>SNDP</th>\n",
       "      <th>RAIN</th>\n",
       "    </tr>\n",
       "  </thead>\n",
       "  <tbody>\n",
       "    <tr>\n",
       "      <th>0</th>\n",
       "      <td>2000</td>\n",
       "      <td>1</td>\n",
       "      <td>0</td>\n",
       "      <td>47.6</td>\n",
       "      <td>38.1</td>\n",
       "      <td>1023.7</td>\n",
       "      <td>8.3</td>\n",
       "      <td>3.0</td>\n",
       "      <td>10.1</td>\n",
       "      <td>66.9</td>\n",
       "      <td>33.1</td>\n",
       "      <td>0.00</td>\n",
       "      <td>0.0</td>\n",
       "      <td>0</td>\n",
       "    </tr>\n",
       "    <tr>\n",
       "      <th>1</th>\n",
       "      <td>2000</td>\n",
       "      <td>1</td>\n",
       "      <td>0</td>\n",
       "      <td>55.3</td>\n",
       "      <td>46.3</td>\n",
       "      <td>1024.2</td>\n",
       "      <td>9.5</td>\n",
       "      <td>4.8</td>\n",
       "      <td>14.0</td>\n",
       "      <td>70.0</td>\n",
       "      <td>33.1</td>\n",
       "      <td>0.00</td>\n",
       "      <td>0.0</td>\n",
       "      <td>0</td>\n",
       "    </tr>\n",
       "    <tr>\n",
       "      <th>2</th>\n",
       "      <td>2000</td>\n",
       "      <td>1</td>\n",
       "      <td>0</td>\n",
       "      <td>62.6</td>\n",
       "      <td>55.4</td>\n",
       "      <td>1021.3</td>\n",
       "      <td>8.4</td>\n",
       "      <td>8.5</td>\n",
       "      <td>14.0</td>\n",
       "      <td>73.9</td>\n",
       "      <td>43.0</td>\n",
       "      <td>0.00</td>\n",
       "      <td>0.0</td>\n",
       "      <td>0</td>\n",
       "    </tr>\n",
       "    <tr>\n",
       "      <th>3</th>\n",
       "      <td>2000</td>\n",
       "      <td>1</td>\n",
       "      <td>0</td>\n",
       "      <td>65.2</td>\n",
       "      <td>58.6</td>\n",
       "      <td>1014.4</td>\n",
       "      <td>9.5</td>\n",
       "      <td>15.3</td>\n",
       "      <td>28.0</td>\n",
       "      <td>73.9</td>\n",
       "      <td>55.0</td>\n",
       "      <td>0.00</td>\n",
       "      <td>0.0</td>\n",
       "      <td>0</td>\n",
       "    </tr>\n",
       "    <tr>\n",
       "      <th>4</th>\n",
       "      <td>2000</td>\n",
       "      <td>1</td>\n",
       "      <td>0</td>\n",
       "      <td>45.7</td>\n",
       "      <td>30.9</td>\n",
       "      <td>1019.8</td>\n",
       "      <td>9.8</td>\n",
       "      <td>6.4</td>\n",
       "      <td>11.1</td>\n",
       "      <td>57.9</td>\n",
       "      <td>37.0</td>\n",
       "      <td>0.34</td>\n",
       "      <td>0.0</td>\n",
       "      <td>1</td>\n",
       "    </tr>\n",
       "  </tbody>\n",
       "</table>\n",
       "</div>"
      ],
      "text/plain": [
       "   YEAR  MONTH  SEASON  TEMP  DEWP     SLP  VISIB  WDSP  MXSPD   MAX   MIN  \\\n",
       "0  2000      1       0  47.6  38.1  1023.7    8.3   3.0   10.1  66.9  33.1   \n",
       "1  2000      1       0  55.3  46.3  1024.2    9.5   4.8   14.0  70.0  33.1   \n",
       "2  2000      1       0  62.6  55.4  1021.3    8.4   8.5   14.0  73.9  43.0   \n",
       "3  2000      1       0  65.2  58.6  1014.4    9.5  15.3   28.0  73.9  55.0   \n",
       "4  2000      1       0  45.7  30.9  1019.8    9.8   6.4   11.1  57.9  37.0   \n",
       "\n",
       "   PRCP  SNDP  RAIN  \n",
       "0  0.00   0.0     0  \n",
       "1  0.00   0.0     0  \n",
       "2  0.00   0.0     0  \n",
       "3  0.00   0.0     0  \n",
       "4  0.34   0.0     1  "
      ]
     },
     "execution_count": 61,
     "metadata": {},
     "output_type": "execute_result"
    }
   ],
   "source": [
    "weather_pd.head()"
   ]
  },
  {
   "cell_type": "code",
   "execution_count": 62,
   "id": "9941bf2d",
   "metadata": {},
   "outputs": [
    {
     "data": {
      "text/plain": [
       "YEAR        int64\n",
       "MONTH       int64\n",
       "SEASON      int64\n",
       "TEMP      float64\n",
       "DEWP      float64\n",
       "SLP       float64\n",
       "VISIB     float64\n",
       "WDSP      float64\n",
       "MXSPD     float64\n",
       "MAX       float64\n",
       "MIN       float64\n",
       "PRCP      float64\n",
       "SNDP      float64\n",
       "RAIN        int64\n",
       "dtype: object"
      ]
     },
     "execution_count": 62,
     "metadata": {},
     "output_type": "execute_result"
    }
   ],
   "source": [
    "weather_pd.dtypes"
   ]
  },
  {
   "cell_type": "markdown",
   "id": "fb08f09e",
   "metadata": {},
   "source": [
    "## Divide data into test/train"
   ]
  },
  {
   "cell_type": "code",
   "execution_count": 67,
   "id": "513b331a",
   "metadata": {},
   "outputs": [],
   "source": [
    "# adapted from original code in project 2\n",
    "def divide_data(weather):\n",
    "    '''divide dataset into two sets: 90% train and 10% test'''\n",
    "    n = weather.shape[0]\n",
    "    \n",
    "    # shuffle data for test/train so no patterns\n",
    "    # https://stackoverflow.com/questions/29576430/shuffle-dataframe-rows\n",
    "    weather = shuffle(weather)\n",
    "    \n",
    "    # take out 10% of the data for validation\n",
    "    # https://numpy.org/doc/stable/reference/random/generated/numpy.random.choice.html\n",
    "    ind_test = np.random.choice(n, size = n // 10, replace = False)\n",
    "    weather_test = weather.iloc[ind_test]\n",
    "\n",
    "    # take the other 90% for building the model\n",
    "    # https://stackoverflow.com/questions/27824075/accessing-numpy-array-elements-not-in-a-given-index-list\n",
    "    ind_train = [x for x in range(n) if x not in ind_test] # not in index\n",
    "    weather_train = weather.iloc[ind_train]\n",
    "\n",
    "    return weather_test, weather_train"
   ]
  },
  {
   "cell_type": "code",
   "execution_count": 70,
   "id": "da9f6a8b",
   "metadata": {},
   "outputs": [
    {
     "name": "stdout",
     "output_type": "stream",
     "text": [
      "test:  (777, 14)\n",
      "train: (6995, 14)\n"
     ]
    },
    {
     "data": {
      "text/html": [
       "<div>\n",
       "<style scoped>\n",
       "    .dataframe tbody tr th:only-of-type {\n",
       "        vertical-align: middle;\n",
       "    }\n",
       "\n",
       "    .dataframe tbody tr th {\n",
       "        vertical-align: top;\n",
       "    }\n",
       "\n",
       "    .dataframe thead th {\n",
       "        text-align: right;\n",
       "    }\n",
       "</style>\n",
       "<table border=\"1\" class=\"dataframe\">\n",
       "  <thead>\n",
       "    <tr style=\"text-align: right;\">\n",
       "      <th></th>\n",
       "      <th>YEAR</th>\n",
       "      <th>MONTH</th>\n",
       "      <th>SEASON</th>\n",
       "      <th>TEMP</th>\n",
       "      <th>DEWP</th>\n",
       "      <th>SLP</th>\n",
       "      <th>VISIB</th>\n",
       "      <th>WDSP</th>\n",
       "      <th>MXSPD</th>\n",
       "      <th>MAX</th>\n",
       "      <th>MIN</th>\n",
       "      <th>PRCP</th>\n",
       "      <th>SNDP</th>\n",
       "      <th>RAIN</th>\n",
       "    </tr>\n",
       "  </thead>\n",
       "  <tbody>\n",
       "    <tr>\n",
       "      <th>1017</th>\n",
       "      <td>2002</td>\n",
       "      <td>10</td>\n",
       "      <td>3</td>\n",
       "      <td>59.8</td>\n",
       "      <td>52.0</td>\n",
       "      <td>1023.0</td>\n",
       "      <td>9.2</td>\n",
       "      <td>8.0</td>\n",
       "      <td>13.0</td>\n",
       "      <td>73.9</td>\n",
       "      <td>55.0</td>\n",
       "      <td>0.08</td>\n",
       "      <td>0.0</td>\n",
       "      <td>1</td>\n",
       "    </tr>\n",
       "    <tr>\n",
       "      <th>2968</th>\n",
       "      <td>2008</td>\n",
       "      <td>2</td>\n",
       "      <td>0</td>\n",
       "      <td>50.4</td>\n",
       "      <td>33.9</td>\n",
       "      <td>1022.8</td>\n",
       "      <td>10.0</td>\n",
       "      <td>5.5</td>\n",
       "      <td>9.9</td>\n",
       "      <td>61.0</td>\n",
       "      <td>33.1</td>\n",
       "      <td>0.00</td>\n",
       "      <td>0.0</td>\n",
       "      <td>0</td>\n",
       "    </tr>\n",
       "    <tr>\n",
       "      <th>7554</th>\n",
       "      <td>2020</td>\n",
       "      <td>9</td>\n",
       "      <td>2</td>\n",
       "      <td>69.4</td>\n",
       "      <td>56.7</td>\n",
       "      <td>1022.4</td>\n",
       "      <td>10.0</td>\n",
       "      <td>3.3</td>\n",
       "      <td>8.9</td>\n",
       "      <td>82.0</td>\n",
       "      <td>57.0</td>\n",
       "      <td>0.00</td>\n",
       "      <td>0.0</td>\n",
       "      <td>0</td>\n",
       "    </tr>\n",
       "    <tr>\n",
       "      <th>3570</th>\n",
       "      <td>2009</td>\n",
       "      <td>10</td>\n",
       "      <td>3</td>\n",
       "      <td>76.0</td>\n",
       "      <td>67.2</td>\n",
       "      <td>1013.0</td>\n",
       "      <td>9.7</td>\n",
       "      <td>7.9</td>\n",
       "      <td>14.0</td>\n",
       "      <td>82.9</td>\n",
       "      <td>55.9</td>\n",
       "      <td>0.00</td>\n",
       "      <td>0.0</td>\n",
       "      <td>0</td>\n",
       "    </tr>\n",
       "    <tr>\n",
       "      <th>1131</th>\n",
       "      <td>2003</td>\n",
       "      <td>2</td>\n",
       "      <td>0</td>\n",
       "      <td>43.2</td>\n",
       "      <td>16.7</td>\n",
       "      <td>1017.2</td>\n",
       "      <td>9.9</td>\n",
       "      <td>5.4</td>\n",
       "      <td>12.0</td>\n",
       "      <td>63.0</td>\n",
       "      <td>33.1</td>\n",
       "      <td>0.21</td>\n",
       "      <td>0.0</td>\n",
       "      <td>1</td>\n",
       "    </tr>\n",
       "  </tbody>\n",
       "</table>\n",
       "</div>"
      ],
      "text/plain": [
       "      YEAR  MONTH  SEASON  TEMP  DEWP     SLP  VISIB  WDSP  MXSPD   MAX   MIN  \\\n",
       "1017  2002     10       3  59.8  52.0  1023.0    9.2   8.0   13.0  73.9  55.0   \n",
       "2968  2008      2       0  50.4  33.9  1022.8   10.0   5.5    9.9  61.0  33.1   \n",
       "7554  2020      9       2  69.4  56.7  1022.4   10.0   3.3    8.9  82.0  57.0   \n",
       "3570  2009     10       3  76.0  67.2  1013.0    9.7   7.9   14.0  82.9  55.9   \n",
       "1131  2003      2       0  43.2  16.7  1017.2    9.9   5.4   12.0  63.0  33.1   \n",
       "\n",
       "      PRCP  SNDP  RAIN  \n",
       "1017  0.08   0.0     1  \n",
       "2968  0.00   0.0     0  \n",
       "7554  0.00   0.0     0  \n",
       "3570  0.00   0.0     0  \n",
       "1131  0.21   0.0     1  "
      ]
     },
     "execution_count": 70,
     "metadata": {},
     "output_type": "execute_result"
    }
   ],
   "source": [
    "weather_test, weather_train = divide_data(weather_pd)\n",
    "print(\"test: \", weather_test.shape)\n",
    "print(\"train:\", weather_train.shape)\n",
    "weather_train.head()"
   ]
  },
  {
   "cell_type": "markdown",
   "id": "8744f6a6",
   "metadata": {},
   "source": [
    "## Divide Each Set into Features/Targets"
   ]
  },
  {
   "cell_type": "code",
   "execution_count": 74,
   "id": "b5de6c75",
   "metadata": {},
   "outputs": [],
   "source": [
    "def separate_targets(weather):\n",
    "    '''separate dataset into features and targets'''\n",
    "    # target: whether next day rains\n",
    "    target = weather[['RAIN']].iloc[1:, :]\n",
    "    target = np.round(target.to_numpy().reshape(-1))\n",
    "\n",
    "    # feature: today's weather (array of 13 vars)\n",
    "    feature = weather.iloc[:-1, :-1].to_numpy()\n",
    "    \n",
    "    return feature, target"
   ]
  },
  {
   "cell_type": "code",
   "execution_count": 78,
   "id": "cdee4a85",
   "metadata": {},
   "outputs": [
    {
     "name": "stdout",
     "output_type": "stream",
     "text": [
      "feature: (776, 13) target: (776,)\n",
      "feature: (6994, 13) target: (6994,)\n"
     ]
    }
   ],
   "source": [
    "feature_test, target_test = separate_targets(weather_test)\n",
    "feature_train, target_train = separate_targets(weather_train)\n",
    "\n",
    "print(\"feature:\", feature_test.shape, \"target:\", target_test.shape)\n",
    "print(\"feature:\", feature_train.shape, \"target:\", target_train.shape)"
   ]
  },
  {
   "cell_type": "markdown",
   "id": "230ea51e",
   "metadata": {},
   "source": [
    "## Build the Model"
   ]
  },
  {
   "cell_type": "code",
   "execution_count": 154,
   "id": "817a040a",
   "metadata": {},
   "outputs": [],
   "source": [
    "# how many possible outputs\n",
    "num_output_vals = len(np.unique(target_test))\n",
    "\n",
    "# num nodes in first layer\n",
    "first_layer = 64"
   ]
  },
  {
   "cell_type": "code",
   "execution_count": 155,
   "id": "66fb0bdb",
   "metadata": {},
   "outputs": [],
   "source": [
    "def build_model(first_layer, num_output_vals):\n",
    "    model = tf.keras.Sequential([\n",
    "        tf.keras.layers.Dense(first_layer, activation='sigmoid', dtype='float64'),\n",
    "        tf.keras.layers.Dropout(0.2, dtype='float64'),\n",
    "        tf.keras.layers.Dense(num_output_vals, activation='sigmoid', dtype='float64')\n",
    "    ])\n",
    "    \n",
    "    model.compile(optimizer='adam',\n",
    "              loss='sparse_categorical_crossentropy',\n",
    "              metrics=['accuracy'])\n",
    "    return model"
   ]
  },
  {
   "cell_type": "code",
   "execution_count": 156,
   "id": "56867f62",
   "metadata": {},
   "outputs": [],
   "source": [
    "model = build_model(first_layer, num_output_vals)"
   ]
  },
  {
   "cell_type": "markdown",
   "id": "e3203f63",
   "metadata": {},
   "source": [
    "## Example model output"
   ]
  },
  {
   "cell_type": "code",
   "execution_count": 82,
   "id": "69b143f8",
   "metadata": {},
   "outputs": [
    {
     "name": "stdout",
     "output_type": "stream",
     "text": [
      "WARNING:tensorflow:Layer sequential_3 is casting an input tensor from dtype float64 to the layer's dtype of float32, which is new behavior in TensorFlow 2.  The layer has dtype float32 because it's dtype defaults to floatx.\n",
      "\n",
      "If you intended to run this layer in float32, you can safely ignore this warning. If in doubt, this warning is likely only an issue if you are porting a TensorFlow 1.X model to TensorFlow 2.\n",
      "\n",
      "To change all layers to have dtype float64 by default, call `tf.keras.backend.set_floatx('float64')`. To change just this layer, pass dtype='float64' to the layer constructor. If you are the author of this layer, you can disable autocasting by passing autocast=False to the base Layer constructor.\n",
      "\n"
     ]
    }
   ],
   "source": [
    "example = model(feature_train[:1, :])"
   ]
  },
  {
   "cell_type": "code",
   "execution_count": 83,
   "id": "9fd15547",
   "metadata": {},
   "outputs": [
    {
     "data": {
      "text/plain": [
       "TensorShape([1, 2])"
      ]
     },
     "execution_count": 83,
     "metadata": {},
     "output_type": "execute_result"
    }
   ],
   "source": [
    "example.shape # good"
   ]
  },
  {
   "cell_type": "code",
   "execution_count": 84,
   "id": "30b0ff57",
   "metadata": {},
   "outputs": [
    {
     "data": {
      "text/plain": [
       "<tf.Tensor: id=49375, shape=(1, 2), dtype=float64, numpy=array([[0.3279861 , 0.22379077]])>"
      ]
     },
     "execution_count": 84,
     "metadata": {},
     "output_type": "execute_result"
    }
   ],
   "source": [
    "example"
   ]
  },
  {
   "cell_type": "markdown",
   "id": "766f1673",
   "metadata": {},
   "source": [
    "## Train the model"
   ]
  },
  {
   "cell_type": "code",
   "execution_count": 85,
   "id": "54d7eeb9",
   "metadata": {},
   "outputs": [],
   "source": [
    "EPOCHS = 30"
   ]
  },
  {
   "cell_type": "code",
   "execution_count": 86,
   "id": "e405ef5e",
   "metadata": {},
   "outputs": [
    {
     "name": "stdout",
     "output_type": "stream",
     "text": [
      "Train on 6994 samples\n",
      "Epoch 1/30\n",
      "6994/6994 [==============================] - 1s 127us/sample - loss: 0.6770 - accuracy: 0.6100\n",
      "Epoch 2/30\n",
      "6994/6994 [==============================] - 0s 62us/sample - loss: 0.6646 - accuracy: 0.6263\n",
      "Epoch 3/30\n",
      "6994/6994 [==============================] - 0s 61us/sample - loss: 0.6630 - accuracy: 0.6354\n",
      "Epoch 4/30\n",
      "6994/6994 [==============================] - 0s 58us/sample - loss: 0.6584 - accuracy: 0.6361\n",
      "Epoch 5/30\n",
      "6994/6994 [==============================] - 0s 56us/sample - loss: 0.6593 - accuracy: 0.6365\n",
      "Epoch 6/30\n",
      "6994/6994 [==============================] - 0s 57us/sample - loss: 0.6588 - accuracy: 0.6365\n",
      "Epoch 7/30\n",
      "6994/6994 [==============================] - 0s 61us/sample - loss: 0.6580 - accuracy: 0.6367\n",
      "Epoch 8/30\n",
      "6994/6994 [==============================] - 0s 58us/sample - loss: 0.6576 - accuracy: 0.6367\n",
      "Epoch 9/30\n",
      "6994/6994 [==============================] - 0s 61us/sample - loss: 0.6577 - accuracy: 0.6367\n",
      "Epoch 10/30\n",
      "6994/6994 [==============================] - 0s 61us/sample - loss: 0.6569 - accuracy: 0.6367\n",
      "Epoch 11/30\n",
      "6994/6994 [==============================] - 0s 59us/sample - loss: 0.6565 - accuracy: 0.6367\n",
      "Epoch 12/30\n",
      "6994/6994 [==============================] - 0s 58us/sample - loss: 0.6576 - accuracy: 0.6367\n",
      "Epoch 13/30\n",
      "6994/6994 [==============================] - 0s 57us/sample - loss: 0.6553 - accuracy: 0.6367\n",
      "Epoch 14/30\n",
      "6994/6994 [==============================] - 0s 56us/sample - loss: 0.6569 - accuracy: 0.6367\n",
      "Epoch 15/30\n",
      "6994/6994 [==============================] - 0s 63us/sample - loss: 0.6568 - accuracy: 0.6367\n",
      "Epoch 16/30\n",
      "6994/6994 [==============================] - 0s 57us/sample - loss: 0.6573 - accuracy: 0.6367\n",
      "Epoch 17/30\n",
      "6994/6994 [==============================] - 0s 56us/sample - loss: 0.6561 - accuracy: 0.6367\n",
      "Epoch 18/30\n",
      "6994/6994 [==============================] - 0s 56us/sample - loss: 0.6565 - accuracy: 0.6367\n",
      "Epoch 19/30\n",
      "6994/6994 [==============================] - 0s 56us/sample - loss: 0.6569 - accuracy: 0.6367\n",
      "Epoch 20/30\n",
      "6994/6994 [==============================] - 0s 58us/sample - loss: 0.6562 - accuracy: 0.6367\n",
      "Epoch 21/30\n",
      "6994/6994 [==============================] - 0s 61us/sample - loss: 0.6567 - accuracy: 0.6367\n",
      "Epoch 22/30\n",
      "6994/6994 [==============================] - 0s 61us/sample - loss: 0.6556 - accuracy: 0.6367\n",
      "Epoch 23/30\n",
      "6994/6994 [==============================] - 0s 62us/sample - loss: 0.6568 - accuracy: 0.6367\n",
      "Epoch 24/30\n",
      "6994/6994 [==============================] - 0s 63us/sample - loss: 0.6556 - accuracy: 0.6367\n",
      "Epoch 25/30\n",
      "6994/6994 [==============================] - 0s 63us/sample - loss: 0.6561 - accuracy: 0.6367\n",
      "Epoch 26/30\n",
      "6994/6994 [==============================] - 0s 56us/sample - loss: 0.6560 - accuracy: 0.6367\n",
      "Epoch 27/30\n",
      "6994/6994 [==============================] - 0s 56us/sample - loss: 0.6560 - accuracy: 0.6367\n",
      "Epoch 28/30\n",
      "6994/6994 [==============================] - 0s 59us/sample - loss: 0.6558 - accuracy: 0.6367\n",
      "Epoch 29/30\n",
      "6994/6994 [==============================] - 0s 64us/sample - loss: 0.6560 - accuracy: 0.6367\n",
      "Epoch 30/30\n",
      "6994/6994 [==============================] - 0s 64us/sample - loss: 0.6562 - accuracy: 0.6367\n"
     ]
    }
   ],
   "source": [
    "history = model.fit(feature_train, target_train, epochs=EPOCHS)"
   ]
  },
  {
   "cell_type": "code",
   "execution_count": 87,
   "id": "a386bda9",
   "metadata": {},
   "outputs": [
    {
     "name": "stdout",
     "output_type": "stream",
     "text": [
      "Model: \"sequential_3\"\n",
      "_________________________________________________________________\n",
      "Layer (type)                 Output Shape              Param #   \n",
      "=================================================================\n",
      "dense_8 (Dense)              multiple                  896       \n",
      "_________________________________________________________________\n",
      "dropout_4 (Dropout)          multiple                  0         \n",
      "_________________________________________________________________\n",
      "dense_9 (Dense)              multiple                  130       \n",
      "=================================================================\n",
      "Total params: 1,026\n",
      "Trainable params: 1,026\n",
      "Non-trainable params: 0\n",
      "_________________________________________________________________\n"
     ]
    }
   ],
   "source": [
    "model.summary()"
   ]
  },
  {
   "cell_type": "markdown",
   "id": "9cbb7942",
   "metadata": {},
   "source": [
    "## Predict for example"
   ]
  },
  {
   "cell_type": "code",
   "execution_count": 88,
   "id": "f40c391d",
   "metadata": {},
   "outputs": [
    {
     "name": "stdout",
     "output_type": "stream",
     "text": [
      "1.5379024119201072\n",
      "0\n"
     ]
    }
   ],
   "source": [
    "pred = model.predict(feature_test[88].reshape(1,13))\n",
    "print(sum(sum(pred)))\n",
    "print(pred.argmax())"
   ]
  },
  {
   "cell_type": "code",
   "execution_count": null,
   "id": "aa9810a3",
   "metadata": {},
   "outputs": [],
   "source": [
    "# find in original data - see if it rained that day"
   ]
  },
  {
   "cell_type": "markdown",
   "id": "2f098dcc",
   "metadata": {},
   "source": [
    "## Evaluate on Test Set"
   ]
  },
  {
   "cell_type": "code",
   "execution_count": 89,
   "id": "4ba200b5",
   "metadata": {},
   "outputs": [
    {
     "name": "stdout",
     "output_type": "stream",
     "text": [
      "776/1 - 0s - loss: 0.6258 - accuracy: 0.6405\n"
     ]
    },
    {
     "data": {
      "text/plain": [
       "[0.6536884865502721, 0.6404639]"
      ]
     },
     "execution_count": 89,
     "metadata": {},
     "output_type": "execute_result"
    }
   ],
   "source": [
    "model.evaluate(feature_test, target_test, verbose=2)"
   ]
  },
  {
   "cell_type": "markdown",
   "id": "bf01543a",
   "metadata": {},
   "source": [
    "not that accurate - reasonable because has not sense of trends"
   ]
  },
  {
   "cell_type": "markdown",
   "id": "da3d561e",
   "metadata": {},
   "source": [
    "## Predict Rain Over Time\n",
    "\n",
    "for given 6 days of rain, will it rain the 7th?"
   ]
  },
  {
   "cell_type": "code",
   "execution_count": 98,
   "id": "307346a1",
   "metadata": {},
   "outputs": [],
   "source": [
    "rain = weather_pd[['RAIN']].to_numpy().reshape(-1)"
   ]
  },
  {
   "cell_type": "code",
   "execution_count": 103,
   "id": "4a77f740",
   "metadata": {},
   "outputs": [
    {
     "data": {
      "text/plain": [
       "array([0, 0, 0, ..., 1, 0, 0])"
      ]
     },
     "execution_count": 103,
     "metadata": {},
     "output_type": "execute_result"
    }
   ],
   "source": [
    "rain.shape"
   ]
  },
  {
   "cell_type": "markdown",
   "id": "9d0e8e82",
   "metadata": {},
   "source": [
    "## Create Features and Targets"
   ]
  },
  {
   "cell_type": "code",
   "execution_count": 157,
   "id": "27964c31",
   "metadata": {},
   "outputs": [
    {
     "name": "stdout",
     "output_type": "stream",
     "text": [
      "0\n",
      "0\n",
      "0\n",
      "0\n",
      "1\n"
     ]
    }
   ],
   "source": [
    "# features are 6 days\n",
    "# targets are 6 days shifted over 1\n",
    "# see shakespeare\n",
    "\n",
    "# The maximum length sentence we want for a single input in characters\n",
    "seq_length = 6\n",
    "examples_per_epoch = len(rain)//(seq_length+1)\n",
    "\n",
    "# Create training examples / targets\n",
    "rain_tf = tf.data.Dataset.from_tensor_slices(rain)\n",
    "\n",
    "for i in rain_tf.take(5):\n",
    "  print(i.numpy())"
   ]
  },
  {
   "cell_type": "code",
   "execution_count": 158,
   "id": "500b9499",
   "metadata": {},
   "outputs": [
    {
     "name": "stdout",
     "output_type": "stream",
     "text": [
      "[0 0 0 0 1 0 1]\n",
      "[1 1 1 1 0 0 0]\n",
      "[0 0 0 1 1 1 0]\n",
      "[0 1 1 1 1 0 0]\n",
      "[0 1 1 0 0 0 0]\n"
     ]
    }
   ],
   "source": [
    "weeks = rain_tf.batch(seq_length+1, drop_remainder=True)\n",
    "\n",
    "for day in weeks.take(5):\n",
    "  print(day.numpy())"
   ]
  },
  {
   "cell_type": "code",
   "execution_count": 159,
   "id": "2e476aca",
   "metadata": {},
   "outputs": [],
   "source": [
    "def split_input_target(week):\n",
    "    '''duplicate and shift weeks to form input and target days'''\n",
    "    input_days = week[:-1]\n",
    "    target_days = week[1:]\n",
    "    return input_days, target_days\n",
    "\n",
    "dataset = weeks.map(split_input_target)"
   ]
  },
  {
   "cell_type": "code",
   "execution_count": 160,
   "id": "0ece49a8",
   "metadata": {},
   "outputs": [
    {
     "name": "stdout",
     "output_type": "stream",
     "text": [
      "Input data:  [0 0 0 0 1 0]\n",
      "Target data: [0 0 0 1 0 1]\n",
      "Input data:  [1 1 1 1 0 0]\n",
      "Target data: [1 1 1 0 0 0]\n",
      "Input data:  [0 0 0 1 1 1]\n",
      "Target data: [0 0 1 1 1 0]\n"
     ]
    }
   ],
   "source": [
    "for input_example, target_example in  dataset.take(3):\n",
    "    print ('Input data: ', input_example.numpy())\n",
    "    print ('Target data:', target_example.numpy())"
   ]
  },
  {
   "cell_type": "code",
   "execution_count": 161,
   "id": "8126abf9",
   "metadata": {},
   "outputs": [
    {
     "name": "stdout",
     "output_type": "stream",
     "text": [
      "Step    0\n",
      "  input: 0\n",
      "  expected output: 0\n",
      "Step    1\n",
      "  input: 0\n",
      "  expected output: 0\n",
      "Step    2\n",
      "  input: 0\n",
      "  expected output: 1\n",
      "Step    3\n",
      "  input: 1\n",
      "  expected output: 1\n",
      "Step    4\n",
      "  input: 1\n",
      "  expected output: 1\n"
     ]
    }
   ],
   "source": [
    "for i, (input_idx, target_idx) in enumerate(zip(input_example[:5], target_example[:5])):\n",
    "    print(\"Step {:4d}\".format(i))\n",
    "    print(\"  input:\", input_idx.numpy())\n",
    "    print(\"  expected output:\", target_idx.numpy())"
   ]
  },
  {
   "cell_type": "markdown",
   "id": "088e3c5c",
   "metadata": {},
   "source": [
    "## Create training batches"
   ]
  },
  {
   "cell_type": "code",
   "execution_count": 162,
   "id": "c780e38d",
   "metadata": {},
   "outputs": [
    {
     "data": {
      "text/plain": [
       "<BatchDataset shapes: ((4, 6), (4, 6)), types: (tf.int64, tf.int64)>"
      ]
     },
     "execution_count": 162,
     "metadata": {},
     "output_type": "execute_result"
    }
   ],
   "source": [
    "# Batch size\n",
    "BATCH_SIZE = 4\n",
    "\n",
    "# Buffer size to shuffle the dataset\n",
    "# (TF data is designed to work with possibly infinite sequences,\n",
    "# so it doesn't attempt to shuffle the entire sequence in memory. Instead,\n",
    "# it maintains a buffer in which it shuffles elements).\n",
    "BUFFER_SIZE = 10000\n",
    "\n",
    "dataset = dataset.shuffle(BUFFER_SIZE).batch(BATCH_SIZE, drop_remainder=True)\n",
    "\n",
    "dataset"
   ]
  },
  {
   "cell_type": "markdown",
   "id": "25e1f908",
   "metadata": {},
   "source": [
    "## Build the Model"
   ]
  },
  {
   "cell_type": "code",
   "execution_count": 163,
   "id": "50a74bda",
   "metadata": {},
   "outputs": [],
   "source": [
    "# how many possible outputs\n",
    "num_output_vals = len(np.unique(rain))\n",
    "\n",
    "# embedding dimension\n",
    "embedding_dim = 256\n",
    "\n",
    "# number of RNN units\n",
    "rnn_units = 16"
   ]
  },
  {
   "cell_type": "code",
   "execution_count": 168,
   "id": "8b4b9c42",
   "metadata": {},
   "outputs": [],
   "source": [
    "def build_model(num_output_vals, embedding_dim, rnn_units, batch_size):\n",
    "    model = tf.keras.Sequential([\n",
    "        tf.keras.layers.Embedding(num_output_vals, embedding_dim,\n",
    "                                  batch_input_shape=[batch_size, None]),\n",
    "        tf.keras.layers.GRU(rnn_units,\n",
    "                            return_sequences=True,\n",
    "                            stateful=True,\n",
    "                            recurrent_initializer='glorot_uniform'),\n",
    "        tf.keras.layers.Dense(num_output_vals)\n",
    "    ])\n",
    "    return model"
   ]
  },
  {
   "cell_type": "code",
   "execution_count": 165,
   "id": "010c04e5",
   "metadata": {},
   "outputs": [
    {
     "ename": "IndentationError",
     "evalue": "unexpected indent (<ipython-input-165-8aec427b9cb9>, line 2)",
     "output_type": "error",
     "traceback": [
      "\u001b[0;36m  File \u001b[0;32m\"<ipython-input-165-8aec427b9cb9>\"\u001b[0;36m, line \u001b[0;32m2\u001b[0m\n\u001b[0;31m    model = tf.keras.Sequential([\u001b[0m\n\u001b[0m    ^\u001b[0m\n\u001b[0;31mIndentationError\u001b[0m\u001b[0;31m:\u001b[0m unexpected indent\n"
     ]
    }
   ],
   "source": [
    "#def build_model(rnn_units, num_output_vals, batch_size):\n",
    "    model = tf.keras.Sequential([\n",
    "        tf.keras.layers.Dense(32, batch_input_shape = (batch_size, 6)),\n",
    "        tf.keras.layers.GRU(rnn_units,\n",
    "                            return_sequences=True,\n",
    "                            stateful=True,\n",
    "                            recurrent_initializer='glorot_uniform'),\n",
    "        tf.keras.layers.Dense(num_output_vals)\n",
    "    ])\n",
    "    return model"
   ]
  },
  {
   "cell_type": "code",
   "execution_count": 169,
   "id": "a8da02b9",
   "metadata": {},
   "outputs": [],
   "source": [
    "model = build_model(num_output_vals, embedding_dim, rnn_units, BATCH_SIZE)"
   ]
  },
  {
   "cell_type": "code",
   "execution_count": 167,
   "id": "89bb3e28",
   "metadata": {},
   "outputs": [],
   "source": [
    "# set floats to float64 to avoid warning message\n",
    "# tf.keras.backend.set_floatx('float64')"
   ]
  },
  {
   "cell_type": "markdown",
   "id": "c5ea851a",
   "metadata": {},
   "source": [
    "## Try the Model"
   ]
  },
  {
   "cell_type": "code",
   "execution_count": 170,
   "id": "f194e1d0",
   "metadata": {},
   "outputs": [
    {
     "name": "stdout",
     "output_type": "stream",
     "text": [
      "(4, 6, 2) # (batch_size, sequence_length, num_output_vals)\n"
     ]
    }
   ],
   "source": [
    "for input_example_batch, target_example_batch in dataset.take(1):\n",
    "    example_batch_predictions = model(input_example_batch)\n",
    "    print(example_batch_predictions.shape, \"# (batch_size, sequence_length, num_output_vals)\")"
   ]
  },
  {
   "cell_type": "code",
   "execution_count": 171,
   "id": "29e2ce28",
   "metadata": {},
   "outputs": [
    {
     "data": {
      "text/plain": [
       "TensorShape([4, 6])"
      ]
     },
     "execution_count": 171,
     "metadata": {},
     "output_type": "execute_result"
    }
   ],
   "source": [
    "target_example_batch.shape"
   ]
  },
  {
   "cell_type": "code",
   "execution_count": 172,
   "id": "b7dab821",
   "metadata": {},
   "outputs": [
    {
     "data": {
      "text/plain": [
       "TensorShape([4, 6])"
      ]
     },
     "execution_count": 172,
     "metadata": {},
     "output_type": "execute_result"
    }
   ],
   "source": [
    "input_example_batch.shape"
   ]
  },
  {
   "cell_type": "code",
   "execution_count": 173,
   "id": "1c0f4b5a",
   "metadata": {},
   "outputs": [
    {
     "data": {
      "text/plain": [
       "TensorShape([4, 6, 2])"
      ]
     },
     "execution_count": 173,
     "metadata": {},
     "output_type": "execute_result"
    }
   ],
   "source": [
    "example_batch_predictions.shape"
   ]
  },
  {
   "cell_type": "code",
   "execution_count": 174,
   "id": "c62177e7",
   "metadata": {},
   "outputs": [
    {
     "name": "stdout",
     "output_type": "stream",
     "text": [
      "Model: \"sequential_8\"\n",
      "_________________________________________________________________\n",
      "Layer (type)                 Output Shape              Param #   \n",
      "=================================================================\n",
      "embedding_2 (Embedding)      (4, None, 256)            512       \n",
      "_________________________________________________________________\n",
      "gru_3 (GRU)                  (4, None, 16)             13152     \n",
      "_________________________________________________________________\n",
      "dense_16 (Dense)             (4, None, 2)              34        \n",
      "=================================================================\n",
      "Total params: 13,698\n",
      "Trainable params: 13,698\n",
      "Non-trainable params: 0\n",
      "_________________________________________________________________\n"
     ]
    }
   ],
   "source": [
    "model.summary()"
   ]
  },
  {
   "cell_type": "code",
   "execution_count": 175,
   "id": "fb1af93f",
   "metadata": {},
   "outputs": [
    {
     "data": {
      "text/plain": [
       "array([0, 1, 1, 1, 1, 1])"
      ]
     },
     "execution_count": 175,
     "metadata": {},
     "output_type": "execute_result"
    }
   ],
   "source": [
    "# example predictions, not accurate bc model not trained\n",
    "sampled_indices = tf.random.categorical(example_batch_predictions[0], num_samples=1)\n",
    "sampled_indices = tf.squeeze(sampled_indices,axis=-1).numpy()\n",
    "sampled_indices"
   ]
  },
  {
   "cell_type": "code",
   "execution_count": 176,
   "id": "a82f0e2e",
   "metadata": {},
   "outputs": [
    {
     "name": "stdout",
     "output_type": "stream",
     "text": [
      "Input: \n",
      " [1 0 1 1 0 0]\n",
      "\n",
      "Next Day Predictions: \n",
      " [0 1 1 1 1 1]\n"
     ]
    }
   ],
   "source": [
    "# show input and output\n",
    "print(\"Input: \\n\", input_example_batch[0].numpy())\n",
    "print()\n",
    "print(\"Next Day Predictions: \\n\", sampled_indices)"
   ]
  },
  {
   "cell_type": "code",
   "execution_count": 177,
   "id": "32b80bb8",
   "metadata": {},
   "outputs": [
    {
     "name": "stdout",
     "output_type": "stream",
     "text": [
      "Prediction shape:  (4, 6, 2)  # (batch_size, days_in_batches, num_output_vals)\n",
      "Mean loss:         0.7077194\n"
     ]
    }
   ],
   "source": [
    "# set up loss function\n",
    "loss = tf.losses.SparseCategoricalCrossentropy(from_logits=True)\n",
    "example_batch_loss = loss(target_example_batch, example_batch_predictions)\n",
    "mean_loss = example_batch_loss.numpy().mean()\n",
    "print(\"Prediction shape: \", example_batch_predictions.shape, \" # (batch_size, days_in_batches, num_output_vals)\")\n",
    "print(\"Mean loss:        \", mean_loss)"
   ]
  },
  {
   "cell_type": "code",
   "execution_count": 178,
   "id": "adbb2a66",
   "metadata": {},
   "outputs": [
    {
     "data": {
      "text/plain": [
       "2.029358"
      ]
     },
     "execution_count": 178,
     "metadata": {},
     "output_type": "execute_result"
    }
   ],
   "source": [
    "# exponential of the mean loss should ~= num outputs\n",
    "tf.exp(mean_loss).numpy()"
   ]
  },
  {
   "cell_type": "code",
   "execution_count": 179,
   "id": "070fabbf",
   "metadata": {},
   "outputs": [],
   "source": [
    "# set optimize and loss fucntion\n",
    "model.compile(optimizer='adam', loss=loss)"
   ]
  },
  {
   "cell_type": "markdown",
   "id": "26bd7651",
   "metadata": {},
   "source": [
    "## Configure Checkpoints\n",
    "save checkpoints during training"
   ]
  },
  {
   "cell_type": "code",
   "execution_count": 180,
   "id": "533ccb47",
   "metadata": {},
   "outputs": [],
   "source": [
    "# Directory where the checkpoints will be saved\n",
    "checkpoint_dir = './training-checkpoints'\n",
    "# Name of the checkpoint files\n",
    "checkpoint_prefix = os.path.join(checkpoint_dir, \"ckpt_{epoch}\")\n",
    "\n",
    "checkpoint_callback = tf.keras.callbacks.ModelCheckpoint(\n",
    "    filepath=checkpoint_prefix,\n",
    "    save_weights_only=True)"
   ]
  },
  {
   "cell_type": "markdown",
   "id": "0336d888",
   "metadata": {},
   "source": [
    "## Train Model"
   ]
  },
  {
   "cell_type": "code",
   "execution_count": 181,
   "id": "0e128493",
   "metadata": {},
   "outputs": [],
   "source": [
    "EPOCHS = 30"
   ]
  },
  {
   "cell_type": "code",
   "execution_count": 182,
   "id": "0475bb98",
   "metadata": {},
   "outputs": [
    {
     "name": "stdout",
     "output_type": "stream",
     "text": [
      "Epoch 1/30\n",
      "277/277 [==============================] - 5s 16ms/step - loss: 0.6214\n",
      "Epoch 2/30\n",
      "277/277 [==============================] - 2s 8ms/step - loss: 0.6155\n",
      "Epoch 3/30\n",
      "277/277 [==============================] - 2s 8ms/step - loss: 0.6146\n",
      "Epoch 4/30\n",
      "277/277 [==============================] - 2s 8ms/step - loss: 0.6135\n",
      "Epoch 5/30\n",
      "277/277 [==============================] - 2s 8ms/step - loss: 0.6139\n",
      "Epoch 6/30\n",
      "277/277 [==============================] - 2s 8ms/step - loss: 0.6131\n",
      "Epoch 7/30\n",
      "277/277 [==============================] - 2s 8ms/step - loss: 0.6131\n",
      "Epoch 8/30\n",
      "277/277 [==============================] - 2s 8ms/step - loss: 0.6137\n",
      "Epoch 9/30\n",
      "277/277 [==============================] - 2s 9ms/step - loss: 0.6155\n",
      "Epoch 10/30\n",
      "277/277 [==============================] - 2s 8ms/step - loss: 0.6140\n",
      "Epoch 11/30\n",
      "277/277 [==============================] - 2s 8ms/step - loss: 0.6145\n",
      "Epoch 12/30\n",
      "277/277 [==============================] - 2s 8ms/step - loss: 0.6134\n",
      "Epoch 13/30\n",
      "277/277 [==============================] - 2s 8ms/step - loss: 0.6134\n",
      "Epoch 14/30\n",
      "277/277 [==============================] - 2s 8ms/step - loss: 0.6135\n",
      "Epoch 15/30\n",
      "277/277 [==============================] - 2s 8ms/step - loss: 0.6141\n",
      "Epoch 16/30\n",
      "277/277 [==============================] - 2s 8ms/step - loss: 0.6139\n",
      "Epoch 17/30\n",
      "277/277 [==============================] - 2s 8ms/step - loss: 0.6127\n",
      "Epoch 18/30\n",
      "277/277 [==============================] - 2s 8ms/step - loss: 0.6129\n",
      "Epoch 19/30\n",
      "277/277 [==============================] - 2s 8ms/step - loss: 0.6145\n",
      "Epoch 20/30\n",
      "277/277 [==============================] - 2s 8ms/step - loss: 0.6122\n",
      "Epoch 21/30\n",
      "277/277 [==============================] - 2s 8ms/step - loss: 0.6133\n",
      "Epoch 22/30\n",
      "277/277 [==============================] - 2s 8ms/step - loss: 0.6138\n",
      "Epoch 23/30\n",
      "277/277 [==============================] - 2s 8ms/step - loss: 0.6142\n",
      "Epoch 24/30\n",
      "277/277 [==============================] - 2s 8ms/step - loss: 0.6124\n",
      "Epoch 25/30\n",
      "277/277 [==============================] - 2s 8ms/step - loss: 0.6138\n",
      "Epoch 26/30\n",
      "277/277 [==============================] - 2s 8ms/step - loss: 0.6127\n",
      "Epoch 27/30\n",
      "277/277 [==============================] - 2s 8ms/step - loss: 0.6141\n",
      "Epoch 28/30\n",
      "277/277 [==============================] - 2s 8ms/step - loss: 0.6134\n",
      "Epoch 29/30\n",
      "277/277 [==============================] - 2s 8ms/step - loss: 0.6137\n",
      "Epoch 30/30\n",
      "277/277 [==============================] - 2s 8ms/step - loss: 0.6130\n"
     ]
    }
   ],
   "source": [
    "history = model.fit(dataset, epochs=EPOCHS, callbacks=[checkpoint_callback])"
   ]
  },
  {
   "cell_type": "markdown",
   "id": "a62bcf61",
   "metadata": {},
   "source": [
    "## Restore Latest Checkpoint"
   ]
  },
  {
   "cell_type": "code",
   "execution_count": 184,
   "id": "4b85de81",
   "metadata": {},
   "outputs": [
    {
     "name": "stdout",
     "output_type": "stream",
     "text": [
      "Model: \"sequential_9\"\n",
      "_________________________________________________________________\n",
      "Layer (type)                 Output Shape              Param #   \n",
      "=================================================================\n",
      "embedding_3 (Embedding)      (1, None, 256)            512       \n",
      "_________________________________________________________________\n",
      "gru_4 (GRU)                  (1, None, 16)             13152     \n",
      "_________________________________________________________________\n",
      "dense_17 (Dense)             (1, None, 2)              34        \n",
      "=================================================================\n",
      "Total params: 13,698\n",
      "Trainable params: 13,698\n",
      "Non-trainable params: 0\n",
      "_________________________________________________________________\n"
     ]
    }
   ],
   "source": [
    "tf.train.latest_checkpoint(checkpoint_dir)\n",
    "\n",
    "model = build_model(num_output_vals, embedding_dim, rnn_units, batch_size=1)\n",
    "model.load_weights(tf.train.latest_checkpoint(checkpoint_dir))\n",
    "model.build(tf.TensorShape([1, None]))\n",
    "\n",
    "model.summary()"
   ]
  },
  {
   "cell_type": "code",
   "execution_count": 193,
   "id": "453a011d",
   "metadata": {},
   "outputs": [
    {
     "data": {
      "text/plain": [
       "TensorShape([1, 6])"
      ]
     },
     "execution_count": 193,
     "metadata": {},
     "output_type": "execute_result"
    }
   ],
   "source": [
    "example_week = input_example_batch[:1]\n",
    "example_week.shape"
   ]
  },
  {
   "cell_type": "code",
   "execution_count": 194,
   "id": "88465cbe",
   "metadata": {},
   "outputs": [
    {
     "name": "stdout",
     "output_type": "stream",
     "text": [
      "(6, 2)\n",
      "0\n"
     ]
    },
    {
     "data": {
      "text/plain": [
       "<tf.Tensor: id=103586, shape=(1, 1), dtype=int32, numpy=array([[0]], dtype=int32)>"
      ]
     },
     "execution_count": 194,
     "metadata": {},
     "output_type": "execute_result"
    }
   ],
   "source": [
    "model.reset_states()\n",
    "test = example_week[:1]\n",
    "predictions = model(test)\n",
    "predictions = tf.squeeze(predictions, 0)\n",
    "predicted_id = tf.random.categorical(predictions, num_samples=1)[-1,0].numpy()\n",
    "test = tf.expand_dims([predicted_id], 0)\n",
    "print(predictions.shape)\n",
    "print(predicted_id)\n",
    "test"
   ]
  },
  {
   "cell_type": "code",
   "execution_count": 197,
   "id": "d880a004",
   "metadata": {},
   "outputs": [],
   "source": [
    "def generate_weather(model, start_weather):\n",
    "    # Evaluation step (generating weather using the learned model)\n",
    "\n",
    "    # Number of days to generate\n",
    "    num_generate = 8\n",
    "\n",
    "    # Empty string to store our results\n",
    "    days_generated = []\n",
    "\n",
    "    # Low temperatures results in more predictable results.\n",
    "    # Higher temperatures results in more surprising results.\n",
    "    # Experiment to find the best setting.\n",
    "    temperature = 1.0\n",
    "\n",
    "    # Here batch size == 1\n",
    "    model.reset_states()\n",
    "    for i in range(num_generate):\n",
    "        predictions = model(start_weather)\n",
    "        # remove the batch dimension\n",
    "        predictions = tf.squeeze(predictions, 0)\n",
    "\n",
    "        # using a categorical distribution to predict the temperature returned by the model\n",
    "        predictions = predictions / temperature\n",
    "        predicted_id = tf.random.categorical(predictions, num_samples=1)[-1,0].numpy()\n",
    "        \n",
    "        # we pass the predicted weather as the next input to the model\n",
    "        # along with the previous hidden state\n",
    "        start_weather = tf.expand_dims([predicted_id], 0)\n",
    "\n",
    "        days_generated.append(predicted_id)\n",
    "\n",
    "    return days_generated"
   ]
  },
  {
   "cell_type": "code",
   "execution_count": 204,
   "id": "3b54397a",
   "metadata": {},
   "outputs": [
    {
     "name": "stdout",
     "output_type": "stream",
     "text": [
      "start days:          [1, 0, 1, 1, 0, 0]\n",
      "predicted next days: [0, 0, 0, 0, 0, 0, 0, 1]\n"
     ]
    }
   ],
   "source": [
    "print(\"start days:         \", list(example_week.numpy()[0]))\n",
    "print(\"predicted next days:\", generate_weather(model, start_weather=example_week))"
   ]
  },
  {
   "cell_type": "code",
   "execution_count": 205,
   "id": "7ac4d6c9",
   "metadata": {},
   "outputs": [],
   "source": [
    "## locate week to see if that was right?"
   ]
  },
  {
   "cell_type": "markdown",
   "id": "5759a8e8",
   "metadata": {},
   "source": [
    "\n",
    "#### Resources Consulted\n",
    "https://www.tensorflow.org/api_docs/python/tf/keras/Sequential\n",
    "https://www.tensorflow.org/api_docs/python/tf/keras/layers/Flatten\n",
    "https://docs.conda.io/projects/conda/en/4.6.0/_downloads/52a95608c49671267e40c689e0bc00ca/conda-cheatsheet.pdf"
   ]
  }
 ],
 "metadata": {
  "kernelspec": {
   "display_name": "Python 3",
   "language": "python",
   "name": "python3"
  },
  "language_info": {
   "codemirror_mode": {
    "name": "ipython",
    "version": 3
   },
   "file_extension": ".py",
   "mimetype": "text/x-python",
   "name": "python",
   "nbconvert_exporter": "python",
   "pygments_lexer": "ipython3",
   "version": "3.7.10"
  }
 },
 "nbformat": 4,
 "nbformat_minor": 5
}
