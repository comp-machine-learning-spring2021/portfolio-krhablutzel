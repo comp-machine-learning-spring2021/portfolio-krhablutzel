{
 "cells": [
  {
   "cell_type": "markdown",
   "id": "4e86c6b8",
   "metadata": {},
   "source": [
    "## A place to paste depreciated code"
   ]
  },
  {
   "cell_type": "code",
   "execution_count": null,
   "id": "221c794f",
   "metadata": {},
   "outputs": [],
   "source": [
    "# flatten\n",
    "def build_model(rnn_units, num_output_vals, batch_size):\n",
    "    model = tf.keras.Sequential([\n",
    "        tf.keras.layers.Flatten(), # flatten to (64, 52) shape\n",
    "        tf.keras.layers.GRU(rnn_units,\n",
    "                            return_sequences=True,\n",
    "                            stateful=True,\n",
    "                            recurrent_initializer='glorot_uniform'),\n",
    "        tf.keras.layers.Dense(num_output_vals)\n",
    "    ])\n",
    "    return model"
   ]
  },
  {
   "cell_type": "code",
   "execution_count": null,
   "id": "1219f9f3",
   "metadata": {},
   "outputs": [],
   "source": [
    "# test flatten\n",
    "model = tf.keras.Sequential()\n",
    "model.add(tf.keras.layers.Flatten(input_shape=(4, 13)))\n",
    "model.output_shape"
   ]
  },
  {
   "cell_type": "code",
   "execution_count": null,
   "id": "268cb041",
   "metadata": {},
   "outputs": [],
   "source": [
    "# dense\n",
    "def build_model(rnn_units, num_output_vals, batch_size):\n",
    "    model = tf.keras.Sequential([\n",
    "        tf.keras.layers.Dense(32, batch_input_shape=[batch_size, 4, 13]),\n",
    "        tf.keras.layers.GRU(rnn_units,\n",
    "                            return_sequences=True,\n",
    "                            stateful=True,\n",
    "                            recurrent_initializer='glorot_uniform'),\n",
    "        tf.keras.layers.Dense(num_output_vals)\n",
    "    ])\n",
    "    return model"
   ]
  }
 ],
 "metadata": {
  "kernelspec": {
   "display_name": "Python 3",
   "language": "python",
   "name": "python3"
  },
  "language_info": {
   "codemirror_mode": {
    "name": "ipython",
    "version": 3
   },
   "file_extension": ".py",
   "mimetype": "text/x-python",
   "name": "python",
   "nbconvert_exporter": "python",
   "pygments_lexer": "ipython3",
   "version": "3.7.10"
  }
 },
 "nbformat": 4,
 "nbformat_minor": 5
}
