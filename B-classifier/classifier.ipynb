{
 "cells": [
  {
   "cell_type": "markdown",
   "id": "73d628e7",
   "metadata": {},
   "source": [
    "## Predicting NC's Existing Seasons\n",
    "### Supervised Learning with Assorted Classifiers\n",
    "\n",
    "In this notebook, I go through the test, train, and validation stages of building a classifier model. I use 10-fold cross validation to test random forest, decision tree, and k-nearest neighbors classifiers, and I find that a decision tree classifier is the best model for predicting the season of a day of weather in NC based on weather characteristics such as temperature, pressure, and precipitation. Then, I build this decision tree classifier and validate the model on the remaining 10% of the data, which I had previously withheld from testing and training, achieving a validation error of 12.4%. Considering that North Carolina's weather doesn't feel like it fits the official seasons, this seems to be a reasonably accurate model.\n",
    "\n",
    "This notebook is a complement to the clustering project, where I throw away the traditional seasonal boundaries and cluster NC's weather into a new set of seasons."
   ]
  },
  {
   "cell_type": "code",
   "execution_count": 1,
   "id": "e627e1ac",
   "metadata": {},
   "outputs": [],
   "source": [
    "import pandas as pd\n",
    "import numpy as np\n",
    "import matplotlib.pyplot as plt\n",
    "\n",
    "# ML tools\n",
    "import itertools\n",
    "from sklearn.decomposition import PCA\n",
    "from sklearn.utils import shuffle\n",
    "from sklearn.svm import SVC\n",
    "from sklearn.neighbors import KNeighborsClassifier\n",
    "from sklearn.tree import DecisionTreeClassifier\n",
    "from sklearn.ensemble import RandomForestClassifier"
   ]
  },
  {
   "cell_type": "code",
   "execution_count": 2,
   "id": "6d719a8e",
   "metadata": {},
   "outputs": [],
   "source": [
    "# helper functions\n",
    "\n",
    "# adapted from original code in lab 6\n",
    "def standardize(data):\n",
    "    '''Standardize a dataframe'''\n",
    "    mean_vec = np.mean(data, axis=0)\n",
    "    sd_vec = np.std(data, axis=0)\n",
    "\n",
    "    data_std = data.copy()\n",
    "    for i in range(data.shape[1]): # for every column\n",
    "        data_std[:,i] = (data[:,i] - mean_vec[i]*np.ones(data.shape[0]))/sd_vec[i]\n",
    "        \n",
    "    return data_std\n",
    "\n",
    "# adapted from original code in project 2\n",
    "def divide_data(rent):\n",
    "    '''divide dataset into two sets: 90% test/train and 10% validation'''\n",
    "    n = rent.shape[0]\n",
    "    \n",
    "    # take out 10% of the data for validation\n",
    "    # https://numpy.org/doc/stable/reference/random/generated/numpy.random.choice.html\n",
    "    ind_valid = np.random.choice(n, size = n // 10, replace = False)\n",
    "    rent_valid = rent.iloc[ind_valid]\n",
    "\n",
    "    # take the other 90% for building the model\n",
    "    # https://stackoverflow.com/questions/27824075/accessing-numpy-array-elements-not-in-a-given-index-list\n",
    "    ind_tt = [x for x in range(n) if x not in ind_valid] # not in index\n",
    "    rent_tt = rent.iloc[ind_tt]\n",
    "\n",
    "    # shuffle data for test/train so no patterns in folds\n",
    "    # https://stackoverflow.com/questions/29576430/shuffle-dataframe-rows\n",
    "    rent_tt = shuffle(rent_tt)\n",
    "\n",
    "    return rent_valid, rent_tt\n",
    "\n",
    "def classification_mse(class_truth, pred_class):\n",
    "    '''compute classification mse'''\n",
    "    return np.mean(class_truth != pred_class)\n",
    "\n",
    "def cross_validation(data, method, k):    \n",
    "    '''k-fold cross-validation'''\n",
    "    # calculate fold divisions\n",
    "    n = data.shape[0]\n",
    "    n_predictors = data.shape[1] - 1\n",
    "    foldSize =  n // k # int divide\n",
    "    foldDivisions = [foldSize * x for x in range(k+1)]\n",
    "\n",
    "    # adjust for uneven fold size\n",
    "    if n % k != 0: \n",
    "        r = n % k # remainder\n",
    "        for i in range(1, k+1):\n",
    "            # add 1 + previous size increase to each group until r\n",
    "            # then just shift by r to account for previous size increases\n",
    "            foldDivisions[i] += min(i, r)\n",
    "\n",
    "    # divide into folds\n",
    "    folds = []\n",
    "    for i in range(k):\n",
    "        folds.append(data.iloc[foldDivisions[i]:foldDivisions[i+1], :])\n",
    "\n",
    "    # linear model w/ each fold as test once\n",
    "    test_errors = []\n",
    "\n",
    "    for i in range(k):\n",
    "        # get test fold\n",
    "        test = folds[i]\n",
    "\n",
    "        # combine other folds into training set\n",
    "        train_folds = folds.copy()\n",
    "        train_folds.pop(i)\n",
    "        # https://pandas.pydata.org/pandas-docs/stable/user_guide/merging.html\n",
    "        train = pd.concat(train_folds) # concatenate folds\n",
    "\n",
    "        if method == 'SVM':\n",
    "            # fit SVM to training data\n",
    "            mod = SVC(kernel=\"rbf\")\n",
    "        elif method == 'neighbor':\n",
    "            # fit kNN to training data\n",
    "            mod = KNeighborsClassifier(n_neighbors = 9)\n",
    "        elif method == 'tree':\n",
    "            # fit decision tree to training data\n",
    "            mod = DecisionTreeClassifier()\n",
    "        elif method == 'forest':\n",
    "            # build random forest classifier for training data\n",
    "            mod = RandomForestClassifier(n_estimators=10, max_features = min(3, n_predictors), max_depth=3, random_state=0)\n",
    "        \n",
    "        mod.fit(train.iloc[:,:-1], train.iloc[:,-1]) # class var in last column\n",
    "        \n",
    "        # compute testing error\n",
    "        test_preds = mod.predict(test.iloc[:,:-1])\n",
    "        test_error = classification_mse(test_preds, test.iloc[:,-1])\n",
    "        test_errors.append(test_error)\n",
    "\n",
    "    # cross validation error - avg of test errors\n",
    "    cross_val_error = np.mean(test_errors)\n",
    "    \n",
    "    return cross_val_error\n",
    "\n",
    "def all_cv_errors(rent_tt, methods):\n",
    "    '''get cross-validation error for all possible models'''\n",
    "    cv_errors = []     \n",
    "    # test each possible model type\n",
    "    for method in methods:\n",
    "        # compute cross-validation error\n",
    "        cv_err = cross_validation(rent_tt, method, 10)\n",
    "\n",
    "        # store errors\n",
    "        cv_errors.append([method, cv_err])\n",
    "                \n",
    "    # sort cv errors w/ lowest in first row\n",
    "    cv_err_np = np.array(cv_errors, dtype=object)\n",
    "    cv_err_np = cv_err_np[np.argsort(cv_err_np[:,1])]\n",
    "    return cv_err_np"
   ]
  },
  {
   "cell_type": "markdown",
   "id": "d1f7c188",
   "metadata": {},
   "source": [
    "## Import Data\n",
    "We are once again exploring weather data for the RDU airport in NC's Research Triangle region since  2000, as explored in `data/Data-Wrangling.ipynb` and `data/Data-Visualization.ipynb`. When we import our data, we drop variables that are missing for large portions of the data (`STP` and `GUST`) or likely irrelevant to the data (`YEAR` and `DAY`)."
   ]
  },
  {
   "cell_type": "code",
   "execution_count": 3,
   "id": "712a78a3",
   "metadata": {},
   "outputs": [
    {
     "data": {
      "text/plain": [
       "(7772, 12)"
      ]
     },
     "execution_count": 3,
     "metadata": {},
     "output_type": "execute_result"
    }
   ],
   "source": [
    "# import data\n",
    "weather_pd = pd.read_csv('../data/weather.csv', index_col = 0)\n",
    "weather_pd = weather_pd.drop(['YEAR', 'DAY', 'STP', 'GUST'], axis=1) # remove faulty columns and some temporal indicators\n",
    "\n",
    "weather_pd.shape"
   ]
  },
  {
   "cell_type": "code",
   "execution_count": 4,
   "id": "d299889e",
   "metadata": {},
   "outputs": [
    {
     "data": {
      "text/plain": [
       "(7772, 12)"
      ]
     },
     "execution_count": 4,
     "metadata": {},
     "output_type": "execute_result"
    }
   ],
   "source": [
    "# move seasons (classes) to last column\n",
    "columns = list(weather_pd.columns)\n",
    "columns.remove('SEASON')\n",
    "columns.append('SEASON')\n",
    "weather_pd = weather_pd[columns]\n",
    "\n",
    "weather_pd.shape"
   ]
  },
  {
   "cell_type": "code",
   "execution_count": 5,
   "id": "a6fc9125",
   "metadata": {},
   "outputs": [
    {
     "data": {
      "text/html": [
       "<div>\n",
       "<style scoped>\n",
       "    .dataframe tbody tr th:only-of-type {\n",
       "        vertical-align: middle;\n",
       "    }\n",
       "\n",
       "    .dataframe tbody tr th {\n",
       "        vertical-align: top;\n",
       "    }\n",
       "\n",
       "    .dataframe thead th {\n",
       "        text-align: right;\n",
       "    }\n",
       "</style>\n",
       "<table border=\"1\" class=\"dataframe\">\n",
       "  <thead>\n",
       "    <tr style=\"text-align: right;\">\n",
       "      <th></th>\n",
       "      <th>MONTH</th>\n",
       "      <th>TEMP</th>\n",
       "      <th>DEWP</th>\n",
       "      <th>SLP</th>\n",
       "      <th>VISIB</th>\n",
       "      <th>WDSP</th>\n",
       "      <th>MXSPD</th>\n",
       "      <th>MAX</th>\n",
       "      <th>MIN</th>\n",
       "      <th>PRCP</th>\n",
       "      <th>SNDP</th>\n",
       "      <th>SEASON</th>\n",
       "    </tr>\n",
       "  </thead>\n",
       "  <tbody>\n",
       "    <tr>\n",
       "      <th>0</th>\n",
       "      <td>1</td>\n",
       "      <td>47.6</td>\n",
       "      <td>38.1</td>\n",
       "      <td>1023.7</td>\n",
       "      <td>8.3</td>\n",
       "      <td>3.0</td>\n",
       "      <td>10.1</td>\n",
       "      <td>66.9</td>\n",
       "      <td>33.1</td>\n",
       "      <td>0.00</td>\n",
       "      <td>0.0</td>\n",
       "      <td>0</td>\n",
       "    </tr>\n",
       "    <tr>\n",
       "      <th>1</th>\n",
       "      <td>1</td>\n",
       "      <td>55.3</td>\n",
       "      <td>46.3</td>\n",
       "      <td>1024.2</td>\n",
       "      <td>9.5</td>\n",
       "      <td>4.8</td>\n",
       "      <td>14.0</td>\n",
       "      <td>70.0</td>\n",
       "      <td>33.1</td>\n",
       "      <td>0.00</td>\n",
       "      <td>0.0</td>\n",
       "      <td>0</td>\n",
       "    </tr>\n",
       "    <tr>\n",
       "      <th>2</th>\n",
       "      <td>1</td>\n",
       "      <td>62.6</td>\n",
       "      <td>55.4</td>\n",
       "      <td>1021.3</td>\n",
       "      <td>8.4</td>\n",
       "      <td>8.5</td>\n",
       "      <td>14.0</td>\n",
       "      <td>73.9</td>\n",
       "      <td>43.0</td>\n",
       "      <td>0.00</td>\n",
       "      <td>0.0</td>\n",
       "      <td>0</td>\n",
       "    </tr>\n",
       "    <tr>\n",
       "      <th>3</th>\n",
       "      <td>1</td>\n",
       "      <td>65.2</td>\n",
       "      <td>58.6</td>\n",
       "      <td>1014.4</td>\n",
       "      <td>9.5</td>\n",
       "      <td>15.3</td>\n",
       "      <td>28.0</td>\n",
       "      <td>73.9</td>\n",
       "      <td>55.0</td>\n",
       "      <td>0.00</td>\n",
       "      <td>0.0</td>\n",
       "      <td>0</td>\n",
       "    </tr>\n",
       "    <tr>\n",
       "      <th>4</th>\n",
       "      <td>1</td>\n",
       "      <td>45.7</td>\n",
       "      <td>30.9</td>\n",
       "      <td>1019.8</td>\n",
       "      <td>9.8</td>\n",
       "      <td>6.4</td>\n",
       "      <td>11.1</td>\n",
       "      <td>57.9</td>\n",
       "      <td>37.0</td>\n",
       "      <td>0.34</td>\n",
       "      <td>0.0</td>\n",
       "      <td>0</td>\n",
       "    </tr>\n",
       "  </tbody>\n",
       "</table>\n",
       "</div>"
      ],
      "text/plain": [
       "   MONTH  TEMP  DEWP     SLP  VISIB  WDSP  MXSPD   MAX   MIN  PRCP  SNDP  \\\n",
       "0      1  47.6  38.1  1023.7    8.3   3.0   10.1  66.9  33.1  0.00   0.0   \n",
       "1      1  55.3  46.3  1024.2    9.5   4.8   14.0  70.0  33.1  0.00   0.0   \n",
       "2      1  62.6  55.4  1021.3    8.4   8.5   14.0  73.9  43.0  0.00   0.0   \n",
       "3      1  65.2  58.6  1014.4    9.5  15.3   28.0  73.9  55.0  0.00   0.0   \n",
       "4      1  45.7  30.9  1019.8    9.8   6.4   11.1  57.9  37.0  0.34   0.0   \n",
       "\n",
       "   SEASON  \n",
       "0       0  \n",
       "1       0  \n",
       "2       0  \n",
       "3       0  \n",
       "4       0  "
      ]
     },
     "execution_count": 5,
     "metadata": {},
     "output_type": "execute_result"
    }
   ],
   "source": [
    "# peek at data\n",
    "weather_pd.head()"
   ]
  },
  {
   "cell_type": "markdown",
   "id": "5056fb65",
   "metadata": {},
   "source": [
    "## Glimpse the Data in 2D\n",
    "Our weather data contains 12 variables including information on temperatures, pressure, visibility, wind speed, precipitation, and more. We can summarize this data in 2D to get a sense of the general shape of the data. Below, we label our data by season and observe four fairly distinct regions of weather, but no clear separation between seasons. This lack of clear boundaries is to be expected, since seasons don't change overnight—some days will fall in the transition between seasons. However, these regions of overlap will be a challenge to our classifier model."
   ]
  },
  {
   "cell_type": "code",
   "execution_count": 9,
   "id": "fafe859f",
   "metadata": {},
   "outputs": [],
   "source": [
    "# summarize in 2D\n",
    "pca = PCA(n_components=2)\n",
    "weather_two = pca.fit_transform(standardize(weather_pd.to_numpy()))"
   ]
  },
  {
   "cell_type": "code",
   "execution_count": 10,
   "id": "c25a1028",
   "metadata": {},
   "outputs": [
    {
     "data": {
      "image/png": "[encoded data removed]",
      "text/plain": [
       "<Figure size 432x288 with 1 Axes>"
      ]
     },
     "metadata": {
      "needs_background": "light"
     },
     "output_type": "display_data"
    }
   ],
   "source": [
    "# plot 2D weather with colors by season\n",
    "# winter = purple, spring = blue, summer = green, fall = yellow\n",
    "plt.scatter(weather_two[:,0], weather_two[:,1], c=weather_pd['SEASON'])\n",
    "plt.xlabel('Principal Component 1')\n",
    "plt.ylabel('Principal Component 2');"
   ]
  },
  {
   "cell_type": "markdown",
   "id": "898944fb",
   "metadata": {},
   "source": [
    "## Divide into Test/Train and Validation Sets\n",
    "\n",
    "First, we divide the data into a test/train set and a validation set. We will build our model from the test/train set (90% of the data), then validate the accuracy of our model on weather that is entirely new to it by asking the model to classify the validation set (10% of the data). "
   ]
  },
  {
   "cell_type": "code",
   "execution_count": 11,
   "id": "30bccd0c",
   "metadata": {},
   "outputs": [],
   "source": [
    "# separate data into test/train and validation sets\n",
    "np.random.seed(888)\n",
    "weather_valid, weather_tt = divide_data(weather_pd)"
   ]
  },
  {
   "cell_type": "markdown",
   "id": "51950acd",
   "metadata": {},
   "source": [
    "## Cross-Validation for Model Selection\n",
    "\n",
    "Next, we use 10-fold cross validation on our test/train dataset to find the best model to fit the data. For each type of classifier (k-nearest neighbor, decision tree, and random forest), we build a model 10 times, training on a different 90% of the data each time and testing on the other 10%. Then, we average out the errors of those 10 tests to get the average testing error of each type of model (the cross-validation error)."
   ]
  },
  {
   "cell_type": "code",
   "execution_count": 13,
   "id": "13e8c1a7",
   "metadata": {},
   "outputs": [],
   "source": [
    "# get all cv errors for all combos of predictor features\n",
    "# for each method\n",
    "cv_errors = all_cv_errors(weather_tt, ['neighbor', 'tree', 'forest']) # excluding 'SVM'\n",
    "\n",
    "# store best combo of features\n",
    "best_method = cv_errors[0,0]\n",
    "lowest_cv_err = cv_errors[0,1]"
   ]
  },
  {
   "cell_type": "code",
   "execution_count": 14,
   "id": "6c9682d2",
   "metadata": {},
   "outputs": [
    {
     "name": "stdout",
     "output_type": "stream",
     "text": [
      "best model\n",
      "method:   tree\n",
      "error:    0.1369558553034948\n"
     ]
    }
   ],
   "source": [
    "# print best model\n",
    "print('best model')\n",
    "print('method:  ', best_method)\n",
    "print('error:   ', lowest_cv_err)"
   ]
  },
  {
   "cell_type": "markdown",
   "id": "a1b0d120",
   "metadata": {},
   "source": [
    "Since the decision tree classifier resulted in the lowest cross-validation error, we decide that this is the best model for our data.\n",
    "\n",
    "I built the `all_cv_errors()` function to perform cross validation for four types of classifier models, including a support vector machine (SVM) with a radial basis kernel. However, a SVM classifier did not seem appropriate for this particular dataset due to the lack of clear boundaries between seasons, even in higher dimensions, so I excluded SVM from this particular analysis. (I left the functionality for potential future use.)"
   ]
  },
  {
   "cell_type": "markdown",
   "id": "9ee8b141",
   "metadata": {},
   "source": [
    "## Build the Model\n",
    "\n",
    "Now that we have decided to use a decision tree classifier as our model, we build the model from the entire test/train dataset."
   ]
  },
  {
   "cell_type": "code",
   "execution_count": 15,
   "id": "6268b96e",
   "metadata": {},
   "outputs": [
    {
     "data": {
      "text/plain": [
       "DecisionTreeClassifier()"
      ]
     },
     "execution_count": 15,
     "metadata": {},
     "output_type": "execute_result"
    }
   ],
   "source": [
    "# build model from best features \n",
    "dt = DecisionTreeClassifier()\n",
    "dt.fit(weather_tt.iloc[:,:-1], weather_tt.iloc[:,-1]) # from all but the last column, predict last column"
   ]
  },
  {
   "cell_type": "markdown",
   "id": "c0d2510f",
   "metadata": {},
   "source": [
    "## Validate the Model\n",
    "\n",
    "To test the effectiveness of our model, we validate the model by asking it to predict the season for the new  days in the validation set. The model has never seen this 10% of the data before, but we hope that the model will perform as well on the new data (validation error) as it did during our model selection (cross-validation error)."
   ]
  },
  {
   "cell_type": "code",
   "execution_count": 11,
   "id": "1dd7d4d7",
   "metadata": {},
   "outputs": [],
   "source": [
    "# compute validation error\n",
    "val_preds = dt.predict(weather_valid.iloc[:,:-1])\n",
    "val_error = classification_mse(val_preds, weather_valid.iloc[:,-1])"
   ]
  },
  {
   "cell_type": "code",
   "execution_count": 12,
   "id": "49eb43aa",
   "metadata": {},
   "outputs": [
    {
     "name": "stdout",
     "output_type": "stream",
     "text": [
      "validation error:            0.12355212355212356\n",
      "best cross-validation error: 0.13524054772123442\n"
     ]
    }
   ],
   "source": [
    "print('validation error:           ', val_error)\n",
    "print('best cross-validation error:', lowest_cv_err)"
   ]
  },
  {
   "cell_type": "markdown",
   "id": "859db083",
   "metadata": {},
   "source": [
    "Since our validation error is similar to our cross-validation error, this model performs reasonably well on new data."
   ]
  },
  {
   "cell_type": "markdown",
   "id": "ca80370a",
   "metadata": {},
   "source": [
    "## Conclusion\n",
    "\n",
    "When we predicted seasons for our validation set, our decision tree model was only wrong 12.4% of the time—meaning it classified seasons correctly for 87.6% of our data, or about 10 1/2 months a year. While I wouldn't trust a 87.6% accuracy in more important decision-making scenarios, this is a very reasonable accuracy for our toy project of predicting the season of a day of weather. We would rarely see weather data without an associated day, so predicting the season of a day may not be so useful in practice; however, it's exciting to find that we can predict seasons reasonably accurately despite how North Carolina doesn't feel like it aligns with traditional seasonal boundaries. Perhaps, after all, North Carolina's seasons are more distinct than they seem.\n",
    "\n",
    "In future work, I would be curious to build a classifier based on the alternative 5-season model I built in the clustering project. It would be interesting to see if this classifier would be more accurate, since it is tailored to this dataset, or less accurate, since seasons are not as consecutive."
   ]
  }
 ],
 "metadata": {
  "kernelspec": {
   "display_name": "Python 3",
   "language": "python",
   "name": "python3"
  },
  "language_info": {
   "codemirror_mode": {
    "name": "ipython",
    "version": 3
   },
   "file_extension": ".py",
   "mimetype": "text/x-python",
   "name": "python",
   "nbconvert_exporter": "python",
   "pygments_lexer": "ipython3",
   "version": "3.7.10"
  }
 },
 "nbformat": 4,
 "nbformat_minor": 5
}
