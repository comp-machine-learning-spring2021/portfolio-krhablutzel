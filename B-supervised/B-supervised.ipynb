{
 "cells": [
  {
   "cell_type": "markdown",
   "id": "logical-senegal",
   "metadata": {},
   "source": [
    "## Building A Classifier to Predict NC Seasons"
   ]
  },
  {
   "cell_type": "code",
   "execution_count": 18,
   "id": "occupied-fashion",
   "metadata": {},
   "outputs": [],
   "source": [
    "%matplotlib inline\n",
    "import pandas as pd\n",
    "import numpy as np\n",
    "import matplotlib.pyplot as plt\n",
    "import seaborn as sns\n",
    "\n",
    "import itertools\n",
    "from sklearn.decomposition import PCA\n",
    "from sklearn.utils import shuffle\n",
    "from sklearn.svm import SVC\n",
    "from sklearn.neighbors import KNeighborsClassifier\n",
    "from sklearn.tree import DecisionTreeClassifier\n",
    "from sklearn.ensemble import RandomForestClassifier"
   ]
  },
  {
   "cell_type": "code",
   "execution_count": 19,
   "id": "grave-justice",
   "metadata": {},
   "outputs": [],
   "source": [
    "def divide_data(rent):\n",
    "    '''divide dataset into two sets: 90% test/train and 10% validation'''\n",
    "    n = rent.shape[0]\n",
    "    \n",
    "    # take out 10% of the data for validation\n",
    "    ind_valid = np.random.choice(n, size = n // 10, replace = False) # [6]\n",
    "    rent_valid = rent.iloc[ind_valid]\n",
    "\n",
    "    # take the other 90% for building the model\n",
    "    ind_tt = [x for x in range(n) if x not in ind_valid] # not in index [7]\n",
    "    rent_tt = rent.iloc[ind_tt]\n",
    "\n",
    "    # shuffle data for test/train so no patterns in folds [8]\n",
    "    rent_tt = shuffle(rent_tt)\n",
    "\n",
    "    return rent_valid, rent_tt\n",
    "\n",
    "def classification_mse(class_truth, pred_class):\n",
    "    '''compute classification mse'''\n",
    "    return np.mean(class_truth != pred_class)\n",
    "\n",
    "def cross_validation(data, method, k):    \n",
    "    '''k-fold cross-validation'''\n",
    "    # calculate fold divisions\n",
    "    n = data.shape[0]\n",
    "    n_predictors = data.shape[1] - 1\n",
    "    foldSize =  n // k # int divide\n",
    "    foldDivisions = [foldSize * x for x in range(k+1)]\n",
    "\n",
    "    # adjust for uneven fold size\n",
    "    if n % k != 0: \n",
    "        r = n % k # remainder\n",
    "        for i in range(1, k+1):\n",
    "            # add 1 + previous size increase to each group until r\n",
    "            # then just shift by r to account for previous size increases\n",
    "            foldDivisions[i] += min(i, r)\n",
    "\n",
    "    # divide into folds\n",
    "    folds = []\n",
    "    for i in range(k):\n",
    "        folds.append(data.iloc[foldDivisions[i]:foldDivisions[i+1], :])\n",
    "\n",
    "    # linear model w/ each fold as test once\n",
    "    test_errors = []\n",
    "\n",
    "    for i in range(k):\n",
    "        # get test fold\n",
    "        test = folds[i]\n",
    "\n",
    "        # combine other folds into training set\n",
    "        train_folds = folds.copy()\n",
    "        train_folds.pop(i)\n",
    "        train = pd.concat(train_folds) # concatenate folds [9]\n",
    "\n",
    "        if method == 'SVM':\n",
    "            # fit SVM to training data\n",
    "            mod = SVC(kernel=\"rbf\")\n",
    "        elif method == 'neighbor':\n",
    "            # fit SVM to training data\n",
    "            mod = KNeighborsClassifier(n_neighbors = 9)\n",
    "        elif method == 'tree':\n",
    "            # fit decision tree to training data\n",
    "            mod = DecisionTreeClassifier()\n",
    "        elif method == 'forest':\n",
    "            # build random forest classifier for training data\n",
    "            mod = RandomForestClassifier(n_estimators=10, max_features = min(3, n_predictors), max_depth=3, random_state=0)\n",
    "        \n",
    "        mod.fit(train.iloc[:,:-1], train.iloc[:,-1]) # class var in last column\n",
    "        \n",
    "        # compute testing error\n",
    "        test_preds = mod.predict(test.iloc[:,:-1])\n",
    "        test_error = classification_mse(test_preds, test.iloc[:,-1])\n",
    "        test_errors.append(test_error)\n",
    "\n",
    "    # cross validation error - avg of test errors\n",
    "    cross_val_error = np.mean(test_errors)\n",
    "    \n",
    "    return cross_val_error\n",
    "\n",
    "def all_cv_errors(rent_tt, methods):\n",
    "    '''get cross-validation error for all possible models'''\n",
    "    cv_errors = []     \n",
    "    # test each possible model type\n",
    "    for method in methods:\n",
    "        # compute cross-validation error\n",
    "        cv_err = cross_validation(rent_tt, method, 10)\n",
    "\n",
    "        # store errors\n",
    "        cv_errors.append([method, cv_err])\n",
    "                \n",
    "    # sort cv errors w/ lowest in first row\n",
    "    cv_err_np = np.array(cv_errors, dtype=object)\n",
    "    cv_err_np = cv_err_np[np.argsort(cv_err_np[:,1])]\n",
    "    return cv_err_np"
   ]
  },
  {
   "cell_type": "code",
   "execution_count": 20,
   "id": "relevant-plant",
   "metadata": {},
   "outputs": [],
   "source": [
    "# TODO: Make .py for importing standardize()?\n",
    "def standardize(data):\n",
    "    '''Standardize a dataframe'''\n",
    "    mean_vec = np.mean(data, axis=0)\n",
    "    sd_vec = np.std(data, axis=0)\n",
    "\n",
    "    data_std = data.copy()\n",
    "    for i in range(data.shape[1]): # for every column\n",
    "        data_std[:,i] = (data[:,i] - mean_vec[i]*np.ones(data.shape[0]))/sd_vec[i]\n",
    "        \n",
    "    return data_std"
   ]
  },
  {
   "cell_type": "code",
   "execution_count": 21,
   "id": "above-general",
   "metadata": {},
   "outputs": [],
   "source": [
    "# import data\n",
    "weather_pd = pd.read_csv('../data/weather.csv', index_col = 0)\n",
    "weather_pd = weather_pd.drop(['YEAR', 'DAY', 'STP', 'GUST'], axis=1) # remove faulty columns and some temporal indicators\n",
    "\n",
    "# drop station pressure bc redundant with sea level and not collected in 2000, 2002, 2004\n",
    "# and drop max gust because missing for half the days and somewhat redundant w/ mxspd"
   ]
  },
  {
   "cell_type": "code",
   "execution_count": 22,
   "id": "subjective-brush",
   "metadata": {},
   "outputs": [],
   "source": [
    "# move seasons (classes) to last column\n",
    "columns = list(weather_pd.columns)\n",
    "columns.remove('SEASON')\n",
    "columns.append('SEASON')\n",
    "weather_pd = weather_pd[columns]"
   ]
  },
  {
   "cell_type": "code",
   "execution_count": 23,
   "id": "through-measurement",
   "metadata": {},
   "outputs": [
    {
     "data": {
      "text/html": [
       "<div>\n",
       "<style scoped>\n",
       "    .dataframe tbody tr th:only-of-type {\n",
       "        vertical-align: middle;\n",
       "    }\n",
       "\n",
       "    .dataframe tbody tr th {\n",
       "        vertical-align: top;\n",
       "    }\n",
       "\n",
       "    .dataframe thead th {\n",
       "        text-align: right;\n",
       "    }\n",
       "</style>\n",
       "<table border=\"1\" class=\"dataframe\">\n",
       "  <thead>\n",
       "    <tr style=\"text-align: right;\">\n",
       "      <th></th>\n",
       "      <th>MONTH</th>\n",
       "      <th>TEMP</th>\n",
       "      <th>DEWP</th>\n",
       "      <th>SLP</th>\n",
       "      <th>VISIB</th>\n",
       "      <th>WDSP</th>\n",
       "      <th>MXSPD</th>\n",
       "      <th>MAX</th>\n",
       "      <th>MIN</th>\n",
       "      <th>PRCP</th>\n",
       "      <th>SNDP</th>\n",
       "      <th>SEASON</th>\n",
       "    </tr>\n",
       "  </thead>\n",
       "  <tbody>\n",
       "    <tr>\n",
       "      <th>0</th>\n",
       "      <td>1</td>\n",
       "      <td>47.6</td>\n",
       "      <td>38.1</td>\n",
       "      <td>1023.7</td>\n",
       "      <td>8.3</td>\n",
       "      <td>3.0</td>\n",
       "      <td>10.1</td>\n",
       "      <td>66.9</td>\n",
       "      <td>33.1</td>\n",
       "      <td>0.00</td>\n",
       "      <td>0.0</td>\n",
       "      <td>0</td>\n",
       "    </tr>\n",
       "    <tr>\n",
       "      <th>1</th>\n",
       "      <td>1</td>\n",
       "      <td>55.3</td>\n",
       "      <td>46.3</td>\n",
       "      <td>1024.2</td>\n",
       "      <td>9.5</td>\n",
       "      <td>4.8</td>\n",
       "      <td>14.0</td>\n",
       "      <td>70.0</td>\n",
       "      <td>33.1</td>\n",
       "      <td>0.00</td>\n",
       "      <td>0.0</td>\n",
       "      <td>0</td>\n",
       "    </tr>\n",
       "    <tr>\n",
       "      <th>2</th>\n",
       "      <td>1</td>\n",
       "      <td>62.6</td>\n",
       "      <td>55.4</td>\n",
       "      <td>1021.3</td>\n",
       "      <td>8.4</td>\n",
       "      <td>8.5</td>\n",
       "      <td>14.0</td>\n",
       "      <td>73.9</td>\n",
       "      <td>43.0</td>\n",
       "      <td>0.00</td>\n",
       "      <td>0.0</td>\n",
       "      <td>0</td>\n",
       "    </tr>\n",
       "    <tr>\n",
       "      <th>3</th>\n",
       "      <td>1</td>\n",
       "      <td>65.2</td>\n",
       "      <td>58.6</td>\n",
       "      <td>1014.4</td>\n",
       "      <td>9.5</td>\n",
       "      <td>15.3</td>\n",
       "      <td>28.0</td>\n",
       "      <td>73.9</td>\n",
       "      <td>55.0</td>\n",
       "      <td>0.00</td>\n",
       "      <td>0.0</td>\n",
       "      <td>0</td>\n",
       "    </tr>\n",
       "    <tr>\n",
       "      <th>4</th>\n",
       "      <td>1</td>\n",
       "      <td>45.7</td>\n",
       "      <td>30.9</td>\n",
       "      <td>1019.8</td>\n",
       "      <td>9.8</td>\n",
       "      <td>6.4</td>\n",
       "      <td>11.1</td>\n",
       "      <td>57.9</td>\n",
       "      <td>37.0</td>\n",
       "      <td>0.34</td>\n",
       "      <td>0.0</td>\n",
       "      <td>0</td>\n",
       "    </tr>\n",
       "  </tbody>\n",
       "</table>\n",
       "</div>"
      ],
      "text/plain": [
       "   MONTH  TEMP  DEWP     SLP  VISIB  WDSP  MXSPD   MAX   MIN  PRCP  SNDP  \\\n",
       "0      1  47.6  38.1  1023.7    8.3   3.0   10.1  66.9  33.1  0.00   0.0   \n",
       "1      1  55.3  46.3  1024.2    9.5   4.8   14.0  70.0  33.1  0.00   0.0   \n",
       "2      1  62.6  55.4  1021.3    8.4   8.5   14.0  73.9  43.0  0.00   0.0   \n",
       "3      1  65.2  58.6  1014.4    9.5  15.3   28.0  73.9  55.0  0.00   0.0   \n",
       "4      1  45.7  30.9  1019.8    9.8   6.4   11.1  57.9  37.0  0.34   0.0   \n",
       "\n",
       "   SEASON  \n",
       "0       0  \n",
       "1       0  \n",
       "2       0  \n",
       "3       0  \n",
       "4       0  "
      ]
     },
     "execution_count": 23,
     "metadata": {},
     "output_type": "execute_result"
    }
   ],
   "source": [
    "weather_pd.head()"
   ]
  },
  {
   "cell_type": "markdown",
   "id": "existing-pioneer",
   "metadata": {},
   "source": [
    "## Divide into Test/Train and Validation"
   ]
  },
  {
   "cell_type": "code",
   "execution_count": 26,
   "id": "unknown-kingdom",
   "metadata": {},
   "outputs": [],
   "source": [
    "# separate data into test/train and validation sets\n",
    "np.random.seed(888)\n",
    "weather_valid, weather_tt = divide_data(weather_pd)"
   ]
  },
  {
   "cell_type": "markdown",
   "id": "decent-tampa",
   "metadata": {},
   "source": [
    "## Cross-Validation for Model Selection"
   ]
  },
  {
   "cell_type": "code",
   "execution_count": 27,
   "id": "atlantic-consolidation",
   "metadata": {},
   "outputs": [],
   "source": [
    "# get all cv errors for all combos of predictor features\n",
    "# for each method\n",
    "cv_errors = all_cv_errors(weather_tt, ['neighbor', 'tree', 'forest']) # excluding 'SVM'\n",
    "\n",
    "# store best combo of features\n",
    "best_method = cv_errors[0,0]\n",
    "lowest_cv_err = cv_errors[0,1]"
   ]
  },
  {
   "cell_type": "code",
   "execution_count": 31,
   "id": "competitive-banana",
   "metadata": {},
   "outputs": [
    {
     "name": "stdout",
     "output_type": "stream",
     "text": [
      "best model\n",
      "method:   tree\n",
      "error:    0.13524054772123442\n"
     ]
    }
   ],
   "source": [
    "# print best model\n",
    "print('best model')\n",
    "print('method:  ', best_method)\n",
    "print('error:   ', lowest_cv_err)"
   ]
  },
  {
   "cell_type": "markdown",
   "id": "crazy-turtle",
   "metadata": {},
   "source": [
    "## Build Model"
   ]
  },
  {
   "cell_type": "code",
   "execution_count": 32,
   "id": "romance-extraction",
   "metadata": {},
   "outputs": [
    {
     "data": {
      "text/plain": [
       "DecisionTreeClassifier(ccp_alpha=0.0, class_weight=None, criterion='gini',\n",
       "                       max_depth=None, max_features=None, max_leaf_nodes=None,\n",
       "                       min_impurity_decrease=0.0, min_impurity_split=None,\n",
       "                       min_samples_leaf=1, min_samples_split=2,\n",
       "                       min_weight_fraction_leaf=0.0, presort='deprecated',\n",
       "                       random_state=None, splitter='best')"
      ]
     },
     "execution_count": 32,
     "metadata": {},
     "output_type": "execute_result"
    }
   ],
   "source": [
    "# build model from best features \n",
    "dt = DecisionTreeClassifier()\n",
    "dt.fit(weather_tt.iloc[:,:-1], weather_tt.iloc[:,-1])"
   ]
  },
  {
   "cell_type": "markdown",
   "id": "african-burning",
   "metadata": {},
   "source": [
    "## Validate Model"
   ]
  },
  {
   "cell_type": "code",
   "execution_count": 33,
   "id": "floral-small",
   "metadata": {},
   "outputs": [],
   "source": [
    "# compute validation error\n",
    "val_preds = dt.predict(weather_valid.iloc[:,:-1])\n",
    "val_error = classification_mse(val_preds, weather_valid.iloc[:,-1])"
   ]
  },
  {
   "cell_type": "code",
   "execution_count": 34,
   "id": "abstract-medicine",
   "metadata": {},
   "outputs": [
    {
     "name": "stdout",
     "output_type": "stream",
     "text": [
      "validation error:            0.11325611325611326\n",
      "best cross-validation error: 0.13524054772123442\n"
     ]
    }
   ],
   "source": [
    "print('validation error:           ', val_error)\n",
    "print('best cross-validation error:', lowest_cv_err)"
   ]
  },
  {
   "cell_type": "markdown",
   "id": "generous-tooth",
   "metadata": {},
   "source": [
    "## Plot Validation Predicted Classes in 2D"
   ]
  },
  {
   "cell_type": "code",
   "execution_count": 39,
   "id": "universal-public",
   "metadata": {},
   "outputs": [],
   "source": [
    "# convert to numpy and remove class column\n",
    "valid_np = weather_valid.to_numpy()[:, :-1]\n",
    "valid_std = standardize(valid_np)"
   ]
  },
  {
   "cell_type": "code",
   "execution_count": 40,
   "id": "closing-supplement",
   "metadata": {},
   "outputs": [],
   "source": [
    "# (for plotting)\n",
    "pca = PCA(n_components=2)\n",
    "valid_two = pca.fit_transform(valid_std)"
   ]
  },
  {
   "cell_type": "code",
   "execution_count": 41,
   "id": "activated-roommate",
   "metadata": {},
   "outputs": [
    {
     "data": {
      "text/plain": [
       "<matplotlib.collections.PathCollection at 0x7feebf14f3a0>"
      ]
     },
     "execution_count": 41,
     "metadata": {},
     "output_type": "execute_result"
    },
    {
     "data": {
      "image/png": "[encoded data removed]",
      "text/plain": [
       "<Figure size 432x288 with 1 Axes>"
      ]
     },
     "metadata": {
      "needs_background": "light"
     },
     "output_type": "display_data"
    }
   ],
   "source": [
    "plt.scatter(valid_two[:,0], valid_two[:,1], c=val_preds, s=50, cmap=\"spring\")"
   ]
  }
 ],
 "metadata": {
  "kernelspec": {
   "display_name": "Python 3",
   "language": "python",
   "name": "python3"
  },
  "language_info": {
   "codemirror_mode": {
    "name": "ipython",
    "version": 3
   },
   "file_extension": ".py",
   "mimetype": "text/x-python",
   "name": "python",
   "nbconvert_exporter": "python",
   "pygments_lexer": "ipython3",
   "version": "3.8.2"
  }
 },
 "nbformat": 4,
 "nbformat_minor": 5
}
